{
  "nbformat": 4,
  "nbformat_minor": 0,
  "metadata": {
    "kernelspec": {
      "display_name": "Python 3",
      "language": "python",
      "name": "python3"
    },
    "language_info": {
      "codemirror_mode": {
        "name": "ipython",
        "version": 3
      },
      "file_extension": ".py",
      "mimetype": "text/x-python",
      "name": "python",
      "nbconvert_exporter": "python",
      "pygments_lexer": "ipython3",
      "version": "3.8.5"
    },
    "colab": {
      "name": "Assignment1.ipynb",
      "provenance": [],
      "collapsed_sections": [
        "3RnodDZiAePo",
        "Sa-BID_2AePq",
        "MH83Eb4NAePs",
        "EO5YUZU-AePu",
        "rXq_BrA5AePw",
        "63jPbONjAePx",
        "po8YujUlAePy",
        "c5o9iRs4AePz",
        "E0-iRLduAeP0",
        "cqCYDG0EAeP1",
        "Ax9RrQCrAeP2",
        "NojTOJ05AeP_",
        "dp5W58_sAeQB",
        "MfixLwyBAeQD",
        "3R8aXusEAeQD",
        "iXse-E35AeQO",
        "Ziql94lWAeQO",
        "uhu5G7dbAeQS",
        "B67agxX7AeQT",
        "Jan5ymlaAeQZ",
        "YWVLP1m_AeQZ",
        "-L3vZVrpAeQZ",
        "kFcvGKQUAeQa",
        "p2vnJg_LAeQa",
        "zJrQ66-XAeQa",
        "j3SEFplfAeQb",
        "IcJrLwaoAeQb",
        "wLI3G4RWAeQb"
      ],
      "include_colab_link": true
    }
  },
  "cells": [
    {
      "cell_type": "markdown",
      "metadata": {
        "id": "view-in-github",
        "colab_type": "text"
      },
      "source": [
        "<a href=\"https://colab.research.google.com/github/aikbal/CMI_DMML_Assignment/blob/code_branch/notebooks/Assignment1.ipynb\" target=\"_parent\"><img src=\"https://colab.research.google.com/assets/colab-badge.svg\" alt=\"Open In Colab\"/></a>"
      ]
    },
    {
      "cell_type": "markdown",
      "metadata": {
        "id": "y7cYYomvAePb"
      },
      "source": [
        "## Group Details:\n",
        "    Asif Ikbal: MDS202012\n",
        "    Chandrashish Prasad: MDS202015"
      ]
    },
    {
      "cell_type": "code",
      "metadata": {
        "id": "mxFlj_lbAePg"
      },
      "source": [
        "import pandas as pd\n",
        "import numpy as np\n",
        "import seaborn as sns\n",
        "import matplotlib.pyplot as plt\n",
        "import graphviz\n",
        "# https://pandas.pydata.org/pandas-docs/stable/reference/api/pandas.DataFrame.drop.html"
      ],
      "execution_count": 122,
      "outputs": []
    },
    {
      "cell_type": "code",
      "metadata": {
        "id": "7TEQS6E8AePi"
      },
      "source": [
        "from sklearn.tree import DecisionTreeClassifier\n",
        "from sklearn.ensemble import RandomForestClassifier\n",
        "from sklearn.naive_bayes import GaussianNB\n",
        "from sklearn.model_selection import train_test_split\n",
        "from sklearn.preprocessing import RobustScaler\n",
        "from sklearn.metrics import accuracy_score\n",
        "from sklearn import preprocessing\n",
        "from sklearn.model_selection import GridSearchCV\n",
        "from tabulate import tabulate\n",
        "from sklearn import tree\n",
        "from sklearn.metrics import confusion_matrix, ConfusionMatrixDisplay\n",
        "from sklearn.metrics import precision_score  #tp / (tp + fp)\n",
        "from sklearn.metrics import f1_score         #F1 = 2 * (precision * recall) / (precision + recall)\n",
        "from sklearn.metrics import recall_score     #tp / (tp + fn)\n",
        "from sklearn.metrics import roc_auc_score    #Area under Recall() V/s (1-specificity)\n",
        "\n",
        "# https://scikit-learn.org/stable/modules/generated/sklearn.tree.DecisionTreeClassifier.html"
      ],
      "execution_count": 125,
      "outputs": []
    },
    {
      "cell_type": "code",
      "metadata": {
        "id": "Zf5KMTYBAePk"
      },
      "source": [
        "path = \"https://raw.githubusercontent.com/aikbal/CMI_DMML_Assignment/main/data/bank-data/bank-additional-full.csv\"\n",
        "data = pd.read_csv(path,sep=\";\")"
      ],
      "execution_count": 5,
      "outputs": []
    },
    {
      "cell_type": "code",
      "metadata": {
        "colab": {
          "base_uri": "https://localhost:8080/"
        },
        "id": "YOmN6AKNAePl",
        "outputId": "13cdce30-6b4b-41b0-ffd5-983c091d0a5f"
      },
      "source": [
        "data.shape"
      ],
      "execution_count": 6,
      "outputs": [
        {
          "output_type": "execute_result",
          "data": {
            "text/plain": [
              "(41188, 21)"
            ]
          },
          "metadata": {},
          "execution_count": 6
        }
      ]
    },
    {
      "cell_type": "markdown",
      "metadata": {
        "id": "3RnodDZiAePo"
      },
      "source": [
        "### Dropping Duplicate Rows"
      ]
    },
    {
      "cell_type": "code",
      "metadata": {
        "id": "Ldnp73HzAePp"
      },
      "source": [
        "data = data.drop_duplicates()"
      ],
      "execution_count": 7,
      "outputs": []
    },
    {
      "cell_type": "markdown",
      "metadata": {
        "id": "Sa-BID_2AePq"
      },
      "source": [
        "### Dropping the duration column as its value is known after the client saying yes or no and it is highly correlated with outcome."
      ]
    },
    {
      "cell_type": "code",
      "metadata": {
        "id": "b2PNCxJhAePr"
      },
      "source": [
        "data.drop(labels=\"duration\",axis=1,inplace=True)       "
      ],
      "execution_count": 8,
      "outputs": []
    },
    {
      "cell_type": "markdown",
      "metadata": {
        "id": "MH83Eb4NAePs"
      },
      "source": [
        "_____________________\n",
        "# EDA to study the effect of some significant feature by frequency observation:"
      ]
    },
    {
      "cell_type": "code",
      "metadata": {
        "id": "MFmdaAY0AePt"
      },
      "source": [
        "df = data\n",
        "categorical = [var for var in df.columns if df[var].dtype=='O']   "
      ],
      "execution_count": 9,
      "outputs": []
    },
    {
      "cell_type": "markdown",
      "metadata": {
        "id": "EO5YUZU-AePu"
      },
      "source": [
        "### List of categorical features in the data"
      ]
    },
    {
      "cell_type": "code",
      "metadata": {
        "colab": {
          "base_uri": "https://localhost:8080/"
        },
        "id": "E93bro5GAePv",
        "outputId": "bf2270d2-a5bd-4c14-9b40-2cb40626de73"
      },
      "source": [
        "categorical"
      ],
      "execution_count": 10,
      "outputs": [
        {
          "output_type": "execute_result",
          "data": {
            "text/plain": [
              "['job',\n",
              " 'marital',\n",
              " 'education',\n",
              " 'default',\n",
              " 'housing',\n",
              " 'loan',\n",
              " 'contact',\n",
              " 'month',\n",
              " 'day_of_week',\n",
              " 'poutcome',\n",
              " 'y']"
            ]
          },
          "metadata": {},
          "execution_count": 10
        }
      ]
    },
    {
      "cell_type": "markdown",
      "metadata": {
        "id": "rXq_BrA5AePw"
      },
      "source": [
        "___________________________\n",
        "### Checking the contribution of categories of each categorical feature"
      ]
    },
    {
      "cell_type": "code",
      "metadata": {
        "colab": {
          "base_uri": "https://localhost:8080/"
        },
        "id": "L4PjdEc-AePw",
        "outputId": "8c0dc8ff-82a5-4e8f-c121-1142a396ce67"
      },
      "source": [
        "for var in categorical:                            #Checking the contribution of categories of each categorical feature\n",
        "    print(df[var].value_counts()/np.float(len(df)))\n",
        "    print(\"____________________________\")"
      ],
      "execution_count": 11,
      "outputs": [
        {
          "output_type": "stream",
          "name": "stdout",
          "text": [
            "admin.           0.253036\n",
            "blue-collar      0.224718\n",
            "technician       0.163663\n",
            "services         0.096343\n",
            "management       0.071012\n",
            "retired          0.041723\n",
            "entrepreneur     0.035360\n",
            "self-employed    0.034510\n",
            "housemaid        0.025743\n",
            "unemployed       0.024626\n",
            "student          0.021250\n",
            "unknown          0.008014\n",
            "Name: job, dtype: float64\n",
            "____________________________\n",
            "married     0.605231\n",
            "single      0.280843\n",
            "divorced    0.111983\n",
            "unknown     0.001943\n",
            "Name: marital, dtype: float64\n",
            "____________________________\n",
            "university.degree      0.295415\n",
            "high.school            0.231008\n",
            "basic.9y               0.146809\n",
            "professional.course    0.127259\n",
            "basic.4y               0.101418\n",
            "basic.6y               0.055639\n",
            "unknown                0.042015\n",
            "illiterate             0.000437\n",
            "Name: education, dtype: float64\n",
            "____________________________\n",
            "no         0.791165\n",
            "unknown    0.208762\n",
            "yes        0.000073\n",
            "Name: default, dtype: float64\n",
            "____________________________\n",
            "yes        0.523873\n",
            "no         0.452084\n",
            "unknown    0.024043\n",
            "Name: housing, dtype: float64\n",
            "____________________________\n",
            "no         0.824218\n",
            "yes        0.151739\n",
            "unknown    0.024043\n",
            "Name: loan, dtype: float64\n",
            "____________________________\n",
            "cellular     0.634714\n",
            "telephone    0.365286\n",
            "Name: contact, dtype: float64\n",
            "____________________________\n",
            "may    0.334345\n",
            "jul    0.174106\n",
            "aug    0.149990\n",
            "jun    0.129153\n",
            "nov    0.099573\n",
            "apr    0.063896\n",
            "oct    0.017413\n",
            "sep    0.013843\n",
            "mar    0.013260\n",
            "dec    0.004420\n",
            "Name: month, dtype: float64\n",
            "____________________________\n",
            "thu    0.209297\n",
            "mon    0.206722\n",
            "wed    0.197542\n",
            "tue    0.196377\n",
            "fri    0.190062\n",
            "Name: day_of_week, dtype: float64\n",
            "____________________________\n",
            "nonexistent    0.863391\n",
            "failure        0.103264\n",
            "success        0.033345\n",
            "Name: poutcome, dtype: float64\n",
            "____________________________\n",
            "no     0.887337\n",
            "yes    0.112663\n",
            "Name: y, dtype: float64\n",
            "____________________________\n"
          ]
        }
      ]
    },
    {
      "cell_type": "markdown",
      "metadata": {
        "id": "63jPbONjAePx"
      },
      "source": [
        "### We observe that 60% clients in the data are married. So, checking if married people are more inclined towards subscribing term deposit"
      ]
    },
    {
      "cell_type": "code",
      "metadata": {
        "colab": {
          "base_uri": "https://localhost:8080/"
        },
        "id": "URL5CxOjAePx",
        "outputId": "a2ab5b8a-411d-4831-bc83-ef662d1d0cdc"
      },
      "source": [
        "df_married = df[df[\"marital\"]==\"married\"]\n",
        "df_married[df_married[\"y\"]==\"yes\"].count()[0]/df[df[\"y\"]==\"yes\"].count()[0], df_married[df_married[\"y\"]==\"yes\"].count()[0]/df_married.count()[0]"
      ],
      "execution_count": 12,
      "outputs": [
        {
          "output_type": "execute_result",
          "data": {
            "text/plain": [
              "(0.5455917223539556, 0.10156093254684805)"
            ]
          },
          "metadata": {},
          "execution_count": 12
        }
      ]
    },
    {
      "cell_type": "markdown",
      "metadata": {
        "id": "po8YujUlAePy"
      },
      "source": [
        "#### This suggests that the 60 percent married people contribute to 54% of the total positive conversions\n",
        "#However, only 10% of the married people were positive conversions which almost follows the actual positive conversion ratio.\n",
        "_______________________________________________________________________________________"
      ]
    },
    {
      "cell_type": "markdown",
      "metadata": {
        "id": "c5o9iRs4AePz"
      },
      "source": [
        "### Again we observe that 82% of the client in the data dont have loan. So, checking if no loan people are more inclined towards subscribing term deposit"
      ]
    },
    {
      "cell_type": "code",
      "metadata": {
        "colab": {
          "base_uri": "https://localhost:8080/"
        },
        "id": "omZV6ndhAePz",
        "outputId": "66e697b0-5523-4473-96c1-f8f522d441f1"
      },
      "source": [
        "df_loan = df[df[\"loan\"]==\"no\"]\n",
        "df_loan[df_loan[\"y\"]==\"yes\"].count()[0]/df[df[\"y\"]==\"yes\"].count()[0], df_loan[df_loan[\"y\"]==\"yes\"].count()[0]/df_loan.count()[0]"
      ],
      "execution_count": 13,
      "outputs": [
        {
          "output_type": "execute_result",
          "data": {
            "text/plain": [
              "(0.8297046777322699, 0.11341269373563558)"
            ]
          },
          "metadata": {},
          "execution_count": 13
        }
      ]
    },
    {
      "cell_type": "markdown",
      "metadata": {
        "id": "E0-iRLduAeP0"
      },
      "source": [
        "#### This suggests that the 82 % of people with no loan contribute to 82% of the total positive conversions\n",
        "#However, only 11% of the no loan people were positive conversions which almost follows the actual positive conversion ratio.\n",
        "__________________________________________________________________________________________________________"
      ]
    },
    {
      "cell_type": "markdown",
      "metadata": {
        "id": "cqCYDG0EAeP1"
      },
      "source": [
        "### Checking the cardinality of each feature:"
      ]
    },
    {
      "cell_type": "code",
      "metadata": {
        "colab": {
          "base_uri": "https://localhost:8080/"
        },
        "id": "Q5XXDh5WAeP1",
        "outputId": "8a824a63-6205-4b35-93dd-dae5ffea11b6"
      },
      "source": [
        "for var in categorical:           #Checking the cardinality of each feature.\n",
        "    print(var, ' contains ', len(df[var].unique()), ' labels')"
      ],
      "execution_count": 14,
      "outputs": [
        {
          "output_type": "stream",
          "name": "stdout",
          "text": [
            "job  contains  12  labels\n",
            "marital  contains  4  labels\n",
            "education  contains  8  labels\n",
            "default  contains  3  labels\n",
            "housing  contains  3  labels\n",
            "loan  contains  3  labels\n",
            "contact  contains  2  labels\n",
            "month  contains  10  labels\n",
            "day_of_week  contains  5  labels\n",
            "poutcome  contains  3  labels\n",
            "y  contains  2  labels\n"
          ]
        }
      ]
    },
    {
      "cell_type": "markdown",
      "metadata": {
        "id": "Ax9RrQCrAeP2"
      },
      "source": [
        "_____________________________________________\n",
        "### The numerical features:"
      ]
    },
    {
      "cell_type": "code",
      "metadata": {
        "colab": {
          "base_uri": "https://localhost:8080/"
        },
        "id": "C7o58VQ8AeP3",
        "outputId": "c9dbda22-6d4e-419a-b2d4-79e1d0e7e1f0"
      },
      "source": [
        "numerical = [var for var in df.columns if df[var].dtype!='O']                 \n",
        "print('There are {} numerical variables\\n'.format(len(numerical)))\n",
        "print('The numerical variables are :', numerical)"
      ],
      "execution_count": 15,
      "outputs": [
        {
          "output_type": "stream",
          "name": "stdout",
          "text": [
            "There are 9 numerical variables\n",
            "\n",
            "The numerical variables are : ['age', 'campaign', 'pdays', 'previous', 'emp.var.rate', 'cons.price.idx', 'cons.conf.idx', 'euribor3m', 'nr.employed']\n"
          ]
        }
      ]
    },
    {
      "cell_type": "markdown",
      "metadata": {
        "id": "9rrPBMYsAeP4"
      },
      "source": [
        "# Preparing the data for model:"
      ]
    },
    {
      "cell_type": "code",
      "metadata": {
        "colab": {
          "base_uri": "https://localhost:8080/"
        },
        "id": "2d9tTI6nAeP4",
        "outputId": "180e99e6-edef-43e8-aba1-b7106c47521f"
      },
      "source": [
        "data.shape, data[data[\"y\"]==\"yes\"].count()[0]/ data[data[\"y\"]==\"no\"].count()[0]   #Only 12 percent yes"
      ],
      "execution_count": 36,
      "outputs": [
        {
          "output_type": "execute_result",
          "data": {
            "text/plain": [
              "((41176, 20), 0.12696718395051593)"
            ]
          },
          "metadata": {},
          "execution_count": 36
        }
      ]
    },
    {
      "cell_type": "code",
      "metadata": {
        "id": "b8yXdyDkAeP4"
      },
      "source": [
        "Y = data[\"y\"]\n",
        "X = data.drop(labels=\"y\", axis = 1)"
      ],
      "execution_count": 37,
      "outputs": []
    },
    {
      "cell_type": "code",
      "metadata": {
        "id": "OU6xkW9jAeP5"
      },
      "source": [
        "X_dum = pd.get_dummies(X)"
      ],
      "execution_count": 38,
      "outputs": []
    },
    {
      "cell_type": "code",
      "metadata": {
        "colab": {
          "base_uri": "https://localhost:8080/"
        },
        "id": "zvzV5arHAeP5",
        "outputId": "e2cdbeea-6658-4246-f9a9-130c58b090b1"
      },
      "source": [
        "X_dum.shape, len(Y)"
      ],
      "execution_count": 39,
      "outputs": [
        {
          "output_type": "execute_result",
          "data": {
            "text/plain": [
              "((41176, 62), 41176)"
            ]
          },
          "metadata": {},
          "execution_count": 39
        }
      ]
    },
    {
      "cell_type": "code",
      "metadata": {
        "colab": {
          "base_uri": "https://localhost:8080/"
        },
        "id": "U-2RbMERAeP6",
        "outputId": "84b6e97b-b70a-4aeb-9944-acb5e96e9d62"
      },
      "source": [
        "le = preprocessing.LabelEncoder()\n",
        "le.fit([\"yes\",\"no\"])\n",
        "Y_num = le.transform(Y)\n",
        "print(le.inverse_transform([0,0,1]))\n",
        "print(le.classes_)"
      ],
      "execution_count": 40,
      "outputs": [
        {
          "output_type": "stream",
          "name": "stdout",
          "text": [
            "['no' 'no' 'yes']\n",
            "['no' 'yes']\n"
          ]
        }
      ]
    },
    {
      "cell_type": "code",
      "metadata": {
        "colab": {
          "base_uri": "https://localhost:8080/"
        },
        "id": "ZwFd1fUuAeP6",
        "outputId": "87c6986d-265c-49b0-fcdd-f36ccdd217c6"
      },
      "source": [
        "type(Y.values), type(Y_num)"
      ],
      "execution_count": 41,
      "outputs": [
        {
          "output_type": "execute_result",
          "data": {
            "text/plain": [
              "(numpy.ndarray, numpy.ndarray)"
            ]
          },
          "metadata": {},
          "execution_count": 41
        }
      ]
    },
    {
      "cell_type": "code",
      "metadata": {
        "id": "uE0xxwpCAeP8"
      },
      "source": [
        "for i in range(len(Y)):    #cross-checking if any mismatch\n",
        "    if not((Y.values[i]==\"yes\" and Y_num[i]==1)or(Y.values[i]==\"no\" and Y_num[i]==0)):\n",
        "        print(\"error\")"
      ],
      "execution_count": 42,
      "outputs": []
    },
    {
      "cell_type": "code",
      "metadata": {
        "id": "HWvL7d7kAeP8"
      },
      "source": [
        "X_train, X_test, y_train, y_test = train_test_split(X_dum, Y_num, test_size=0.2, random_state=42, stratify=Y_num)"
      ],
      "execution_count": 43,
      "outputs": []
    },
    {
      "cell_type": "code",
      "metadata": {
        "colab": {
          "base_uri": "https://localhost:8080/"
        },
        "id": "4Atz8d5zAeP8",
        "outputId": "dd8a79f3-9d4c-4343-9c6a-471289d7cdf9"
      },
      "source": [
        "labels = list(X_test.columns)\n",
        "for i in labels:\n",
        "    if \"unknown\" in i:\n",
        "        c = X_test[X_test[i]==1].count()[0]\n",
        "        print(i,\" :unknowns-> \",c)"
      ],
      "execution_count": 44,
      "outputs": [
        {
          "output_type": "stream",
          "name": "stdout",
          "text": [
            "job_unknown  :unknowns->  63\n",
            "marital_unknown  :unknowns->  12\n",
            "education_unknown  :unknowns->  341\n",
            "default_unknown  :unknowns->  1739\n",
            "housing_unknown  :unknowns->  211\n",
            "loan_unknown  :unknowns->  211\n"
          ]
        }
      ]
    },
    {
      "cell_type": "code",
      "metadata": {
        "colab": {
          "base_uri": "https://localhost:8080/"
        },
        "id": "JryGC9FkAeP9",
        "outputId": "dc8712dd-ad4e-4b67-da3f-3c79b38e4ad3"
      },
      "source": [
        "X_train.shape, X_test.shape, len(y_train), len(y_test)"
      ],
      "execution_count": 45,
      "outputs": [
        {
          "output_type": "execute_result",
          "data": {
            "text/plain": [
              "((32940, 62), (8236, 62), 32940, 8236)"
            ]
          },
          "metadata": {},
          "execution_count": 45
        }
      ]
    },
    {
      "cell_type": "code",
      "metadata": {
        "colab": {
          "base_uri": "https://localhost:8080/"
        },
        "id": "LNarBR4-AeP9",
        "outputId": "555a6dcd-b266-442a-c091-b5f5d950dddd"
      },
      "source": [
        "y_train.sum()/len(y_train), y_test.sum()/len(y_test)"
      ],
      "execution_count": 46,
      "outputs": [
        {
          "output_type": "execute_result",
          "data": {
            "text/plain": [
              "(0.11265938069216758, 0.11267605633802817)"
            ]
          },
          "metadata": {},
          "execution_count": 46
        }
      ]
    },
    {
      "cell_type": "code",
      "metadata": {
        "colab": {
          "base_uri": "https://localhost:8080/"
        },
        "id": "8nA9M2kJAeP-",
        "outputId": "71a5216e-d251-4fa0-fcab-1d5706119da2"
      },
      "source": [
        "y_train.sum(), len(y_train), y_test.sum(), len(y_test)"
      ],
      "execution_count": 47,
      "outputs": [
        {
          "output_type": "execute_result",
          "data": {
            "text/plain": [
              "(3711, 32940, 928, 8236)"
            ]
          },
          "metadata": {},
          "execution_count": 47
        }
      ]
    },
    {
      "cell_type": "code",
      "metadata": {
        "colab": {
          "base_uri": "https://localhost:8080/"
        },
        "id": "G9DGFA_PAeP-",
        "outputId": "f7306b1d-f303-470e-abb8-92f1791ee416"
      },
      "source": [
        "type(X_train), type(X_test), type(y_train), type(y_test)"
      ],
      "execution_count": 48,
      "outputs": [
        {
          "output_type": "execute_result",
          "data": {
            "text/plain": [
              "(pandas.core.frame.DataFrame,\n",
              " pandas.core.frame.DataFrame,\n",
              " numpy.ndarray,\n",
              " numpy.ndarray)"
            ]
          },
          "metadata": {},
          "execution_count": 48
        }
      ]
    },
    {
      "cell_type": "code",
      "metadata": {
        "colab": {
          "base_uri": "https://localhost:8080/",
          "height": 243
        },
        "id": "wPbnajaGAeP_",
        "outputId": "2917bed7-42fe-4f58-c13a-7fa8d237a4c5"
      },
      "source": [
        "X_train.tail()"
      ],
      "execution_count": 49,
      "outputs": [
        {
          "output_type": "execute_result",
          "data": {
            "text/html": [
              "<div>\n",
              "<style scoped>\n",
              "    .dataframe tbody tr th:only-of-type {\n",
              "        vertical-align: middle;\n",
              "    }\n",
              "\n",
              "    .dataframe tbody tr th {\n",
              "        vertical-align: top;\n",
              "    }\n",
              "\n",
              "    .dataframe thead th {\n",
              "        text-align: right;\n",
              "    }\n",
              "</style>\n",
              "<table border=\"1\" class=\"dataframe\">\n",
              "  <thead>\n",
              "    <tr style=\"text-align: right;\">\n",
              "      <th></th>\n",
              "      <th>age</th>\n",
              "      <th>campaign</th>\n",
              "      <th>pdays</th>\n",
              "      <th>previous</th>\n",
              "      <th>emp.var.rate</th>\n",
              "      <th>cons.price.idx</th>\n",
              "      <th>cons.conf.idx</th>\n",
              "      <th>euribor3m</th>\n",
              "      <th>nr.employed</th>\n",
              "      <th>job_admin.</th>\n",
              "      <th>job_blue-collar</th>\n",
              "      <th>job_entrepreneur</th>\n",
              "      <th>job_housemaid</th>\n",
              "      <th>job_management</th>\n",
              "      <th>job_retired</th>\n",
              "      <th>job_self-employed</th>\n",
              "      <th>job_services</th>\n",
              "      <th>job_student</th>\n",
              "      <th>job_technician</th>\n",
              "      <th>job_unemployed</th>\n",
              "      <th>job_unknown</th>\n",
              "      <th>marital_divorced</th>\n",
              "      <th>marital_married</th>\n",
              "      <th>marital_single</th>\n",
              "      <th>marital_unknown</th>\n",
              "      <th>education_basic.4y</th>\n",
              "      <th>education_basic.6y</th>\n",
              "      <th>education_basic.9y</th>\n",
              "      <th>education_high.school</th>\n",
              "      <th>education_illiterate</th>\n",
              "      <th>education_professional.course</th>\n",
              "      <th>education_university.degree</th>\n",
              "      <th>education_unknown</th>\n",
              "      <th>default_no</th>\n",
              "      <th>default_unknown</th>\n",
              "      <th>default_yes</th>\n",
              "      <th>housing_no</th>\n",
              "      <th>housing_unknown</th>\n",
              "      <th>housing_yes</th>\n",
              "      <th>loan_no</th>\n",
              "      <th>loan_unknown</th>\n",
              "      <th>loan_yes</th>\n",
              "      <th>contact_cellular</th>\n",
              "      <th>contact_telephone</th>\n",
              "      <th>month_apr</th>\n",
              "      <th>month_aug</th>\n",
              "      <th>month_dec</th>\n",
              "      <th>month_jul</th>\n",
              "      <th>month_jun</th>\n",
              "      <th>month_mar</th>\n",
              "      <th>month_may</th>\n",
              "      <th>month_nov</th>\n",
              "      <th>month_oct</th>\n",
              "      <th>month_sep</th>\n",
              "      <th>day_of_week_fri</th>\n",
              "      <th>day_of_week_mon</th>\n",
              "      <th>day_of_week_thu</th>\n",
              "      <th>day_of_week_tue</th>\n",
              "      <th>day_of_week_wed</th>\n",
              "      <th>poutcome_failure</th>\n",
              "      <th>poutcome_nonexistent</th>\n",
              "      <th>poutcome_success</th>\n",
              "    </tr>\n",
              "  </thead>\n",
              "  <tbody>\n",
              "    <tr>\n",
              "      <th>33267</th>\n",
              "      <td>26</td>\n",
              "      <td>1</td>\n",
              "      <td>999</td>\n",
              "      <td>0</td>\n",
              "      <td>-1.8</td>\n",
              "      <td>92.893</td>\n",
              "      <td>-46.2</td>\n",
              "      <td>1.291</td>\n",
              "      <td>5099.1</td>\n",
              "      <td>0</td>\n",
              "      <td>0</td>\n",
              "      <td>0</td>\n",
              "      <td>0</td>\n",
              "      <td>0</td>\n",
              "      <td>0</td>\n",
              "      <td>0</td>\n",
              "      <td>1</td>\n",
              "      <td>0</td>\n",
              "      <td>0</td>\n",
              "      <td>0</td>\n",
              "      <td>0</td>\n",
              "      <td>0</td>\n",
              "      <td>1</td>\n",
              "      <td>0</td>\n",
              "      <td>0</td>\n",
              "      <td>0</td>\n",
              "      <td>0</td>\n",
              "      <td>1</td>\n",
              "      <td>0</td>\n",
              "      <td>0</td>\n",
              "      <td>0</td>\n",
              "      <td>0</td>\n",
              "      <td>0</td>\n",
              "      <td>1</td>\n",
              "      <td>0</td>\n",
              "      <td>0</td>\n",
              "      <td>1</td>\n",
              "      <td>0</td>\n",
              "      <td>0</td>\n",
              "      <td>1</td>\n",
              "      <td>0</td>\n",
              "      <td>0</td>\n",
              "      <td>0</td>\n",
              "      <td>1</td>\n",
              "      <td>0</td>\n",
              "      <td>0</td>\n",
              "      <td>0</td>\n",
              "      <td>0</td>\n",
              "      <td>0</td>\n",
              "      <td>0</td>\n",
              "      <td>1</td>\n",
              "      <td>0</td>\n",
              "      <td>0</td>\n",
              "      <td>0</td>\n",
              "      <td>0</td>\n",
              "      <td>0</td>\n",
              "      <td>0</td>\n",
              "      <td>1</td>\n",
              "      <td>0</td>\n",
              "      <td>0</td>\n",
              "      <td>1</td>\n",
              "      <td>0</td>\n",
              "    </tr>\n",
              "    <tr>\n",
              "      <th>22714</th>\n",
              "      <td>35</td>\n",
              "      <td>5</td>\n",
              "      <td>999</td>\n",
              "      <td>0</td>\n",
              "      <td>1.4</td>\n",
              "      <td>93.444</td>\n",
              "      <td>-36.1</td>\n",
              "      <td>4.964</td>\n",
              "      <td>5228.1</td>\n",
              "      <td>0</td>\n",
              "      <td>0</td>\n",
              "      <td>0</td>\n",
              "      <td>0</td>\n",
              "      <td>1</td>\n",
              "      <td>0</td>\n",
              "      <td>0</td>\n",
              "      <td>0</td>\n",
              "      <td>0</td>\n",
              "      <td>0</td>\n",
              "      <td>0</td>\n",
              "      <td>0</td>\n",
              "      <td>0</td>\n",
              "      <td>1</td>\n",
              "      <td>0</td>\n",
              "      <td>0</td>\n",
              "      <td>0</td>\n",
              "      <td>0</td>\n",
              "      <td>0</td>\n",
              "      <td>0</td>\n",
              "      <td>0</td>\n",
              "      <td>0</td>\n",
              "      <td>1</td>\n",
              "      <td>0</td>\n",
              "      <td>1</td>\n",
              "      <td>0</td>\n",
              "      <td>0</td>\n",
              "      <td>1</td>\n",
              "      <td>0</td>\n",
              "      <td>0</td>\n",
              "      <td>0</td>\n",
              "      <td>0</td>\n",
              "      <td>1</td>\n",
              "      <td>1</td>\n",
              "      <td>0</td>\n",
              "      <td>0</td>\n",
              "      <td>1</td>\n",
              "      <td>0</td>\n",
              "      <td>0</td>\n",
              "      <td>0</td>\n",
              "      <td>0</td>\n",
              "      <td>0</td>\n",
              "      <td>0</td>\n",
              "      <td>0</td>\n",
              "      <td>0</td>\n",
              "      <td>1</td>\n",
              "      <td>0</td>\n",
              "      <td>0</td>\n",
              "      <td>0</td>\n",
              "      <td>0</td>\n",
              "      <td>0</td>\n",
              "      <td>1</td>\n",
              "      <td>0</td>\n",
              "    </tr>\n",
              "    <tr>\n",
              "      <th>6971</th>\n",
              "      <td>32</td>\n",
              "      <td>1</td>\n",
              "      <td>999</td>\n",
              "      <td>0</td>\n",
              "      <td>1.1</td>\n",
              "      <td>93.994</td>\n",
              "      <td>-36.4</td>\n",
              "      <td>4.860</td>\n",
              "      <td>5191.0</td>\n",
              "      <td>0</td>\n",
              "      <td>0</td>\n",
              "      <td>0</td>\n",
              "      <td>0</td>\n",
              "      <td>1</td>\n",
              "      <td>0</td>\n",
              "      <td>0</td>\n",
              "      <td>0</td>\n",
              "      <td>0</td>\n",
              "      <td>0</td>\n",
              "      <td>0</td>\n",
              "      <td>0</td>\n",
              "      <td>0</td>\n",
              "      <td>1</td>\n",
              "      <td>0</td>\n",
              "      <td>0</td>\n",
              "      <td>0</td>\n",
              "      <td>0</td>\n",
              "      <td>0</td>\n",
              "      <td>0</td>\n",
              "      <td>0</td>\n",
              "      <td>0</td>\n",
              "      <td>1</td>\n",
              "      <td>0</td>\n",
              "      <td>1</td>\n",
              "      <td>0</td>\n",
              "      <td>0</td>\n",
              "      <td>0</td>\n",
              "      <td>0</td>\n",
              "      <td>1</td>\n",
              "      <td>1</td>\n",
              "      <td>0</td>\n",
              "      <td>0</td>\n",
              "      <td>0</td>\n",
              "      <td>1</td>\n",
              "      <td>0</td>\n",
              "      <td>0</td>\n",
              "      <td>0</td>\n",
              "      <td>0</td>\n",
              "      <td>0</td>\n",
              "      <td>0</td>\n",
              "      <td>1</td>\n",
              "      <td>0</td>\n",
              "      <td>0</td>\n",
              "      <td>0</td>\n",
              "      <td>0</td>\n",
              "      <td>0</td>\n",
              "      <td>1</td>\n",
              "      <td>0</td>\n",
              "      <td>0</td>\n",
              "      <td>0</td>\n",
              "      <td>1</td>\n",
              "      <td>0</td>\n",
              "    </tr>\n",
              "    <tr>\n",
              "      <th>18503</th>\n",
              "      <td>34</td>\n",
              "      <td>1</td>\n",
              "      <td>999</td>\n",
              "      <td>0</td>\n",
              "      <td>1.4</td>\n",
              "      <td>93.918</td>\n",
              "      <td>-42.7</td>\n",
              "      <td>4.968</td>\n",
              "      <td>5228.1</td>\n",
              "      <td>0</td>\n",
              "      <td>0</td>\n",
              "      <td>0</td>\n",
              "      <td>0</td>\n",
              "      <td>0</td>\n",
              "      <td>0</td>\n",
              "      <td>0</td>\n",
              "      <td>0</td>\n",
              "      <td>0</td>\n",
              "      <td>1</td>\n",
              "      <td>0</td>\n",
              "      <td>0</td>\n",
              "      <td>0</td>\n",
              "      <td>1</td>\n",
              "      <td>0</td>\n",
              "      <td>0</td>\n",
              "      <td>0</td>\n",
              "      <td>0</td>\n",
              "      <td>0</td>\n",
              "      <td>0</td>\n",
              "      <td>0</td>\n",
              "      <td>1</td>\n",
              "      <td>0</td>\n",
              "      <td>0</td>\n",
              "      <td>0</td>\n",
              "      <td>1</td>\n",
              "      <td>0</td>\n",
              "      <td>1</td>\n",
              "      <td>0</td>\n",
              "      <td>0</td>\n",
              "      <td>1</td>\n",
              "      <td>0</td>\n",
              "      <td>0</td>\n",
              "      <td>1</td>\n",
              "      <td>0</td>\n",
              "      <td>0</td>\n",
              "      <td>0</td>\n",
              "      <td>0</td>\n",
              "      <td>1</td>\n",
              "      <td>0</td>\n",
              "      <td>0</td>\n",
              "      <td>0</td>\n",
              "      <td>0</td>\n",
              "      <td>0</td>\n",
              "      <td>0</td>\n",
              "      <td>0</td>\n",
              "      <td>0</td>\n",
              "      <td>1</td>\n",
              "      <td>0</td>\n",
              "      <td>0</td>\n",
              "      <td>0</td>\n",
              "      <td>1</td>\n",
              "      <td>0</td>\n",
              "    </tr>\n",
              "    <tr>\n",
              "      <th>24790</th>\n",
              "      <td>35</td>\n",
              "      <td>1</td>\n",
              "      <td>999</td>\n",
              "      <td>0</td>\n",
              "      <td>-0.1</td>\n",
              "      <td>93.200</td>\n",
              "      <td>-42.0</td>\n",
              "      <td>4.153</td>\n",
              "      <td>5195.8</td>\n",
              "      <td>1</td>\n",
              "      <td>0</td>\n",
              "      <td>0</td>\n",
              "      <td>0</td>\n",
              "      <td>0</td>\n",
              "      <td>0</td>\n",
              "      <td>0</td>\n",
              "      <td>0</td>\n",
              "      <td>0</td>\n",
              "      <td>0</td>\n",
              "      <td>0</td>\n",
              "      <td>0</td>\n",
              "      <td>0</td>\n",
              "      <td>1</td>\n",
              "      <td>0</td>\n",
              "      <td>0</td>\n",
              "      <td>0</td>\n",
              "      <td>0</td>\n",
              "      <td>0</td>\n",
              "      <td>1</td>\n",
              "      <td>0</td>\n",
              "      <td>0</td>\n",
              "      <td>0</td>\n",
              "      <td>0</td>\n",
              "      <td>1</td>\n",
              "      <td>0</td>\n",
              "      <td>0</td>\n",
              "      <td>1</td>\n",
              "      <td>0</td>\n",
              "      <td>0</td>\n",
              "      <td>1</td>\n",
              "      <td>0</td>\n",
              "      <td>0</td>\n",
              "      <td>1</td>\n",
              "      <td>0</td>\n",
              "      <td>0</td>\n",
              "      <td>0</td>\n",
              "      <td>0</td>\n",
              "      <td>0</td>\n",
              "      <td>0</td>\n",
              "      <td>0</td>\n",
              "      <td>0</td>\n",
              "      <td>1</td>\n",
              "      <td>0</td>\n",
              "      <td>0</td>\n",
              "      <td>0</td>\n",
              "      <td>0</td>\n",
              "      <td>0</td>\n",
              "      <td>1</td>\n",
              "      <td>0</td>\n",
              "      <td>0</td>\n",
              "      <td>1</td>\n",
              "      <td>0</td>\n",
              "    </tr>\n",
              "  </tbody>\n",
              "</table>\n",
              "</div>"
            ],
            "text/plain": [
              "       age  campaign  ...  poutcome_nonexistent  poutcome_success\n",
              "33267   26         1  ...                     1                 0\n",
              "22714   35         5  ...                     1                 0\n",
              "6971    32         1  ...                     1                 0\n",
              "18503   34         1  ...                     1                 0\n",
              "24790   35         1  ...                     1                 0\n",
              "\n",
              "[5 rows x 62 columns]"
            ]
          },
          "metadata": {},
          "execution_count": 49
        }
      ]
    },
    {
      "cell_type": "markdown",
      "metadata": {
        "id": "NojTOJ05AeP_"
      },
      "source": [
        "## Function to remove unknown entry rows"
      ]
    },
    {
      "cell_type": "code",
      "metadata": {
        "id": "I9cMPp3DAeP_"
      },
      "source": [
        "def remove_unknown_entries(dataX, dataY, unknown_label = \"unknown\"):\n",
        "    data1 = dataX\n",
        "    data1[\"y\"] = dataY\n",
        "    labels = list(data1.columns)\n",
        "    for i in labels:\n",
        "        if \"unknown\" in i:\n",
        "            c = data1[data1[i]==1].count()[0]\n",
        "            d = len(data1)\n",
        "            print(i,\" :unknowns-> \",c)\n",
        "            data1 = data1.loc[data1[i]==0]\n",
        "            print(\"removed\", d-len(data1))\n",
        "    print(\"Total removed: \",dataX.shape[0]-data1.shape[0])\n",
        "    Y = data1[\"y\"]\n",
        "    X = data1.drop(labels=\"y\",axis=1)\n",
        "    data1 = data1.drop(labels=\"y\",axis=1)\n",
        "    return(X,Y)"
      ],
      "execution_count": 65,
      "outputs": []
    },
    {
      "cell_type": "code",
      "metadata": {
        "colab": {
          "base_uri": "https://localhost:8080/",
          "height": 226
        },
        "id": "gYtcVLlTAeQA",
        "outputId": "ad9c4e14-7776-4fef-81c0-2adc1f9e072a"
      },
      "source": [
        "from sklearn.utils import resample    #Just to depict the use of shuffle\n",
        "from sklearn.utils import shuffle\n",
        "y = data.head()\n",
        "shuffle(y, random_state = 1)\n"
      ],
      "execution_count": 66,
      "outputs": [
        {
          "output_type": "execute_result",
          "data": {
            "text/html": [
              "<div>\n",
              "<style scoped>\n",
              "    .dataframe tbody tr th:only-of-type {\n",
              "        vertical-align: middle;\n",
              "    }\n",
              "\n",
              "    .dataframe tbody tr th {\n",
              "        vertical-align: top;\n",
              "    }\n",
              "\n",
              "    .dataframe thead th {\n",
              "        text-align: right;\n",
              "    }\n",
              "</style>\n",
              "<table border=\"1\" class=\"dataframe\">\n",
              "  <thead>\n",
              "    <tr style=\"text-align: right;\">\n",
              "      <th></th>\n",
              "      <th>age</th>\n",
              "      <th>job</th>\n",
              "      <th>marital</th>\n",
              "      <th>education</th>\n",
              "      <th>default</th>\n",
              "      <th>housing</th>\n",
              "      <th>loan</th>\n",
              "      <th>contact</th>\n",
              "      <th>month</th>\n",
              "      <th>day_of_week</th>\n",
              "      <th>campaign</th>\n",
              "      <th>pdays</th>\n",
              "      <th>previous</th>\n",
              "      <th>poutcome</th>\n",
              "      <th>emp.var.rate</th>\n",
              "      <th>cons.price.idx</th>\n",
              "      <th>cons.conf.idx</th>\n",
              "      <th>euribor3m</th>\n",
              "      <th>nr.employed</th>\n",
              "      <th>y</th>\n",
              "    </tr>\n",
              "  </thead>\n",
              "  <tbody>\n",
              "    <tr>\n",
              "      <th>2</th>\n",
              "      <td>37</td>\n",
              "      <td>services</td>\n",
              "      <td>married</td>\n",
              "      <td>high.school</td>\n",
              "      <td>no</td>\n",
              "      <td>yes</td>\n",
              "      <td>no</td>\n",
              "      <td>telephone</td>\n",
              "      <td>may</td>\n",
              "      <td>mon</td>\n",
              "      <td>1</td>\n",
              "      <td>999</td>\n",
              "      <td>0</td>\n",
              "      <td>nonexistent</td>\n",
              "      <td>1.1</td>\n",
              "      <td>93.994</td>\n",
              "      <td>-36.4</td>\n",
              "      <td>4.857</td>\n",
              "      <td>5191.0</td>\n",
              "      <td>no</td>\n",
              "    </tr>\n",
              "    <tr>\n",
              "      <th>1</th>\n",
              "      <td>57</td>\n",
              "      <td>services</td>\n",
              "      <td>married</td>\n",
              "      <td>high.school</td>\n",
              "      <td>unknown</td>\n",
              "      <td>no</td>\n",
              "      <td>no</td>\n",
              "      <td>telephone</td>\n",
              "      <td>may</td>\n",
              "      <td>mon</td>\n",
              "      <td>1</td>\n",
              "      <td>999</td>\n",
              "      <td>0</td>\n",
              "      <td>nonexistent</td>\n",
              "      <td>1.1</td>\n",
              "      <td>93.994</td>\n",
              "      <td>-36.4</td>\n",
              "      <td>4.857</td>\n",
              "      <td>5191.0</td>\n",
              "      <td>no</td>\n",
              "    </tr>\n",
              "    <tr>\n",
              "      <th>4</th>\n",
              "      <td>56</td>\n",
              "      <td>services</td>\n",
              "      <td>married</td>\n",
              "      <td>high.school</td>\n",
              "      <td>no</td>\n",
              "      <td>no</td>\n",
              "      <td>yes</td>\n",
              "      <td>telephone</td>\n",
              "      <td>may</td>\n",
              "      <td>mon</td>\n",
              "      <td>1</td>\n",
              "      <td>999</td>\n",
              "      <td>0</td>\n",
              "      <td>nonexistent</td>\n",
              "      <td>1.1</td>\n",
              "      <td>93.994</td>\n",
              "      <td>-36.4</td>\n",
              "      <td>4.857</td>\n",
              "      <td>5191.0</td>\n",
              "      <td>no</td>\n",
              "    </tr>\n",
              "    <tr>\n",
              "      <th>0</th>\n",
              "      <td>56</td>\n",
              "      <td>housemaid</td>\n",
              "      <td>married</td>\n",
              "      <td>basic.4y</td>\n",
              "      <td>no</td>\n",
              "      <td>no</td>\n",
              "      <td>no</td>\n",
              "      <td>telephone</td>\n",
              "      <td>may</td>\n",
              "      <td>mon</td>\n",
              "      <td>1</td>\n",
              "      <td>999</td>\n",
              "      <td>0</td>\n",
              "      <td>nonexistent</td>\n",
              "      <td>1.1</td>\n",
              "      <td>93.994</td>\n",
              "      <td>-36.4</td>\n",
              "      <td>4.857</td>\n",
              "      <td>5191.0</td>\n",
              "      <td>no</td>\n",
              "    </tr>\n",
              "    <tr>\n",
              "      <th>3</th>\n",
              "      <td>40</td>\n",
              "      <td>admin.</td>\n",
              "      <td>married</td>\n",
              "      <td>basic.6y</td>\n",
              "      <td>no</td>\n",
              "      <td>no</td>\n",
              "      <td>no</td>\n",
              "      <td>telephone</td>\n",
              "      <td>may</td>\n",
              "      <td>mon</td>\n",
              "      <td>1</td>\n",
              "      <td>999</td>\n",
              "      <td>0</td>\n",
              "      <td>nonexistent</td>\n",
              "      <td>1.1</td>\n",
              "      <td>93.994</td>\n",
              "      <td>-36.4</td>\n",
              "      <td>4.857</td>\n",
              "      <td>5191.0</td>\n",
              "      <td>no</td>\n",
              "    </tr>\n",
              "  </tbody>\n",
              "</table>\n",
              "</div>"
            ],
            "text/plain": [
              "   age        job  marital  ... euribor3m nr.employed   y\n",
              "2   37   services  married  ...     4.857      5191.0  no\n",
              "1   57   services  married  ...     4.857      5191.0  no\n",
              "4   56   services  married  ...     4.857      5191.0  no\n",
              "0   56  housemaid  married  ...     4.857      5191.0  no\n",
              "3   40     admin.  married  ...     4.857      5191.0  no\n",
              "\n",
              "[5 rows x 20 columns]"
            ]
          },
          "metadata": {},
          "execution_count": 66
        }
      ]
    },
    {
      "cell_type": "markdown",
      "metadata": {
        "id": "dp5W58_sAeQB"
      },
      "source": [
        "## Function to Balance the data with 1:K ratio of yes's and no's"
      ]
    },
    {
      "cell_type": "code",
      "metadata": {
        "id": "GsGUp5a7AeQB"
      },
      "source": [
        "def balance_by_y(dataX, dataY, k=1):\n",
        "    data1 = dataX\n",
        "    data1[\"y\"] = dataY\n",
        "    yes = data1[data1[\"y\"]==1]\n",
        "    no = data1[data1[\"y\"]==0]\n",
        "    if k>(len(no)/len(yes)):\n",
        "        print(\"K is higher than the allowed range\")\n",
        "        return dataX, dataY\n",
        "    new_len = int(k*len(yes))\n",
        "    no = resample(no,n_samples=new_len, replace=False, random_state=0)\n",
        "    print(\"yes count:\",len(yes),\" no count:\",len(no))\n",
        "    data = pd.concat([yes,no])\n",
        "    data = shuffle(data, random_state=0)\n",
        "    Y = data[\"y\"]\n",
        "    X = data.drop(labels=\"y\", axis=1)\n",
        "    data = data.drop(labels=\"y\", axis=1)\n",
        "    return X,Y"
      ],
      "execution_count": 67,
      "outputs": []
    },
    {
      "cell_type": "code",
      "metadata": {
        "colab": {
          "base_uri": "https://localhost:8080/"
        },
        "id": "rc0CcYuaAeQB",
        "outputId": "317c59d7-4cfe-4958-8996-120955431222"
      },
      "source": [
        "X_train_1, y_train_1 = remove_unknown_entries(X_train, y_train)  #doubt\n",
        "if \"y\" in X_train.columns:\n",
        "    X_train = X_train.drop(labels=\"y\", axis=1)"
      ],
      "execution_count": 68,
      "outputs": [
        {
          "output_type": "stream",
          "name": "stdout",
          "text": [
            "job_unknown  :unknowns->  267\n",
            "removed 267\n",
            "marital_unknown  :unknowns->  60\n",
            "removed 60\n",
            "education_unknown  :unknowns->  1279\n",
            "removed 1279\n",
            "default_unknown  :unknowns->  6340\n",
            "removed 6340\n",
            "housing_unknown  :unknowns->  584\n",
            "removed 584\n",
            "loan_unknown  :unknowns->  0\n",
            "removed 0\n",
            "Total removed:  8530\n"
          ]
        }
      ]
    },
    {
      "cell_type": "code",
      "metadata": {
        "colab": {
          "base_uri": "https://localhost:8080/"
        },
        "id": "6yRv9m2BAeQB",
        "outputId": "d55a20d6-0df1-4da1-e1b2-38111de878f3"
      },
      "source": [
        "X_train_2, y_train_2 = balance_by_y(X_train_1, y_train_1)  #downsampling after removing unknowns\n",
        "if \"y\" in X_train_1.columns:\n",
        "    X_train_1 = X_train_1.drop(labels=\"y\", axis=1)    #check"
      ],
      "execution_count": 69,
      "outputs": [
        {
          "output_type": "stream",
          "name": "stdout",
          "text": [
            "yes count: 3063  no count: 3063\n"
          ]
        }
      ]
    },
    {
      "cell_type": "code",
      "metadata": {
        "colab": {
          "base_uri": "https://localhost:8080/"
        },
        "id": "eHf3Z-3TAeQC",
        "outputId": "e2343293-d7f0-4287-f457-55b83d177ae9"
      },
      "source": [
        "X_train_3, y_train_3 = balance_by_y(X_train, y_train)  #downsampling without removing unknowns\n",
        "if \"y\" in X_train.columns:\n",
        "    X_train = X_train.drop(labels=\"y\", axis=1)    #check"
      ],
      "execution_count": 70,
      "outputs": [
        {
          "output_type": "stream",
          "name": "stdout",
          "text": [
            "yes count: 3711  no count: 3711\n"
          ]
        }
      ]
    },
    {
      "cell_type": "markdown",
      "metadata": {
        "id": "MfixLwyBAeQD"
      },
      "source": [
        "### Summary:\n",
        "    X_train, y_train     : Training data directly after splitting\n",
        "    X_train_1, y_train_1 : Training data after removing unknown entry rows \n",
        "    X_train_2, y_train_2 : Training data after removing unknown entry rows and downsampling\n",
        "    X_train_3, y_train_3 : Training data without removing unknown entry rows and downsampling"
      ]
    },
    {
      "cell_type": "markdown",
      "metadata": {
        "id": "3R8aXusEAeQD"
      },
      "source": [
        "## Cross-checking the dimensions of the train and test data after downsampling and unknown entry row removals:"
      ]
    },
    {
      "cell_type": "code",
      "metadata": {
        "colab": {
          "base_uri": "https://localhost:8080/"
        },
        "id": "DSXHl6x-AeQE",
        "outputId": "9acf2b64-0d25-4111-eb30-9461e99281b1"
      },
      "source": [
        "X_test.shape,len(y_test), y_test.sum()"
      ],
      "execution_count": 71,
      "outputs": [
        {
          "output_type": "execute_result",
          "data": {
            "text/plain": [
              "((8236, 62), 8236, 928)"
            ]
          },
          "metadata": {},
          "execution_count": 71
        }
      ]
    },
    {
      "cell_type": "code",
      "metadata": {
        "colab": {
          "base_uri": "https://localhost:8080/"
        },
        "id": "FJHK3VsEAeQE",
        "outputId": "b3d6557b-86c6-428c-a71b-fca6823b1f2d"
      },
      "source": [
        "X_train.shape, len(y_train), y_train.sum()"
      ],
      "execution_count": 72,
      "outputs": [
        {
          "output_type": "execute_result",
          "data": {
            "text/plain": [
              "((32940, 62), 32940, 3711)"
            ]
          },
          "metadata": {},
          "execution_count": 72
        }
      ]
    },
    {
      "cell_type": "code",
      "metadata": {
        "colab": {
          "base_uri": "https://localhost:8080/"
        },
        "id": "09K1nj2bAeQG",
        "outputId": "b214ec36-5053-4c0e-c6fe-4ca67bc2465a"
      },
      "source": [
        "X_train_1.shape,len(y_train_1), y_train_1.sum(), X_train.shape[0]- X_train_1.shape[0]"
      ],
      "execution_count": 73,
      "outputs": [
        {
          "output_type": "execute_result",
          "data": {
            "text/plain": [
              "((24410, 62), 24410, 3063, 8530)"
            ]
          },
          "metadata": {},
          "execution_count": 73
        }
      ]
    },
    {
      "cell_type": "code",
      "metadata": {
        "colab": {
          "base_uri": "https://localhost:8080/"
        },
        "id": "O3eo-LM6AeQG",
        "outputId": "244ad73c-dafe-45df-d73b-b54d88205aae"
      },
      "source": [
        "X_train_2.shape,len(y_train_2), y_train_2.sum(), X_train.shape[0]- X_train_2.shape[0]"
      ],
      "execution_count": 74,
      "outputs": [
        {
          "output_type": "execute_result",
          "data": {
            "text/plain": [
              "((6126, 62), 6126, 3063, 26814)"
            ]
          },
          "metadata": {},
          "execution_count": 74
        }
      ]
    },
    {
      "cell_type": "code",
      "metadata": {
        "colab": {
          "base_uri": "https://localhost:8080/"
        },
        "id": "W02qemexAeQH",
        "outputId": "48a6825c-d769-408b-9484-aae31910eba7"
      },
      "source": [
        "X_train_3.shape,len(y_train_3), y_train_3.sum(), X_train.shape[0]- X_train_3.shape[0]"
      ],
      "execution_count": 75,
      "outputs": [
        {
          "output_type": "execute_result",
          "data": {
            "text/plain": [
              "((7422, 62), 7422, 3711, 25518)"
            ]
          },
          "metadata": {},
          "execution_count": 75
        }
      ]
    },
    {
      "cell_type": "code",
      "metadata": {
        "colab": {
          "base_uri": "https://localhost:8080/",
          "height": 243
        },
        "id": "__V3DIj0AeQH",
        "outputId": "0de7fbaa-6ba3-44b0-ece0-88de21667504"
      },
      "source": [
        "X_train_2.head()"
      ],
      "execution_count": 76,
      "outputs": [
        {
          "output_type": "execute_result",
          "data": {
            "text/html": [
              "<div>\n",
              "<style scoped>\n",
              "    .dataframe tbody tr th:only-of-type {\n",
              "        vertical-align: middle;\n",
              "    }\n",
              "\n",
              "    .dataframe tbody tr th {\n",
              "        vertical-align: top;\n",
              "    }\n",
              "\n",
              "    .dataframe thead th {\n",
              "        text-align: right;\n",
              "    }\n",
              "</style>\n",
              "<table border=\"1\" class=\"dataframe\">\n",
              "  <thead>\n",
              "    <tr style=\"text-align: right;\">\n",
              "      <th></th>\n",
              "      <th>age</th>\n",
              "      <th>campaign</th>\n",
              "      <th>pdays</th>\n",
              "      <th>previous</th>\n",
              "      <th>emp.var.rate</th>\n",
              "      <th>cons.price.idx</th>\n",
              "      <th>cons.conf.idx</th>\n",
              "      <th>euribor3m</th>\n",
              "      <th>nr.employed</th>\n",
              "      <th>job_admin.</th>\n",
              "      <th>job_blue-collar</th>\n",
              "      <th>job_entrepreneur</th>\n",
              "      <th>job_housemaid</th>\n",
              "      <th>job_management</th>\n",
              "      <th>job_retired</th>\n",
              "      <th>job_self-employed</th>\n",
              "      <th>job_services</th>\n",
              "      <th>job_student</th>\n",
              "      <th>job_technician</th>\n",
              "      <th>job_unemployed</th>\n",
              "      <th>job_unknown</th>\n",
              "      <th>marital_divorced</th>\n",
              "      <th>marital_married</th>\n",
              "      <th>marital_single</th>\n",
              "      <th>marital_unknown</th>\n",
              "      <th>education_basic.4y</th>\n",
              "      <th>education_basic.6y</th>\n",
              "      <th>education_basic.9y</th>\n",
              "      <th>education_high.school</th>\n",
              "      <th>education_illiterate</th>\n",
              "      <th>education_professional.course</th>\n",
              "      <th>education_university.degree</th>\n",
              "      <th>education_unknown</th>\n",
              "      <th>default_no</th>\n",
              "      <th>default_unknown</th>\n",
              "      <th>default_yes</th>\n",
              "      <th>housing_no</th>\n",
              "      <th>housing_unknown</th>\n",
              "      <th>housing_yes</th>\n",
              "      <th>loan_no</th>\n",
              "      <th>loan_unknown</th>\n",
              "      <th>loan_yes</th>\n",
              "      <th>contact_cellular</th>\n",
              "      <th>contact_telephone</th>\n",
              "      <th>month_apr</th>\n",
              "      <th>month_aug</th>\n",
              "      <th>month_dec</th>\n",
              "      <th>month_jul</th>\n",
              "      <th>month_jun</th>\n",
              "      <th>month_mar</th>\n",
              "      <th>month_may</th>\n",
              "      <th>month_nov</th>\n",
              "      <th>month_oct</th>\n",
              "      <th>month_sep</th>\n",
              "      <th>day_of_week_fri</th>\n",
              "      <th>day_of_week_mon</th>\n",
              "      <th>day_of_week_thu</th>\n",
              "      <th>day_of_week_tue</th>\n",
              "      <th>day_of_week_wed</th>\n",
              "      <th>poutcome_failure</th>\n",
              "      <th>poutcome_nonexistent</th>\n",
              "      <th>poutcome_success</th>\n",
              "    </tr>\n",
              "  </thead>\n",
              "  <tbody>\n",
              "    <tr>\n",
              "      <th>36328</th>\n",
              "      <td>33</td>\n",
              "      <td>3</td>\n",
              "      <td>999</td>\n",
              "      <td>0</td>\n",
              "      <td>-2.9</td>\n",
              "      <td>92.963</td>\n",
              "      <td>-40.8</td>\n",
              "      <td>1.262</td>\n",
              "      <td>5076.2</td>\n",
              "      <td>1</td>\n",
              "      <td>0</td>\n",
              "      <td>0</td>\n",
              "      <td>0</td>\n",
              "      <td>0</td>\n",
              "      <td>0</td>\n",
              "      <td>0</td>\n",
              "      <td>0</td>\n",
              "      <td>0</td>\n",
              "      <td>0</td>\n",
              "      <td>0</td>\n",
              "      <td>0</td>\n",
              "      <td>0</td>\n",
              "      <td>0</td>\n",
              "      <td>1</td>\n",
              "      <td>0</td>\n",
              "      <td>0</td>\n",
              "      <td>0</td>\n",
              "      <td>0</td>\n",
              "      <td>0</td>\n",
              "      <td>0</td>\n",
              "      <td>0</td>\n",
              "      <td>1</td>\n",
              "      <td>0</td>\n",
              "      <td>1</td>\n",
              "      <td>0</td>\n",
              "      <td>0</td>\n",
              "      <td>0</td>\n",
              "      <td>0</td>\n",
              "      <td>1</td>\n",
              "      <td>1</td>\n",
              "      <td>0</td>\n",
              "      <td>0</td>\n",
              "      <td>1</td>\n",
              "      <td>0</td>\n",
              "      <td>0</td>\n",
              "      <td>0</td>\n",
              "      <td>0</td>\n",
              "      <td>0</td>\n",
              "      <td>1</td>\n",
              "      <td>0</td>\n",
              "      <td>0</td>\n",
              "      <td>0</td>\n",
              "      <td>0</td>\n",
              "      <td>0</td>\n",
              "      <td>0</td>\n",
              "      <td>0</td>\n",
              "      <td>0</td>\n",
              "      <td>1</td>\n",
              "      <td>0</td>\n",
              "      <td>0</td>\n",
              "      <td>1</td>\n",
              "      <td>0</td>\n",
              "    </tr>\n",
              "    <tr>\n",
              "      <th>21014</th>\n",
              "      <td>47</td>\n",
              "      <td>2</td>\n",
              "      <td>999</td>\n",
              "      <td>0</td>\n",
              "      <td>1.4</td>\n",
              "      <td>93.444</td>\n",
              "      <td>-36.1</td>\n",
              "      <td>4.964</td>\n",
              "      <td>5228.1</td>\n",
              "      <td>1</td>\n",
              "      <td>0</td>\n",
              "      <td>0</td>\n",
              "      <td>0</td>\n",
              "      <td>0</td>\n",
              "      <td>0</td>\n",
              "      <td>0</td>\n",
              "      <td>0</td>\n",
              "      <td>0</td>\n",
              "      <td>0</td>\n",
              "      <td>0</td>\n",
              "      <td>0</td>\n",
              "      <td>0</td>\n",
              "      <td>1</td>\n",
              "      <td>0</td>\n",
              "      <td>0</td>\n",
              "      <td>0</td>\n",
              "      <td>0</td>\n",
              "      <td>0</td>\n",
              "      <td>0</td>\n",
              "      <td>0</td>\n",
              "      <td>0</td>\n",
              "      <td>1</td>\n",
              "      <td>0</td>\n",
              "      <td>1</td>\n",
              "      <td>0</td>\n",
              "      <td>0</td>\n",
              "      <td>0</td>\n",
              "      <td>0</td>\n",
              "      <td>1</td>\n",
              "      <td>1</td>\n",
              "      <td>0</td>\n",
              "      <td>0</td>\n",
              "      <td>1</td>\n",
              "      <td>0</td>\n",
              "      <td>0</td>\n",
              "      <td>1</td>\n",
              "      <td>0</td>\n",
              "      <td>0</td>\n",
              "      <td>0</td>\n",
              "      <td>0</td>\n",
              "      <td>0</td>\n",
              "      <td>0</td>\n",
              "      <td>0</td>\n",
              "      <td>0</td>\n",
              "      <td>0</td>\n",
              "      <td>0</td>\n",
              "      <td>1</td>\n",
              "      <td>0</td>\n",
              "      <td>0</td>\n",
              "      <td>0</td>\n",
              "      <td>1</td>\n",
              "      <td>0</td>\n",
              "    </tr>\n",
              "    <tr>\n",
              "      <th>3896</th>\n",
              "      <td>52</td>\n",
              "      <td>19</td>\n",
              "      <td>999</td>\n",
              "      <td>0</td>\n",
              "      <td>1.1</td>\n",
              "      <td>93.994</td>\n",
              "      <td>-36.4</td>\n",
              "      <td>4.858</td>\n",
              "      <td>5191.0</td>\n",
              "      <td>0</td>\n",
              "      <td>1</td>\n",
              "      <td>0</td>\n",
              "      <td>0</td>\n",
              "      <td>0</td>\n",
              "      <td>0</td>\n",
              "      <td>0</td>\n",
              "      <td>0</td>\n",
              "      <td>0</td>\n",
              "      <td>0</td>\n",
              "      <td>0</td>\n",
              "      <td>0</td>\n",
              "      <td>0</td>\n",
              "      <td>1</td>\n",
              "      <td>0</td>\n",
              "      <td>0</td>\n",
              "      <td>1</td>\n",
              "      <td>0</td>\n",
              "      <td>0</td>\n",
              "      <td>0</td>\n",
              "      <td>0</td>\n",
              "      <td>0</td>\n",
              "      <td>0</td>\n",
              "      <td>0</td>\n",
              "      <td>1</td>\n",
              "      <td>0</td>\n",
              "      <td>0</td>\n",
              "      <td>1</td>\n",
              "      <td>0</td>\n",
              "      <td>0</td>\n",
              "      <td>0</td>\n",
              "      <td>0</td>\n",
              "      <td>1</td>\n",
              "      <td>0</td>\n",
              "      <td>1</td>\n",
              "      <td>0</td>\n",
              "      <td>0</td>\n",
              "      <td>0</td>\n",
              "      <td>0</td>\n",
              "      <td>0</td>\n",
              "      <td>0</td>\n",
              "      <td>1</td>\n",
              "      <td>0</td>\n",
              "      <td>0</td>\n",
              "      <td>0</td>\n",
              "      <td>0</td>\n",
              "      <td>1</td>\n",
              "      <td>0</td>\n",
              "      <td>0</td>\n",
              "      <td>0</td>\n",
              "      <td>0</td>\n",
              "      <td>1</td>\n",
              "      <td>0</td>\n",
              "    </tr>\n",
              "    <tr>\n",
              "      <th>24902</th>\n",
              "      <td>30</td>\n",
              "      <td>1</td>\n",
              "      <td>999</td>\n",
              "      <td>0</td>\n",
              "      <td>-0.1</td>\n",
              "      <td>93.200</td>\n",
              "      <td>-42.0</td>\n",
              "      <td>4.153</td>\n",
              "      <td>5195.8</td>\n",
              "      <td>0</td>\n",
              "      <td>0</td>\n",
              "      <td>0</td>\n",
              "      <td>0</td>\n",
              "      <td>0</td>\n",
              "      <td>0</td>\n",
              "      <td>0</td>\n",
              "      <td>0</td>\n",
              "      <td>0</td>\n",
              "      <td>1</td>\n",
              "      <td>0</td>\n",
              "      <td>0</td>\n",
              "      <td>0</td>\n",
              "      <td>0</td>\n",
              "      <td>1</td>\n",
              "      <td>0</td>\n",
              "      <td>0</td>\n",
              "      <td>0</td>\n",
              "      <td>0</td>\n",
              "      <td>0</td>\n",
              "      <td>0</td>\n",
              "      <td>1</td>\n",
              "      <td>0</td>\n",
              "      <td>0</td>\n",
              "      <td>1</td>\n",
              "      <td>0</td>\n",
              "      <td>0</td>\n",
              "      <td>1</td>\n",
              "      <td>0</td>\n",
              "      <td>0</td>\n",
              "      <td>0</td>\n",
              "      <td>0</td>\n",
              "      <td>1</td>\n",
              "      <td>1</td>\n",
              "      <td>0</td>\n",
              "      <td>0</td>\n",
              "      <td>0</td>\n",
              "      <td>0</td>\n",
              "      <td>0</td>\n",
              "      <td>0</td>\n",
              "      <td>0</td>\n",
              "      <td>0</td>\n",
              "      <td>1</td>\n",
              "      <td>0</td>\n",
              "      <td>0</td>\n",
              "      <td>0</td>\n",
              "      <td>0</td>\n",
              "      <td>0</td>\n",
              "      <td>1</td>\n",
              "      <td>0</td>\n",
              "      <td>0</td>\n",
              "      <td>1</td>\n",
              "      <td>0</td>\n",
              "    </tr>\n",
              "    <tr>\n",
              "      <th>12248</th>\n",
              "      <td>42</td>\n",
              "      <td>1</td>\n",
              "      <td>999</td>\n",
              "      <td>0</td>\n",
              "      <td>1.4</td>\n",
              "      <td>93.918</td>\n",
              "      <td>-42.7</td>\n",
              "      <td>4.966</td>\n",
              "      <td>5228.1</td>\n",
              "      <td>0</td>\n",
              "      <td>1</td>\n",
              "      <td>0</td>\n",
              "      <td>0</td>\n",
              "      <td>0</td>\n",
              "      <td>0</td>\n",
              "      <td>0</td>\n",
              "      <td>0</td>\n",
              "      <td>0</td>\n",
              "      <td>0</td>\n",
              "      <td>0</td>\n",
              "      <td>0</td>\n",
              "      <td>0</td>\n",
              "      <td>1</td>\n",
              "      <td>0</td>\n",
              "      <td>0</td>\n",
              "      <td>0</td>\n",
              "      <td>0</td>\n",
              "      <td>1</td>\n",
              "      <td>0</td>\n",
              "      <td>0</td>\n",
              "      <td>0</td>\n",
              "      <td>0</td>\n",
              "      <td>0</td>\n",
              "      <td>1</td>\n",
              "      <td>0</td>\n",
              "      <td>0</td>\n",
              "      <td>1</td>\n",
              "      <td>0</td>\n",
              "      <td>0</td>\n",
              "      <td>1</td>\n",
              "      <td>0</td>\n",
              "      <td>0</td>\n",
              "      <td>0</td>\n",
              "      <td>1</td>\n",
              "      <td>0</td>\n",
              "      <td>0</td>\n",
              "      <td>0</td>\n",
              "      <td>1</td>\n",
              "      <td>0</td>\n",
              "      <td>0</td>\n",
              "      <td>0</td>\n",
              "      <td>0</td>\n",
              "      <td>0</td>\n",
              "      <td>0</td>\n",
              "      <td>0</td>\n",
              "      <td>0</td>\n",
              "      <td>1</td>\n",
              "      <td>0</td>\n",
              "      <td>0</td>\n",
              "      <td>0</td>\n",
              "      <td>1</td>\n",
              "      <td>0</td>\n",
              "    </tr>\n",
              "  </tbody>\n",
              "</table>\n",
              "</div>"
            ],
            "text/plain": [
              "       age  campaign  ...  poutcome_nonexistent  poutcome_success\n",
              "36328   33         3  ...                     1                 0\n",
              "21014   47         2  ...                     1                 0\n",
              "3896    52        19  ...                     1                 0\n",
              "24902   30         1  ...                     1                 0\n",
              "12248   42         1  ...                     1                 0\n",
              "\n",
              "[5 rows x 62 columns]"
            ]
          },
          "metadata": {},
          "execution_count": 76
        }
      ]
    },
    {
      "cell_type": "code",
      "metadata": {
        "colab": {
          "base_uri": "https://localhost:8080/",
          "height": 243
        },
        "id": "-kklET7bAeQI",
        "outputId": "6c571be0-0315-4bba-8996-3ea2419147c0"
      },
      "source": [
        "X_train.tail()"
      ],
      "execution_count": 77,
      "outputs": [
        {
          "output_type": "execute_result",
          "data": {
            "text/html": [
              "<div>\n",
              "<style scoped>\n",
              "    .dataframe tbody tr th:only-of-type {\n",
              "        vertical-align: middle;\n",
              "    }\n",
              "\n",
              "    .dataframe tbody tr th {\n",
              "        vertical-align: top;\n",
              "    }\n",
              "\n",
              "    .dataframe thead th {\n",
              "        text-align: right;\n",
              "    }\n",
              "</style>\n",
              "<table border=\"1\" class=\"dataframe\">\n",
              "  <thead>\n",
              "    <tr style=\"text-align: right;\">\n",
              "      <th></th>\n",
              "      <th>age</th>\n",
              "      <th>campaign</th>\n",
              "      <th>pdays</th>\n",
              "      <th>previous</th>\n",
              "      <th>emp.var.rate</th>\n",
              "      <th>cons.price.idx</th>\n",
              "      <th>cons.conf.idx</th>\n",
              "      <th>euribor3m</th>\n",
              "      <th>nr.employed</th>\n",
              "      <th>job_admin.</th>\n",
              "      <th>job_blue-collar</th>\n",
              "      <th>job_entrepreneur</th>\n",
              "      <th>job_housemaid</th>\n",
              "      <th>job_management</th>\n",
              "      <th>job_retired</th>\n",
              "      <th>job_self-employed</th>\n",
              "      <th>job_services</th>\n",
              "      <th>job_student</th>\n",
              "      <th>job_technician</th>\n",
              "      <th>job_unemployed</th>\n",
              "      <th>job_unknown</th>\n",
              "      <th>marital_divorced</th>\n",
              "      <th>marital_married</th>\n",
              "      <th>marital_single</th>\n",
              "      <th>marital_unknown</th>\n",
              "      <th>education_basic.4y</th>\n",
              "      <th>education_basic.6y</th>\n",
              "      <th>education_basic.9y</th>\n",
              "      <th>education_high.school</th>\n",
              "      <th>education_illiterate</th>\n",
              "      <th>education_professional.course</th>\n",
              "      <th>education_university.degree</th>\n",
              "      <th>education_unknown</th>\n",
              "      <th>default_no</th>\n",
              "      <th>default_unknown</th>\n",
              "      <th>default_yes</th>\n",
              "      <th>housing_no</th>\n",
              "      <th>housing_unknown</th>\n",
              "      <th>housing_yes</th>\n",
              "      <th>loan_no</th>\n",
              "      <th>loan_unknown</th>\n",
              "      <th>loan_yes</th>\n",
              "      <th>contact_cellular</th>\n",
              "      <th>contact_telephone</th>\n",
              "      <th>month_apr</th>\n",
              "      <th>month_aug</th>\n",
              "      <th>month_dec</th>\n",
              "      <th>month_jul</th>\n",
              "      <th>month_jun</th>\n",
              "      <th>month_mar</th>\n",
              "      <th>month_may</th>\n",
              "      <th>month_nov</th>\n",
              "      <th>month_oct</th>\n",
              "      <th>month_sep</th>\n",
              "      <th>day_of_week_fri</th>\n",
              "      <th>day_of_week_mon</th>\n",
              "      <th>day_of_week_thu</th>\n",
              "      <th>day_of_week_tue</th>\n",
              "      <th>day_of_week_wed</th>\n",
              "      <th>poutcome_failure</th>\n",
              "      <th>poutcome_nonexistent</th>\n",
              "      <th>poutcome_success</th>\n",
              "    </tr>\n",
              "  </thead>\n",
              "  <tbody>\n",
              "    <tr>\n",
              "      <th>33267</th>\n",
              "      <td>26</td>\n",
              "      <td>1</td>\n",
              "      <td>999</td>\n",
              "      <td>0</td>\n",
              "      <td>-1.8</td>\n",
              "      <td>92.893</td>\n",
              "      <td>-46.2</td>\n",
              "      <td>1.291</td>\n",
              "      <td>5099.1</td>\n",
              "      <td>0</td>\n",
              "      <td>0</td>\n",
              "      <td>0</td>\n",
              "      <td>0</td>\n",
              "      <td>0</td>\n",
              "      <td>0</td>\n",
              "      <td>0</td>\n",
              "      <td>1</td>\n",
              "      <td>0</td>\n",
              "      <td>0</td>\n",
              "      <td>0</td>\n",
              "      <td>0</td>\n",
              "      <td>0</td>\n",
              "      <td>1</td>\n",
              "      <td>0</td>\n",
              "      <td>0</td>\n",
              "      <td>0</td>\n",
              "      <td>0</td>\n",
              "      <td>1</td>\n",
              "      <td>0</td>\n",
              "      <td>0</td>\n",
              "      <td>0</td>\n",
              "      <td>0</td>\n",
              "      <td>0</td>\n",
              "      <td>1</td>\n",
              "      <td>0</td>\n",
              "      <td>0</td>\n",
              "      <td>1</td>\n",
              "      <td>0</td>\n",
              "      <td>0</td>\n",
              "      <td>1</td>\n",
              "      <td>0</td>\n",
              "      <td>0</td>\n",
              "      <td>0</td>\n",
              "      <td>1</td>\n",
              "      <td>0</td>\n",
              "      <td>0</td>\n",
              "      <td>0</td>\n",
              "      <td>0</td>\n",
              "      <td>0</td>\n",
              "      <td>0</td>\n",
              "      <td>1</td>\n",
              "      <td>0</td>\n",
              "      <td>0</td>\n",
              "      <td>0</td>\n",
              "      <td>0</td>\n",
              "      <td>0</td>\n",
              "      <td>0</td>\n",
              "      <td>1</td>\n",
              "      <td>0</td>\n",
              "      <td>0</td>\n",
              "      <td>1</td>\n",
              "      <td>0</td>\n",
              "    </tr>\n",
              "    <tr>\n",
              "      <th>22714</th>\n",
              "      <td>35</td>\n",
              "      <td>5</td>\n",
              "      <td>999</td>\n",
              "      <td>0</td>\n",
              "      <td>1.4</td>\n",
              "      <td>93.444</td>\n",
              "      <td>-36.1</td>\n",
              "      <td>4.964</td>\n",
              "      <td>5228.1</td>\n",
              "      <td>0</td>\n",
              "      <td>0</td>\n",
              "      <td>0</td>\n",
              "      <td>0</td>\n",
              "      <td>1</td>\n",
              "      <td>0</td>\n",
              "      <td>0</td>\n",
              "      <td>0</td>\n",
              "      <td>0</td>\n",
              "      <td>0</td>\n",
              "      <td>0</td>\n",
              "      <td>0</td>\n",
              "      <td>0</td>\n",
              "      <td>1</td>\n",
              "      <td>0</td>\n",
              "      <td>0</td>\n",
              "      <td>0</td>\n",
              "      <td>0</td>\n",
              "      <td>0</td>\n",
              "      <td>0</td>\n",
              "      <td>0</td>\n",
              "      <td>0</td>\n",
              "      <td>1</td>\n",
              "      <td>0</td>\n",
              "      <td>1</td>\n",
              "      <td>0</td>\n",
              "      <td>0</td>\n",
              "      <td>1</td>\n",
              "      <td>0</td>\n",
              "      <td>0</td>\n",
              "      <td>0</td>\n",
              "      <td>0</td>\n",
              "      <td>1</td>\n",
              "      <td>1</td>\n",
              "      <td>0</td>\n",
              "      <td>0</td>\n",
              "      <td>1</td>\n",
              "      <td>0</td>\n",
              "      <td>0</td>\n",
              "      <td>0</td>\n",
              "      <td>0</td>\n",
              "      <td>0</td>\n",
              "      <td>0</td>\n",
              "      <td>0</td>\n",
              "      <td>0</td>\n",
              "      <td>1</td>\n",
              "      <td>0</td>\n",
              "      <td>0</td>\n",
              "      <td>0</td>\n",
              "      <td>0</td>\n",
              "      <td>0</td>\n",
              "      <td>1</td>\n",
              "      <td>0</td>\n",
              "    </tr>\n",
              "    <tr>\n",
              "      <th>6971</th>\n",
              "      <td>32</td>\n",
              "      <td>1</td>\n",
              "      <td>999</td>\n",
              "      <td>0</td>\n",
              "      <td>1.1</td>\n",
              "      <td>93.994</td>\n",
              "      <td>-36.4</td>\n",
              "      <td>4.860</td>\n",
              "      <td>5191.0</td>\n",
              "      <td>0</td>\n",
              "      <td>0</td>\n",
              "      <td>0</td>\n",
              "      <td>0</td>\n",
              "      <td>1</td>\n",
              "      <td>0</td>\n",
              "      <td>0</td>\n",
              "      <td>0</td>\n",
              "      <td>0</td>\n",
              "      <td>0</td>\n",
              "      <td>0</td>\n",
              "      <td>0</td>\n",
              "      <td>0</td>\n",
              "      <td>1</td>\n",
              "      <td>0</td>\n",
              "      <td>0</td>\n",
              "      <td>0</td>\n",
              "      <td>0</td>\n",
              "      <td>0</td>\n",
              "      <td>0</td>\n",
              "      <td>0</td>\n",
              "      <td>0</td>\n",
              "      <td>1</td>\n",
              "      <td>0</td>\n",
              "      <td>1</td>\n",
              "      <td>0</td>\n",
              "      <td>0</td>\n",
              "      <td>0</td>\n",
              "      <td>0</td>\n",
              "      <td>1</td>\n",
              "      <td>1</td>\n",
              "      <td>0</td>\n",
              "      <td>0</td>\n",
              "      <td>0</td>\n",
              "      <td>1</td>\n",
              "      <td>0</td>\n",
              "      <td>0</td>\n",
              "      <td>0</td>\n",
              "      <td>0</td>\n",
              "      <td>0</td>\n",
              "      <td>0</td>\n",
              "      <td>1</td>\n",
              "      <td>0</td>\n",
              "      <td>0</td>\n",
              "      <td>0</td>\n",
              "      <td>0</td>\n",
              "      <td>0</td>\n",
              "      <td>1</td>\n",
              "      <td>0</td>\n",
              "      <td>0</td>\n",
              "      <td>0</td>\n",
              "      <td>1</td>\n",
              "      <td>0</td>\n",
              "    </tr>\n",
              "    <tr>\n",
              "      <th>18503</th>\n",
              "      <td>34</td>\n",
              "      <td>1</td>\n",
              "      <td>999</td>\n",
              "      <td>0</td>\n",
              "      <td>1.4</td>\n",
              "      <td>93.918</td>\n",
              "      <td>-42.7</td>\n",
              "      <td>4.968</td>\n",
              "      <td>5228.1</td>\n",
              "      <td>0</td>\n",
              "      <td>0</td>\n",
              "      <td>0</td>\n",
              "      <td>0</td>\n",
              "      <td>0</td>\n",
              "      <td>0</td>\n",
              "      <td>0</td>\n",
              "      <td>0</td>\n",
              "      <td>0</td>\n",
              "      <td>1</td>\n",
              "      <td>0</td>\n",
              "      <td>0</td>\n",
              "      <td>0</td>\n",
              "      <td>1</td>\n",
              "      <td>0</td>\n",
              "      <td>0</td>\n",
              "      <td>0</td>\n",
              "      <td>0</td>\n",
              "      <td>0</td>\n",
              "      <td>0</td>\n",
              "      <td>0</td>\n",
              "      <td>1</td>\n",
              "      <td>0</td>\n",
              "      <td>0</td>\n",
              "      <td>0</td>\n",
              "      <td>1</td>\n",
              "      <td>0</td>\n",
              "      <td>1</td>\n",
              "      <td>0</td>\n",
              "      <td>0</td>\n",
              "      <td>1</td>\n",
              "      <td>0</td>\n",
              "      <td>0</td>\n",
              "      <td>1</td>\n",
              "      <td>0</td>\n",
              "      <td>0</td>\n",
              "      <td>0</td>\n",
              "      <td>0</td>\n",
              "      <td>1</td>\n",
              "      <td>0</td>\n",
              "      <td>0</td>\n",
              "      <td>0</td>\n",
              "      <td>0</td>\n",
              "      <td>0</td>\n",
              "      <td>0</td>\n",
              "      <td>0</td>\n",
              "      <td>0</td>\n",
              "      <td>1</td>\n",
              "      <td>0</td>\n",
              "      <td>0</td>\n",
              "      <td>0</td>\n",
              "      <td>1</td>\n",
              "      <td>0</td>\n",
              "    </tr>\n",
              "    <tr>\n",
              "      <th>24790</th>\n",
              "      <td>35</td>\n",
              "      <td>1</td>\n",
              "      <td>999</td>\n",
              "      <td>0</td>\n",
              "      <td>-0.1</td>\n",
              "      <td>93.200</td>\n",
              "      <td>-42.0</td>\n",
              "      <td>4.153</td>\n",
              "      <td>5195.8</td>\n",
              "      <td>1</td>\n",
              "      <td>0</td>\n",
              "      <td>0</td>\n",
              "      <td>0</td>\n",
              "      <td>0</td>\n",
              "      <td>0</td>\n",
              "      <td>0</td>\n",
              "      <td>0</td>\n",
              "      <td>0</td>\n",
              "      <td>0</td>\n",
              "      <td>0</td>\n",
              "      <td>0</td>\n",
              "      <td>0</td>\n",
              "      <td>1</td>\n",
              "      <td>0</td>\n",
              "      <td>0</td>\n",
              "      <td>0</td>\n",
              "      <td>0</td>\n",
              "      <td>0</td>\n",
              "      <td>1</td>\n",
              "      <td>0</td>\n",
              "      <td>0</td>\n",
              "      <td>0</td>\n",
              "      <td>0</td>\n",
              "      <td>1</td>\n",
              "      <td>0</td>\n",
              "      <td>0</td>\n",
              "      <td>1</td>\n",
              "      <td>0</td>\n",
              "      <td>0</td>\n",
              "      <td>1</td>\n",
              "      <td>0</td>\n",
              "      <td>0</td>\n",
              "      <td>1</td>\n",
              "      <td>0</td>\n",
              "      <td>0</td>\n",
              "      <td>0</td>\n",
              "      <td>0</td>\n",
              "      <td>0</td>\n",
              "      <td>0</td>\n",
              "      <td>0</td>\n",
              "      <td>0</td>\n",
              "      <td>1</td>\n",
              "      <td>0</td>\n",
              "      <td>0</td>\n",
              "      <td>0</td>\n",
              "      <td>0</td>\n",
              "      <td>0</td>\n",
              "      <td>1</td>\n",
              "      <td>0</td>\n",
              "      <td>0</td>\n",
              "      <td>1</td>\n",
              "      <td>0</td>\n",
              "    </tr>\n",
              "  </tbody>\n",
              "</table>\n",
              "</div>"
            ],
            "text/plain": [
              "       age  campaign  ...  poutcome_nonexistent  poutcome_success\n",
              "33267   26         1  ...                     1                 0\n",
              "22714   35         5  ...                     1                 0\n",
              "6971    32         1  ...                     1                 0\n",
              "18503   34         1  ...                     1                 0\n",
              "24790   35         1  ...                     1                 0\n",
              "\n",
              "[5 rows x 62 columns]"
            ]
          },
          "metadata": {},
          "execution_count": 77
        }
      ]
    },
    {
      "cell_type": "code",
      "metadata": {
        "colab": {
          "base_uri": "https://localhost:8080/",
          "height": 243
        },
        "id": "D_83FZmjAeQI",
        "outputId": "db7c62c6-40a9-4bc3-d43f-19aaca727189"
      },
      "source": [
        "X_train_1.head()"
      ],
      "execution_count": 78,
      "outputs": [
        {
          "output_type": "execute_result",
          "data": {
            "text/html": [
              "<div>\n",
              "<style scoped>\n",
              "    .dataframe tbody tr th:only-of-type {\n",
              "        vertical-align: middle;\n",
              "    }\n",
              "\n",
              "    .dataframe tbody tr th {\n",
              "        vertical-align: top;\n",
              "    }\n",
              "\n",
              "    .dataframe thead th {\n",
              "        text-align: right;\n",
              "    }\n",
              "</style>\n",
              "<table border=\"1\" class=\"dataframe\">\n",
              "  <thead>\n",
              "    <tr style=\"text-align: right;\">\n",
              "      <th></th>\n",
              "      <th>age</th>\n",
              "      <th>campaign</th>\n",
              "      <th>pdays</th>\n",
              "      <th>previous</th>\n",
              "      <th>emp.var.rate</th>\n",
              "      <th>cons.price.idx</th>\n",
              "      <th>cons.conf.idx</th>\n",
              "      <th>euribor3m</th>\n",
              "      <th>nr.employed</th>\n",
              "      <th>job_admin.</th>\n",
              "      <th>job_blue-collar</th>\n",
              "      <th>job_entrepreneur</th>\n",
              "      <th>job_housemaid</th>\n",
              "      <th>job_management</th>\n",
              "      <th>job_retired</th>\n",
              "      <th>job_self-employed</th>\n",
              "      <th>job_services</th>\n",
              "      <th>job_student</th>\n",
              "      <th>job_technician</th>\n",
              "      <th>job_unemployed</th>\n",
              "      <th>job_unknown</th>\n",
              "      <th>marital_divorced</th>\n",
              "      <th>marital_married</th>\n",
              "      <th>marital_single</th>\n",
              "      <th>marital_unknown</th>\n",
              "      <th>education_basic.4y</th>\n",
              "      <th>education_basic.6y</th>\n",
              "      <th>education_basic.9y</th>\n",
              "      <th>education_high.school</th>\n",
              "      <th>education_illiterate</th>\n",
              "      <th>education_professional.course</th>\n",
              "      <th>education_university.degree</th>\n",
              "      <th>education_unknown</th>\n",
              "      <th>default_no</th>\n",
              "      <th>default_unknown</th>\n",
              "      <th>default_yes</th>\n",
              "      <th>housing_no</th>\n",
              "      <th>housing_unknown</th>\n",
              "      <th>housing_yes</th>\n",
              "      <th>loan_no</th>\n",
              "      <th>loan_unknown</th>\n",
              "      <th>loan_yes</th>\n",
              "      <th>contact_cellular</th>\n",
              "      <th>contact_telephone</th>\n",
              "      <th>month_apr</th>\n",
              "      <th>month_aug</th>\n",
              "      <th>month_dec</th>\n",
              "      <th>month_jul</th>\n",
              "      <th>month_jun</th>\n",
              "      <th>month_mar</th>\n",
              "      <th>month_may</th>\n",
              "      <th>month_nov</th>\n",
              "      <th>month_oct</th>\n",
              "      <th>month_sep</th>\n",
              "      <th>day_of_week_fri</th>\n",
              "      <th>day_of_week_mon</th>\n",
              "      <th>day_of_week_thu</th>\n",
              "      <th>day_of_week_tue</th>\n",
              "      <th>day_of_week_wed</th>\n",
              "      <th>poutcome_failure</th>\n",
              "      <th>poutcome_nonexistent</th>\n",
              "      <th>poutcome_success</th>\n",
              "    </tr>\n",
              "  </thead>\n",
              "  <tbody>\n",
              "    <tr>\n",
              "      <th>36454</th>\n",
              "      <td>24</td>\n",
              "      <td>2</td>\n",
              "      <td>999</td>\n",
              "      <td>1</td>\n",
              "      <td>-2.9</td>\n",
              "      <td>92.963</td>\n",
              "      <td>-40.8</td>\n",
              "      <td>1.262</td>\n",
              "      <td>5076.2</td>\n",
              "      <td>0</td>\n",
              "      <td>0</td>\n",
              "      <td>0</td>\n",
              "      <td>0</td>\n",
              "      <td>0</td>\n",
              "      <td>0</td>\n",
              "      <td>0</td>\n",
              "      <td>0</td>\n",
              "      <td>0</td>\n",
              "      <td>1</td>\n",
              "      <td>0</td>\n",
              "      <td>0</td>\n",
              "      <td>0</td>\n",
              "      <td>0</td>\n",
              "      <td>1</td>\n",
              "      <td>0</td>\n",
              "      <td>0</td>\n",
              "      <td>0</td>\n",
              "      <td>0</td>\n",
              "      <td>0</td>\n",
              "      <td>0</td>\n",
              "      <td>1</td>\n",
              "      <td>0</td>\n",
              "      <td>0</td>\n",
              "      <td>1</td>\n",
              "      <td>0</td>\n",
              "      <td>0</td>\n",
              "      <td>1</td>\n",
              "      <td>0</td>\n",
              "      <td>0</td>\n",
              "      <td>1</td>\n",
              "      <td>0</td>\n",
              "      <td>0</td>\n",
              "      <td>1</td>\n",
              "      <td>0</td>\n",
              "      <td>0</td>\n",
              "      <td>0</td>\n",
              "      <td>0</td>\n",
              "      <td>0</td>\n",
              "      <td>1</td>\n",
              "      <td>0</td>\n",
              "      <td>0</td>\n",
              "      <td>0</td>\n",
              "      <td>0</td>\n",
              "      <td>0</td>\n",
              "      <td>0</td>\n",
              "      <td>0</td>\n",
              "      <td>0</td>\n",
              "      <td>1</td>\n",
              "      <td>0</td>\n",
              "      <td>1</td>\n",
              "      <td>0</td>\n",
              "      <td>0</td>\n",
              "    </tr>\n",
              "    <tr>\n",
              "      <th>1233</th>\n",
              "      <td>32</td>\n",
              "      <td>1</td>\n",
              "      <td>999</td>\n",
              "      <td>0</td>\n",
              "      <td>1.1</td>\n",
              "      <td>93.994</td>\n",
              "      <td>-36.4</td>\n",
              "      <td>4.855</td>\n",
              "      <td>5191.0</td>\n",
              "      <td>0</td>\n",
              "      <td>1</td>\n",
              "      <td>0</td>\n",
              "      <td>0</td>\n",
              "      <td>0</td>\n",
              "      <td>0</td>\n",
              "      <td>0</td>\n",
              "      <td>0</td>\n",
              "      <td>0</td>\n",
              "      <td>0</td>\n",
              "      <td>0</td>\n",
              "      <td>0</td>\n",
              "      <td>0</td>\n",
              "      <td>1</td>\n",
              "      <td>0</td>\n",
              "      <td>0</td>\n",
              "      <td>0</td>\n",
              "      <td>0</td>\n",
              "      <td>0</td>\n",
              "      <td>0</td>\n",
              "      <td>0</td>\n",
              "      <td>1</td>\n",
              "      <td>0</td>\n",
              "      <td>0</td>\n",
              "      <td>1</td>\n",
              "      <td>0</td>\n",
              "      <td>0</td>\n",
              "      <td>1</td>\n",
              "      <td>0</td>\n",
              "      <td>0</td>\n",
              "      <td>1</td>\n",
              "      <td>0</td>\n",
              "      <td>0</td>\n",
              "      <td>0</td>\n",
              "      <td>1</td>\n",
              "      <td>0</td>\n",
              "      <td>0</td>\n",
              "      <td>0</td>\n",
              "      <td>0</td>\n",
              "      <td>0</td>\n",
              "      <td>0</td>\n",
              "      <td>1</td>\n",
              "      <td>0</td>\n",
              "      <td>0</td>\n",
              "      <td>0</td>\n",
              "      <td>0</td>\n",
              "      <td>0</td>\n",
              "      <td>1</td>\n",
              "      <td>0</td>\n",
              "      <td>0</td>\n",
              "      <td>0</td>\n",
              "      <td>1</td>\n",
              "      <td>0</td>\n",
              "    </tr>\n",
              "    <tr>\n",
              "      <th>24111</th>\n",
              "      <td>33</td>\n",
              "      <td>1</td>\n",
              "      <td>999</td>\n",
              "      <td>0</td>\n",
              "      <td>-0.1</td>\n",
              "      <td>93.200</td>\n",
              "      <td>-42.0</td>\n",
              "      <td>4.245</td>\n",
              "      <td>5195.8</td>\n",
              "      <td>0</td>\n",
              "      <td>0</td>\n",
              "      <td>0</td>\n",
              "      <td>0</td>\n",
              "      <td>0</td>\n",
              "      <td>0</td>\n",
              "      <td>1</td>\n",
              "      <td>0</td>\n",
              "      <td>0</td>\n",
              "      <td>0</td>\n",
              "      <td>0</td>\n",
              "      <td>0</td>\n",
              "      <td>0</td>\n",
              "      <td>0</td>\n",
              "      <td>1</td>\n",
              "      <td>0</td>\n",
              "      <td>0</td>\n",
              "      <td>0</td>\n",
              "      <td>0</td>\n",
              "      <td>0</td>\n",
              "      <td>0</td>\n",
              "      <td>0</td>\n",
              "      <td>1</td>\n",
              "      <td>0</td>\n",
              "      <td>1</td>\n",
              "      <td>0</td>\n",
              "      <td>0</td>\n",
              "      <td>1</td>\n",
              "      <td>0</td>\n",
              "      <td>0</td>\n",
              "      <td>1</td>\n",
              "      <td>0</td>\n",
              "      <td>0</td>\n",
              "      <td>0</td>\n",
              "      <td>1</td>\n",
              "      <td>0</td>\n",
              "      <td>0</td>\n",
              "      <td>0</td>\n",
              "      <td>0</td>\n",
              "      <td>0</td>\n",
              "      <td>0</td>\n",
              "      <td>0</td>\n",
              "      <td>1</td>\n",
              "      <td>0</td>\n",
              "      <td>0</td>\n",
              "      <td>0</td>\n",
              "      <td>0</td>\n",
              "      <td>1</td>\n",
              "      <td>0</td>\n",
              "      <td>0</td>\n",
              "      <td>0</td>\n",
              "      <td>1</td>\n",
              "      <td>0</td>\n",
              "    </tr>\n",
              "    <tr>\n",
              "      <th>15516</th>\n",
              "      <td>38</td>\n",
              "      <td>4</td>\n",
              "      <td>999</td>\n",
              "      <td>0</td>\n",
              "      <td>1.4</td>\n",
              "      <td>93.918</td>\n",
              "      <td>-42.7</td>\n",
              "      <td>4.957</td>\n",
              "      <td>5228.1</td>\n",
              "      <td>0</td>\n",
              "      <td>0</td>\n",
              "      <td>1</td>\n",
              "      <td>0</td>\n",
              "      <td>0</td>\n",
              "      <td>0</td>\n",
              "      <td>0</td>\n",
              "      <td>0</td>\n",
              "      <td>0</td>\n",
              "      <td>0</td>\n",
              "      <td>0</td>\n",
              "      <td>0</td>\n",
              "      <td>0</td>\n",
              "      <td>1</td>\n",
              "      <td>0</td>\n",
              "      <td>0</td>\n",
              "      <td>0</td>\n",
              "      <td>0</td>\n",
              "      <td>1</td>\n",
              "      <td>0</td>\n",
              "      <td>0</td>\n",
              "      <td>0</td>\n",
              "      <td>0</td>\n",
              "      <td>0</td>\n",
              "      <td>1</td>\n",
              "      <td>0</td>\n",
              "      <td>0</td>\n",
              "      <td>1</td>\n",
              "      <td>0</td>\n",
              "      <td>0</td>\n",
              "      <td>0</td>\n",
              "      <td>0</td>\n",
              "      <td>1</td>\n",
              "      <td>0</td>\n",
              "      <td>1</td>\n",
              "      <td>0</td>\n",
              "      <td>0</td>\n",
              "      <td>0</td>\n",
              "      <td>1</td>\n",
              "      <td>0</td>\n",
              "      <td>0</td>\n",
              "      <td>0</td>\n",
              "      <td>0</td>\n",
              "      <td>0</td>\n",
              "      <td>0</td>\n",
              "      <td>1</td>\n",
              "      <td>0</td>\n",
              "      <td>0</td>\n",
              "      <td>0</td>\n",
              "      <td>0</td>\n",
              "      <td>0</td>\n",
              "      <td>1</td>\n",
              "      <td>0</td>\n",
              "    </tr>\n",
              "    <tr>\n",
              "      <th>17916</th>\n",
              "      <td>39</td>\n",
              "      <td>4</td>\n",
              "      <td>999</td>\n",
              "      <td>0</td>\n",
              "      <td>1.4</td>\n",
              "      <td>93.918</td>\n",
              "      <td>-42.7</td>\n",
              "      <td>4.961</td>\n",
              "      <td>5228.1</td>\n",
              "      <td>0</td>\n",
              "      <td>0</td>\n",
              "      <td>0</td>\n",
              "      <td>0</td>\n",
              "      <td>0</td>\n",
              "      <td>0</td>\n",
              "      <td>0</td>\n",
              "      <td>1</td>\n",
              "      <td>0</td>\n",
              "      <td>0</td>\n",
              "      <td>0</td>\n",
              "      <td>0</td>\n",
              "      <td>0</td>\n",
              "      <td>1</td>\n",
              "      <td>0</td>\n",
              "      <td>0</td>\n",
              "      <td>0</td>\n",
              "      <td>0</td>\n",
              "      <td>0</td>\n",
              "      <td>1</td>\n",
              "      <td>0</td>\n",
              "      <td>0</td>\n",
              "      <td>0</td>\n",
              "      <td>0</td>\n",
              "      <td>1</td>\n",
              "      <td>0</td>\n",
              "      <td>0</td>\n",
              "      <td>0</td>\n",
              "      <td>0</td>\n",
              "      <td>1</td>\n",
              "      <td>0</td>\n",
              "      <td>0</td>\n",
              "      <td>1</td>\n",
              "      <td>1</td>\n",
              "      <td>0</td>\n",
              "      <td>0</td>\n",
              "      <td>0</td>\n",
              "      <td>0</td>\n",
              "      <td>1</td>\n",
              "      <td>0</td>\n",
              "      <td>0</td>\n",
              "      <td>0</td>\n",
              "      <td>0</td>\n",
              "      <td>0</td>\n",
              "      <td>0</td>\n",
              "      <td>0</td>\n",
              "      <td>0</td>\n",
              "      <td>0</td>\n",
              "      <td>1</td>\n",
              "      <td>0</td>\n",
              "      <td>0</td>\n",
              "      <td>1</td>\n",
              "      <td>0</td>\n",
              "    </tr>\n",
              "  </tbody>\n",
              "</table>\n",
              "</div>"
            ],
            "text/plain": [
              "       age  campaign  ...  poutcome_nonexistent  poutcome_success\n",
              "36454   24         2  ...                     0                 0\n",
              "1233    32         1  ...                     1                 0\n",
              "24111   33         1  ...                     1                 0\n",
              "15516   38         4  ...                     1                 0\n",
              "17916   39         4  ...                     1                 0\n",
              "\n",
              "[5 rows x 62 columns]"
            ]
          },
          "metadata": {},
          "execution_count": 78
        }
      ]
    },
    {
      "cell_type": "code",
      "metadata": {
        "colab": {
          "base_uri": "https://localhost:8080/"
        },
        "id": "5iO5bjZnAeQI",
        "outputId": "c712c207-40f9-4511-ec57-19f81f9573d1"
      },
      "source": [
        "X_train_1.info()"
      ],
      "execution_count": 79,
      "outputs": [
        {
          "output_type": "stream",
          "name": "stdout",
          "text": [
            "<class 'pandas.core.frame.DataFrame'>\n",
            "Int64Index: 24410 entries, 36454 to 24790\n",
            "Data columns (total 62 columns):\n",
            " #   Column                         Non-Null Count  Dtype  \n",
            "---  ------                         --------------  -----  \n",
            " 0   age                            24410 non-null  int64  \n",
            " 1   campaign                       24410 non-null  int64  \n",
            " 2   pdays                          24410 non-null  int64  \n",
            " 3   previous                       24410 non-null  int64  \n",
            " 4   emp.var.rate                   24410 non-null  float64\n",
            " 5   cons.price.idx                 24410 non-null  float64\n",
            " 6   cons.conf.idx                  24410 non-null  float64\n",
            " 7   euribor3m                      24410 non-null  float64\n",
            " 8   nr.employed                    24410 non-null  float64\n",
            " 9   job_admin.                     24410 non-null  uint8  \n",
            " 10  job_blue-collar                24410 non-null  uint8  \n",
            " 11  job_entrepreneur               24410 non-null  uint8  \n",
            " 12  job_housemaid                  24410 non-null  uint8  \n",
            " 13  job_management                 24410 non-null  uint8  \n",
            " 14  job_retired                    24410 non-null  uint8  \n",
            " 15  job_self-employed              24410 non-null  uint8  \n",
            " 16  job_services                   24410 non-null  uint8  \n",
            " 17  job_student                    24410 non-null  uint8  \n",
            " 18  job_technician                 24410 non-null  uint8  \n",
            " 19  job_unemployed                 24410 non-null  uint8  \n",
            " 20  job_unknown                    24410 non-null  uint8  \n",
            " 21  marital_divorced               24410 non-null  uint8  \n",
            " 22  marital_married                24410 non-null  uint8  \n",
            " 23  marital_single                 24410 non-null  uint8  \n",
            " 24  marital_unknown                24410 non-null  uint8  \n",
            " 25  education_basic.4y             24410 non-null  uint8  \n",
            " 26  education_basic.6y             24410 non-null  uint8  \n",
            " 27  education_basic.9y             24410 non-null  uint8  \n",
            " 28  education_high.school          24410 non-null  uint8  \n",
            " 29  education_illiterate           24410 non-null  uint8  \n",
            " 30  education_professional.course  24410 non-null  uint8  \n",
            " 31  education_university.degree    24410 non-null  uint8  \n",
            " 32  education_unknown              24410 non-null  uint8  \n",
            " 33  default_no                     24410 non-null  uint8  \n",
            " 34  default_unknown                24410 non-null  uint8  \n",
            " 35  default_yes                    24410 non-null  uint8  \n",
            " 36  housing_no                     24410 non-null  uint8  \n",
            " 37  housing_unknown                24410 non-null  uint8  \n",
            " 38  housing_yes                    24410 non-null  uint8  \n",
            " 39  loan_no                        24410 non-null  uint8  \n",
            " 40  loan_unknown                   24410 non-null  uint8  \n",
            " 41  loan_yes                       24410 non-null  uint8  \n",
            " 42  contact_cellular               24410 non-null  uint8  \n",
            " 43  contact_telephone              24410 non-null  uint8  \n",
            " 44  month_apr                      24410 non-null  uint8  \n",
            " 45  month_aug                      24410 non-null  uint8  \n",
            " 46  month_dec                      24410 non-null  uint8  \n",
            " 47  month_jul                      24410 non-null  uint8  \n",
            " 48  month_jun                      24410 non-null  uint8  \n",
            " 49  month_mar                      24410 non-null  uint8  \n",
            " 50  month_may                      24410 non-null  uint8  \n",
            " 51  month_nov                      24410 non-null  uint8  \n",
            " 52  month_oct                      24410 non-null  uint8  \n",
            " 53  month_sep                      24410 non-null  uint8  \n",
            " 54  day_of_week_fri                24410 non-null  uint8  \n",
            " 55  day_of_week_mon                24410 non-null  uint8  \n",
            " 56  day_of_week_thu                24410 non-null  uint8  \n",
            " 57  day_of_week_tue                24410 non-null  uint8  \n",
            " 58  day_of_week_wed                24410 non-null  uint8  \n",
            " 59  poutcome_failure               24410 non-null  uint8  \n",
            " 60  poutcome_nonexistent           24410 non-null  uint8  \n",
            " 61  poutcome_success               24410 non-null  uint8  \n",
            "dtypes: float64(5), int64(4), uint8(53)\n",
            "memory usage: 3.1 MB\n"
          ]
        }
      ]
    },
    {
      "cell_type": "markdown",
      "metadata": {
        "id": "_RrfflfwAeQJ"
      },
      "source": [
        "# \n",
        "________________________________________________________________"
      ]
    },
    {
      "cell_type": "markdown",
      "metadata": {
        "id": "U5KhDJ1lAeQJ"
      },
      "source": [
        "## We need 'Recall' to be high if we want to capture 'more actual true-predictions'\n",
        "## We need 'Precision' to be high if want to capture 'maximum true-predictions to be right out of the predicted positives'"
      ]
    },
    {
      "cell_type": "markdown",
      "metadata": {
        "id": "Wr8iBR2gAeQJ"
      },
      "source": [
        "### \n",
        "________________________________________________________________"
      ]
    },
    {
      "cell_type": "markdown",
      "metadata": {
        "id": "K7ruDyk1AeQJ"
      },
      "source": [
        "# Decision Tree Applied:"
      ]
    },
    {
      "cell_type": "code",
      "metadata": {
        "colab": {
          "base_uri": "https://localhost:8080/"
        },
        "id": "hxDzTZkvXObk",
        "outputId": "6de85680-94da-4cce-c45f-952ad60d7246"
      },
      "source": [
        "np.arange(21)"
      ],
      "execution_count": 90,
      "outputs": [
        {
          "output_type": "execute_result",
          "data": {
            "text/plain": [
              "array([ 0,  1,  2,  3,  4,  5,  6,  7,  8,  9, 10, 11, 12, 13, 14, 15, 16,\n",
              "       17, 18, 19, 20])"
            ]
          },
          "metadata": {},
          "execution_count": 90
        }
      ]
    },
    {
      "cell_type": "code",
      "metadata": {
        "id": "KAV6Uh9MWSId"
      },
      "source": [
        "def dtree_grid_search(X,y,nfolds=5):\n",
        "    #create a dictionary of all values we want to test\n",
        "    param_grid = { 'criterion':['gini','entropy'],'max_depth': np.arange(3, 15)}\n",
        "    # decision tree model\n",
        "    dtree_model=DecisionTreeClassifier()\n",
        "    #use gridsearch to test all values\n",
        "    dtree_gscv = GridSearchCV(dtree_model, param_grid, cv=nfolds)\n",
        "    #fit model to data\n",
        "    dtree_gscv.fit(X, y)\n",
        "    return dtree_gscv.best_params_"
      ],
      "execution_count": 92,
      "outputs": []
    },
    {
      "cell_type": "code",
      "metadata": {
        "colab": {
          "base_uri": "https://localhost:8080/"
        },
        "id": "iAIPpibYYeM3",
        "outputId": "c311fa2c-038e-4cee-c0e8-899475230ceb"
      },
      "source": [
        "dtree_grid_search(X=X_train,y=y_train)"
      ],
      "execution_count": 93,
      "outputs": [
        {
          "output_type": "execute_result",
          "data": {
            "text/plain": [
              "{'criterion': 'entropy', 'max_depth': 5}"
            ]
          },
          "metadata": {},
          "execution_count": 93
        }
      ]
    },
    {
      "cell_type": "code",
      "metadata": {
        "id": "gIBVym5-bO-t"
      },
      "source": [
        "def model_check(X_train=X_train, y_train=y_train, X_test=X_test, y_test=y_test, model=DecisionTreeClassifier, count=20, message=\"Decision Tree\"):\n",
        "  mat=[]\n",
        "  for i in range(2,count+1):\n",
        "    model_clf = model(max_depth=i)\n",
        "    model_clf.fit(X_train,y_train)\n",
        "    y_predicted = model_clf.predict(X_test)\n",
        "    mat.append([i,accuracy_score(y_test, y_predicted),recall_score(y_test, y_predicted, pos_label=1),precision_score(y_test, y_predicted, pos_label=1),f1_score(y_test, y_predicted, pos_label=1),roc_auc_score(y_test, y_predicted)])\n",
        "  return mat"
      ],
      "execution_count": 105,
      "outputs": []
    },
    {
      "cell_type": "code",
      "metadata": {
        "id": "OOCTkS3XckW1"
      },
      "source": [
        "def print_scores(X_train=X_train, y_train=y_train, X_test=X_test, y_test=y_test):\n",
        "  mat = model_check(X_train, y_train, X_test, y_test)\n",
        "  headers = ['max_depth','Accuracy','Recall','Precision','F-score','AUC-Score']\n",
        "  table = tabulate(mat, headers, tablefmt=\"fancy_grid\")\n",
        "  print(table)"
      ],
      "execution_count": 107,
      "outputs": []
    },
    {
      "cell_type": "code",
      "metadata": {
        "id": "UcnJTMbMfHrL"
      },
      "source": [
        "def plot_scores(X_train=X_train, y_train=y_train, X_test=X_test, y_test=y_test):\n",
        "  mat = model_check(X_train, y_train, X_test, y_test)\n",
        "  mat = np.matrix(mat)\n",
        "  headers = ['max_depth','Accuracy','Recall','Precision','F-score','AUC-Score']\n",
        "  for i in range(1,6):\n",
        "    plt.plot(mat[:,0],mat[:,i],label=headers[i])"
      ],
      "execution_count": 108,
      "outputs": []
    },
    {
      "cell_type": "code",
      "metadata": {
        "id": "PSwohZyqgutt"
      },
      "source": [
        "def search_depth(X_train=X_train, y_train=y_train, X_test=X_test, y_test=y_test):\n",
        "  plt.figure(figsize=(20,10))\n",
        "  plot_scores(X_train, y_train, X_test, y_test)\n",
        "  plt.grid(True)\n",
        "  plt.legend()"
      ],
      "execution_count": 110,
      "outputs": []
    },
    {
      "cell_type": "markdown",
      "metadata": {
        "id": "4dZ1HCGGlVCg"
      },
      "source": [
        "#X_train, y_train     : Training data directly after splitting\n"
      ]
    },
    {
      "cell_type": "code",
      "metadata": {
        "colab": {
          "base_uri": "https://localhost:8080/"
        },
        "id": "N6YP9lGkiRmH",
        "outputId": "04147906-eefb-424f-feab-ecc37ce9ac7b"
      },
      "source": [
        "print_scores()"
      ],
      "execution_count": 111,
      "outputs": [
        {
          "output_type": "stream",
          "name": "stdout",
          "text": [
            "╒═════════════╤════════════╤══════════╤═════════════╤═══════════╤═════════════╕\n",
            "│   max_depth │   Accuracy │   Recall │   Precision │   F-score │   AUC-Score │\n",
            "╞═════════════╪════════════╪══════════╪═════════════╪═══════════╪═════════════╡\n",
            "│           2 │   0.898494 │ 0.177802 │    0.693277 │  0.283019 │    0.583906 │\n",
            "├─────────────┼────────────┼──────────┼─────────────┼───────────┼─────────────┤\n",
            "│           3 │   0.89898  │ 0.1875   │    0.690476 │  0.294915 │    0.588413 │\n",
            "├─────────────┼────────────┼──────────┼─────────────┼───────────┼─────────────┤\n",
            "│           4 │   0.898737 │ 0.182112 │    0.692623 │  0.288396 │    0.585925 │\n",
            "├─────────────┼────────────┼──────────┼─────────────┼───────────┼─────────────┤\n",
            "│           5 │   0.900923 │ 0.258621 │    0.652174 │  0.37037  │    0.620553 │\n",
            "├─────────────┼────────────┼──────────┼─────────────┼───────────┼─────────────┤\n",
            "│           6 │   0.899951 │ 0.235991 │    0.655689 │  0.347068 │    0.610128 │\n",
            "├─────────────┼────────────┼──────────┼─────────────┼───────────┼─────────────┤\n",
            "│           7 │   0.899466 │ 0.258621 │    0.631579 │  0.366972 │    0.619732 │\n",
            "├─────────────┼────────────┼──────────┼─────────────┼───────────┼─────────────┤\n",
            "│           8 │   0.899223 │ 0.28125  │    0.615566 │  0.386095 │    0.629473 │\n",
            "├─────────────┼────────────┼──────────┼─────────────┼───────────┼─────────────┤\n",
            "│           9 │   0.898009 │ 0.28125  │    0.601382 │  0.38326  │    0.628789 │\n",
            "├─────────────┼────────────┼──────────┼─────────────┼───────────┼─────────────┤\n",
            "│          10 │   0.896795 │ 0.284483 │    0.586667 │  0.383164 │    0.629516 │\n",
            "├─────────────┼────────────┼──────────┼─────────────┼───────────┼─────────────┤\n",
            "│          11 │   0.897037 │ 0.295259 │    0.58547  │  0.39255  │    0.634356 │\n",
            "├─────────────┼────────────┼──────────┼─────────────┼───────────┼─────────────┤\n",
            "│          12 │   0.892059 │ 0.299569 │    0.537718 │  0.384775 │    0.633433 │\n",
            "├─────────────┼────────────┼──────────┼─────────────┼───────────┼─────────────┤\n",
            "│          13 │   0.892302 │ 0.311422 │    0.538175 │  0.394539 │    0.638744 │\n",
            "├─────────────┼────────────┼──────────┼─────────────┼───────────┼─────────────┤\n",
            "│          14 │   0.889509 │ 0.311422 │    0.516071 │  0.388441 │    0.63717  │\n",
            "├─────────────┼────────────┼──────────┼─────────────┼───────────┼─────────────┤\n",
            "│          15 │   0.884774 │ 0.295259 │    0.481547 │  0.366065 │    0.627446 │\n",
            "├─────────────┼────────────┼──────────┼─────────────┼───────────┼─────────────┤\n",
            "│          16 │   0.88271  │ 0.310345 │    0.469055 │  0.373541 │    0.632868 │\n",
            "├─────────────┼────────────┼──────────┼─────────────┼───────────┼─────────────┤\n",
            "│          17 │   0.875182 │ 0.307112 │    0.425373 │  0.356696 │    0.627215 │\n",
            "├─────────────┼────────────┼──────────┼─────────────┼───────────┼─────────────┤\n",
            "│          18 │   0.871904 │ 0.330819 │    0.414305 │  0.367885 │    0.635716 │\n",
            "├─────────────┼────────────┼──────────┼─────────────┼───────────┼─────────────┤\n",
            "│          19 │   0.863769 │ 0.320043 │    0.376904 │  0.346154 │    0.626428 │\n",
            "├─────────────┼────────────┼──────────┼─────────────┼───────────┼─────────────┤\n",
            "│          20 │   0.860126 │ 0.326509 │    0.36506  │  0.34471  │    0.627198 │\n",
            "╘═════════════╧════════════╧══════════╧═════════════╧═══════════╧═════════════╛\n"
          ]
        }
      ]
    },
    {
      "cell_type": "code",
      "metadata": {
        "colab": {
          "base_uri": "https://localhost:8080/",
          "height": 592
        },
        "id": "EDuOnbB5lcfe",
        "outputId": "10d82417-bc99-4aa6-94d5-9af64d7aea39"
      },
      "source": [
        "search_depth()"
      ],
      "execution_count": 112,
      "outputs": [
        {
          "output_type": "display_data",
          "data": {
            "image/png": "[encoded data removed]",
            "text/plain": [
              "<Figure size 1440x720 with 1 Axes>"
            ]
          },
          "metadata": {
            "needs_background": "light"
          }
        }
      ]
    },
    {
      "cell_type": "markdown",
      "metadata": {
        "id": "ivPDATNWljQC"
      },
      "source": [
        "# X_train_1, y_train_1 : Training data after removing unknown entry rows "
      ]
    },
    {
      "cell_type": "code",
      "metadata": {
        "colab": {
          "base_uri": "https://localhost:8080/"
        },
        "id": "NS2tALsolqnT",
        "outputId": "cc245818-c056-4f5f-a2e2-4ad69e0d9959"
      },
      "source": [
        "print_scores(X_train_1,y_train_1)"
      ],
      "execution_count": 113,
      "outputs": [
        {
          "output_type": "stream",
          "name": "stdout",
          "text": [
            "╒═════════════╤════════════╤══════════╤═════════════╤═══════════╤═════════════╕\n",
            "│   max_depth │   Accuracy │   Recall │   Precision │   F-score │   AUC-Score │\n",
            "╞═════════════╪════════════╪══════════╪═════════════╪═══════════╪═════════════╡\n",
            "│           2 │   0.898494 │ 0.177802 │    0.693277 │  0.283019 │    0.583906 │\n",
            "├─────────────┼────────────┼──────────┼─────────────┼───────────┼─────────────┤\n",
            "│           3 │   0.89898  │ 0.1875   │    0.690476 │  0.294915 │    0.588413 │\n",
            "├─────────────┼────────────┼──────────┼─────────────┼───────────┼─────────────┤\n",
            "│           4 │   0.898737 │ 0.1875   │    0.685039 │  0.294416 │    0.588277 │\n",
            "├─────────────┼────────────┼──────────┼─────────────┼───────────┼─────────────┤\n",
            "│           5 │   0.90238  │ 0.273707 │    0.661458 │  0.387195 │    0.627959 │\n",
            "├─────────────┼────────────┼──────────┼─────────────┼───────────┼─────────────┤\n",
            "│           6 │   0.901894 │ 0.224138 │    0.702703 │  0.339869 │    0.606048 │\n",
            "├─────────────┼────────────┼──────────┼─────────────┼───────────┼─────────────┤\n",
            "│           7 │   0.900923 │ 0.288793 │    0.632075 │  0.39645  │    0.633723 │\n",
            "├─────────────┼────────────┼──────────┼─────────────┼───────────┼─────────────┤\n",
            "│           8 │   0.898737 │ 0.272629 │    0.614078 │  0.377612 │    0.625436 │\n",
            "├─────────────┼────────────┼──────────┼─────────────┼───────────┼─────────────┤\n",
            "│           9 │   0.896552 │ 0.268319 │    0.590047 │  0.368889 │    0.622323 │\n",
            "├─────────────┼────────────┼──────────┼─────────────┼───────────┼─────────────┤\n",
            "│          10 │   0.895459 │ 0.28556  │    0.572354 │  0.381021 │    0.629233 │\n",
            "├─────────────┼────────────┼──────────┼─────────────┼───────────┼─────────────┤\n",
            "│          11 │   0.893881 │ 0.289871 │    0.555785 │  0.38102  │    0.630225 │\n",
            "├─────────────┼────────────┼──────────┼─────────────┼───────────┼─────────────┤\n",
            "│          12 │   0.892059 │ 0.313578 │    0.535912 │  0.395649 │    0.639547 │\n",
            "├─────────────┼────────────┼──────────┼─────────────┼───────────┼─────────────┤\n",
            "│          13 │   0.887931 │ 0.294181 │    0.504621 │  0.371681 │    0.628754 │\n",
            "├─────────────┼────────────┼──────────┼─────────────┼───────────┼─────────────┤\n",
            "│          14 │   0.885381 │ 0.299569 │    0.486014 │  0.370667 │    0.62967  │\n",
            "├─────────────┼────────────┼──────────┼─────────────┼───────────┼─────────────┤\n",
            "│          15 │   0.882589 │ 0.294181 │    0.466667 │  0.360872 │    0.625744 │\n",
            "├─────────────┼────────────┼──────────┼─────────────┼───────────┼─────────────┤\n",
            "│          16 │   0.88186  │ 0.306034 │    0.463295 │  0.368592 │    0.630508 │\n",
            "├─────────────┼────────────┼──────────┼─────────────┼───────────┼─────────────┤\n",
            "│          17 │   0.875911 │ 0.297414 │    0.427245 │  0.350699 │    0.623392 │\n",
            "├─────────────┼────────────┼──────────┼─────────────┼───────────┼─────────────┤\n",
            "│          18 │   0.871904 │ 0.323276 │    0.412655 │  0.362538 │    0.632423 │\n",
            "├─────────────┼────────────┼──────────┼─────────────┼───────────┼─────────────┤\n",
            "│          19 │   0.867776 │ 0.317888 │    0.39281  │  0.3514   │    0.627745 │\n",
            "├─────────────┼────────────┼──────────┼─────────────┼───────────┼─────────────┤\n",
            "│          20 │   0.864133 │ 0.325431 │    0.379874 │  0.350551 │    0.628985 │\n",
            "╘═════════════╧════════════╧══════════╧═════════════╧═══════════╧═════════════╛\n"
          ]
        }
      ]
    },
    {
      "cell_type": "code",
      "metadata": {
        "colab": {
          "base_uri": "https://localhost:8080/",
          "height": 592
        },
        "id": "q4nI6bullze8",
        "outputId": "9fd032cd-f3bc-4e6a-ea20-06183b0bd105"
      },
      "source": [
        "search_depth(X_train_1,y_train_1)"
      ],
      "execution_count": 114,
      "outputs": [
        {
          "output_type": "display_data",
          "data": {
            "image/png": "[encoded data removed]",
            "text/plain": [
              "<Figure size 1440x720 with 1 Axes>"
            ]
          },
          "metadata": {
            "needs_background": "light"
          }
        }
      ]
    },
    {
      "cell_type": "markdown",
      "metadata": {
        "id": "lXWHl6NBl_22"
      },
      "source": [
        "# X_train_2, y_train_2 : Training data after removing unknown entry rows and downsampling"
      ]
    },
    {
      "cell_type": "code",
      "metadata": {
        "colab": {
          "base_uri": "https://localhost:8080/"
        },
        "id": "rbEJ-XZ_l_Ac",
        "outputId": "1a1d3751-2460-4814-92e4-ed52ecbb77e8"
      },
      "source": [
        "print_scores(X_train_2,y_train_2)"
      ],
      "execution_count": 115,
      "outputs": [
        {
          "output_type": "stream",
          "name": "stdout",
          "text": [
            "╒═════════════╤════════════╤══════════╤═════════════╤═══════════╤═════════════╕\n",
            "│   max_depth │   Accuracy │   Recall │   Precision │   F-score │   AUC-Score │\n",
            "╞═════════════╪════════════╪══════════╪═════════════╪═══════════╪═════════════╡\n",
            "│           2 │   0.837664 │ 0.612069 │    0.367638 │  0.459361 │    0.73919  │\n",
            "├─────────────┼────────────┼──────────┼─────────────┼───────────┼─────────────┤\n",
            "│           3 │   0.837664 │ 0.612069 │    0.367638 │  0.459361 │    0.73919  │\n",
            "├─────────────┼────────────┼──────────┼─────────────┼───────────┼─────────────┤\n",
            "│           4 │   0.850656 │ 0.612069 │    0.394993 │  0.480135 │    0.746511 │\n",
            "├─────────────┼────────────┼──────────┼─────────────┼───────────┼─────────────┤\n",
            "│           5 │   0.865712 │ 0.602371 │    0.431327 │  0.502698 │    0.750761 │\n",
            "├─────────────┼────────────┼──────────┼─────────────┼───────────┼─────────────┤\n",
            "│           6 │   0.856605 │ 0.602371 │    0.407732 │  0.486298 │    0.74563  │\n",
            "├─────────────┼────────────┼──────────┼─────────────┼───────────┼─────────────┤\n",
            "│           7 │   0.856484 │ 0.596983 │    0.406755 │  0.483843 │    0.743209 │\n",
            "├─────────────┼────────────┼──────────┼─────────────┼───────────┼─────────────┤\n",
            "│           8 │   0.79626  │ 0.678879 │    0.313433 │  0.428863 │    0.745023 │\n",
            "├─────────────┼────────────┼──────────┼─────────────┼───────────┼─────────────┤\n",
            "│           9 │   0.800389 │ 0.646552 │    0.313152 │  0.421941 │    0.733238 │\n",
            "├─────────────┼────────────┼──────────┼─────────────┼───────────┼─────────────┤\n",
            "│          10 │   0.81678  │ 0.619612 │    0.332178 │  0.432493 │    0.730715 │\n",
            "├─────────────┼────────────┼──────────┼─────────────┼───────────┼─────────────┤\n",
            "│          11 │   0.805488 │ 0.618534 │    0.315038 │  0.417455 │    0.723881 │\n",
            "├─────────────┼────────────┼──────────┼─────────────┼───────────┼─────────────┤\n",
            "│          12 │   0.776833 │ 0.648707 │    0.284768 │  0.395792 │    0.720905 │\n",
            "├─────────────┼────────────┼──────────┼─────────────┼───────────┼─────────────┤\n",
            "│          13 │   0.755949 │ 0.634698 │    0.260619 │  0.369511 │    0.703022 │\n",
            "├─────────────┼────────────┼──────────┼─────────────┼───────────┼─────────────┤\n",
            "│          14 │   0.74745  │ 0.627155 │    0.251295 │  0.358816 │    0.69494  │\n",
            "├─────────────┼────────────┼──────────┼─────────────┼───────────┼─────────────┤\n",
            "│          15 │   0.732516 │ 0.633621 │    0.239902 │  0.348032 │    0.689347 │\n",
            "├─────────────┼────────────┼──────────┼─────────────┼───────────┼─────────────┤\n",
            "│          16 │   0.694876 │ 0.639009 │    0.214002 │  0.320627 │    0.67049  │\n",
            "├─────────────┼────────────┼──────────┼─────────────┼───────────┼─────────────┤\n",
            "│          17 │   0.690384 │ 0.621767 │    0.207853 │  0.311555 │    0.660432 │\n",
            "├─────────────┼────────────┼──────────┼─────────────┼───────────┼─────────────┤\n",
            "│          18 │   0.673264 │ 0.639009 │    0.201085 │  0.305907 │    0.658311 │\n",
            "├─────────────┼────────────┼──────────┼─────────────┼───────────┼─────────────┤\n",
            "│          19 │   0.677513 │ 0.650862 │    0.205722 │  0.312629 │    0.66588  │\n",
            "├─────────────┼────────────┼──────────┼─────────────┼───────────┼─────────────┤\n",
            "│          20 │   0.667557 │ 0.636853 │    0.197527 │  0.301531 │    0.654155 │\n",
            "╘═════════════╧════════════╧══════════╧═════════════╧═══════════╧═════════════╛\n"
          ]
        }
      ]
    },
    {
      "cell_type": "code",
      "metadata": {
        "colab": {
          "base_uri": "https://localhost:8080/",
          "height": 592
        },
        "id": "q_LfRMm9m0u8",
        "outputId": "83955f7e-a91f-4c94-9fb5-a37109952008"
      },
      "source": [
        "search_depth(X_train_2,y_train_2)"
      ],
      "execution_count": 116,
      "outputs": [
        {
          "output_type": "display_data",
          "data": {
            "image/png": "[encoded data removed]",
            "text/plain": [
              "<Figure size 1440x720 with 1 Axes>"
            ]
          },
          "metadata": {
            "needs_background": "light"
          }
        }
      ]
    },
    {
      "cell_type": "markdown",
      "metadata": {
        "id": "ABrO0B88nPEF"
      },
      "source": [
        "# X_train_3, y_train_3 : Training data without removing unknown entry rows and downsampling"
      ]
    },
    {
      "cell_type": "code",
      "metadata": {
        "colab": {
          "base_uri": "https://localhost:8080/"
        },
        "id": "M3eW5dHGm88l",
        "outputId": "56eab219-2458-4d0e-ba45-862eca3dce77"
      },
      "source": [
        "print_scores(X_train_3,y_train_3)"
      ],
      "execution_count": 117,
      "outputs": [
        {
          "output_type": "stream",
          "name": "stdout",
          "text": [
            "╒═════════════╤════════════╤══════════╤═════════════╤═══════════╤═════════════╕\n",
            "│   max_depth │   Accuracy │   Recall │   Precision │   F-score │   AUC-Score │\n",
            "╞═════════════╪════════════╪══════════╪═════════════╪═══════════╪═════════════╡\n",
            "│           2 │   0.837664 │ 0.612069 │    0.367638 │  0.459361 │    0.73919  │\n",
            "├─────────────┼────────────┼──────────┼─────────────┼───────────┼─────────────┤\n",
            "│           3 │   0.837907 │ 0.609914 │    0.367771 │  0.458857 │    0.738386 │\n",
            "├─────────────┼────────────┼──────────┼─────────────┼───────────┼─────────────┤\n",
            "│           4 │   0.838271 │ 0.616379 │    0.369509 │  0.462036 │    0.741414 │\n",
            "├─────────────┼────────────┼──────────┼─────────────┼───────────┼─────────────┤\n",
            "│           5 │   0.836328 │ 0.630388 │    0.367925 │  0.464654 │    0.746434 │\n",
            "├─────────────┼────────────┼──────────┼─────────────┼───────────┼─────────────┤\n",
            "│           6 │   0.874454 │ 0.591595 │    0.45598  │  0.515009 │    0.750984 │\n",
            "├─────────────┼────────────┼──────────┼─────────────┼───────────┼─────────────┤\n",
            "│           7 │   0.841306 │ 0.654095 │    0.381042 │  0.481555 │    0.759587 │\n",
            "├─────────────┼────────────┼──────────┼─────────────┼───────────┼─────────────┤\n",
            "│           8 │   0.866076 │ 0.603448 │    0.432432 │  0.503824 │    0.751437 │\n",
            "├─────────────┼────────────┼──────────┼─────────────┼───────────┼─────────────┤\n",
            "│           9 │   0.847135 │ 0.635776 │    0.39047  │  0.483805 │    0.754875 │\n",
            "├─────────────┼────────────┼──────────┼─────────────┼───────────┼─────────────┤\n",
            "│          10 │   0.83815  │ 0.626078 │    0.370772 │  0.465731 │    0.745578 │\n",
            "├─────────────┼────────────┼──────────┼─────────────┼───────────┼─────────────┤\n",
            "│          11 │   0.8356   │ 0.62069  │    0.365019 │  0.459697 │    0.74179  │\n",
            "├─────────────┼────────────┼──────────┼─────────────┼───────────┼─────────────┤\n",
            "│          12 │   0.820423 │ 0.621767 │    0.338416 │  0.438283 │    0.733708 │\n",
            "├─────────────┼────────────┼──────────┼─────────────┼───────────┼─────────────┤\n",
            "│          13 │   0.806095 │ 0.614224 │    0.315091 │  0.416514 │    0.722342 │\n",
            "├─────────────┼────────────┼──────────┼─────────────┼───────────┼─────────────┤\n",
            "│          14 │   0.787033 │ 0.631466 │    0.293293 │  0.400547 │    0.719126 │\n",
            "├─────────────┼────────────┼──────────┼─────────────┼───────────┼─────────────┤\n",
            "│          15 │   0.77052  │ 0.628233 │    0.273966 │  0.381545 │    0.70841  │\n",
            "├─────────────┼────────────┼──────────┼─────────────┼───────────┼─────────────┤\n",
            "│          16 │   0.759592 │ 0.631466 │    0.263489 │  0.371827 │    0.703664 │\n",
            "├─────────────┼────────────┼──────────┼─────────────┼───────────┼─────────────┤\n",
            "│          17 │   0.731666 │ 0.635776 │    0.239643 │  0.348083 │    0.689809 │\n",
            "├─────────────┼────────────┼──────────┼─────────────┼───────────┼─────────────┤\n",
            "│          18 │   0.716489 │ 0.648707 │    0.230563 │  0.340209 │    0.686901 │\n",
            "├─────────────┼────────────┼──────────┼─────────────┼───────────┼─────────────┤\n",
            "│          19 │   0.696697 │ 0.657328 │    0.218638 │  0.328133 │    0.679512 │\n",
            "├─────────────┼────────────┼──────────┼─────────────┼───────────┼─────────────┤\n",
            "│          20 │   0.690262 │ 0.654095 │    0.213958 │  0.322444 │    0.674475 │\n",
            "╘═════════════╧════════════╧══════════╧═════════════╧═══════════╧═════════════╛\n"
          ]
        }
      ]
    },
    {
      "cell_type": "code",
      "metadata": {
        "colab": {
          "base_uri": "https://localhost:8080/",
          "height": 592
        },
        "id": "IsgVo3KSndtH",
        "outputId": "7f608d0c-0191-43ff-920f-dbe4148de2f7"
      },
      "source": [
        "search_depth(X_train_3,y_train_3)"
      ],
      "execution_count": 118,
      "outputs": [
        {
          "output_type": "display_data",
          "data": {
            "image/png": "[encoded data removed]",
            "text/plain": [
              "<Figure size 1440x720 with 1 Axes>"
            ]
          },
          "metadata": {
            "needs_background": "light"
          }
        }
      ]
    },
    {
      "cell_type": "markdown",
      "metadata": {
        "id": "iXse-E35AeQO"
      },
      "source": [
        "## Summary for Decision Tree:\n",
        "    Highest recall acheived: 67.67% at depth 8 for X_train_2\n",
        "    Highest accuracy achieved: 90.23% at depth 5 for X_train_1\n",
        "    Highest precision achieved: 70.27% at depth 6 for X_train_1\n",
        "    Highest f-score achieved: 51.50% at depth 6 for X_train_2\n",
        "    Highest AUC-score achieved: 76.03% at depth 7 for X_train_3"
      ]
    },
    {
      "cell_type": "markdown",
      "metadata": {
        "id": "RQF1A_TpnyV0"
      },
      "source": [
        "# Applying Decesion Tree for max_depth=5 as suggested by gridsearchcv()"
      ]
    },
    {
      "cell_type": "code",
      "metadata": {
        "id": "WJIGDFZynuE7"
      },
      "source": [
        "clf = DecisionTreeClassifier(criterion='entropy',max_depth=5)\n",
        "model = clf.fit(X_train,y_train)"
      ],
      "execution_count": 120,
      "outputs": []
    },
    {
      "cell_type": "code",
      "metadata": {
        "colab": {
          "base_uri": "https://localhost:8080/",
          "height": 936
        },
        "id": "gZWGeln6q1dE",
        "outputId": "344451b3-3582-48c2-f087-5dc5d3710c83"
      },
      "source": [
        "dot_data = tree.export_graphviz(clf, out_file=None, feature_names=X.columns,class_names=['0','1'],filled=True)\n",
        "graphviz.Source(dot_data, format=\"png\")"
      ],
      "execution_count": 134,
      "outputs": [
        {
          "output_type": "execute_result",
          "data": {
            "text/plain": [
              "<graphviz.files.Source at 0x7fd1388a7b50>"
            ],
            "image/svg+xml": "<?xml version=\"1.0\" encoding=\"UTF-8\" standalone=\"no\"?>\n<!DOCTYPE svg PUBLIC \"-//W3C//DTD SVG 1.1//EN\"\n \"http://www.w3.org/Graphics/SVG/1.1/DTD/svg11.dtd\">\n<!-- Generated by graphviz version 2.40.1 (20161225.0304)\n -->\n<!-- Title: Tree Pages: 1 -->\n<svg width=\"3970pt\" height=\"671pt\"\n viewBox=\"0.00 0.00 3969.50 671.00\" xmlns=\"http://www.w3.org/2000/svg\" xmlns:xlink=\"http://www.w3.org/1999/xlink\">\n<g id=\"graph0\" class=\"graph\" transform=\"scale(1 1) rotate(0) translate(4 667)\">\n<title>Tree</title>\n<polygon fill=\"#ffffff\" stroke=\"transparent\" points=\"-4,4 -4,-667 3965.5,-667 3965.5,4 -4,4\"/>\n<!-- 0 -->\n<g id=\"node1\" class=\"node\">\n<title>0</title>\n<polygon fill=\"#e89152\" stroke=\"#000000\" points=\"2303,-663 2142,-663 2142,-580 2303,-580 2303,-663\"/>\n<text text-anchor=\"middle\" x=\"2222.5\" y=\"-647.8\" font-family=\"Times,serif\" font-size=\"14.00\" fill=\"#000000\">nr.employed &lt;= 5087.65</text>\n<text text-anchor=\"middle\" x=\"2222.5\" y=\"-632.8\" font-family=\"Times,serif\" font-size=\"14.00\" fill=\"#000000\">entropy = 0.508</text>\n<text text-anchor=\"middle\" x=\"2222.5\" y=\"-617.8\" font-family=\"Times,serif\" font-size=\"14.00\" fill=\"#000000\">samples = 32940</text>\n<text text-anchor=\"middle\" x=\"2222.5\" y=\"-602.8\" font-family=\"Times,serif\" font-size=\"14.00\" fill=\"#000000\">value = [29229, 3711]</text>\n<text text-anchor=\"middle\" x=\"2222.5\" y=\"-587.8\" font-family=\"Times,serif\" font-size=\"14.00\" fill=\"#000000\">class = 0</text>\n</g>\n<!-- 1 -->\n<g id=\"node2\" class=\"node\">\n<title>1</title>\n<polygon fill=\"#fae4d5\" stroke=\"#000000\" points=\"1700.5,-544 1560.5,-544 1560.5,-461 1700.5,-461 1700.5,-544\"/>\n<text text-anchor=\"middle\" x=\"1630.5\" y=\"-528.8\" font-family=\"Times,serif\" font-size=\"14.00\" fill=\"#000000\">pdays &lt;= 16.5</text>\n<text text-anchor=\"middle\" x=\"1630.5\" y=\"-513.8\" font-family=\"Times,serif\" font-size=\"14.00\" fill=\"#000000\">entropy = 0.99</text>\n<text text-anchor=\"middle\" x=\"1630.5\" y=\"-498.8\" font-family=\"Times,serif\" font-size=\"14.00\" fill=\"#000000\">samples = 3987</text>\n<text text-anchor=\"middle\" x=\"1630.5\" y=\"-483.8\" font-family=\"Times,serif\" font-size=\"14.00\" fill=\"#000000\">value = [2229, 1758]</text>\n<text text-anchor=\"middle\" x=\"1630.5\" y=\"-468.8\" font-family=\"Times,serif\" font-size=\"14.00\" fill=\"#000000\">class = 0</text>\n</g>\n<!-- 0&#45;&gt;1 -->\n<g id=\"edge1\" class=\"edge\">\n<title>0&#45;&gt;1</title>\n<path fill=\"none\" stroke=\"#000000\" d=\"M2141.7354,-605.2652C2028.4026,-582.4838 1823.4314,-541.2818 1710.508,-518.5827\"/>\n<polygon fill=\"#000000\" stroke=\"#000000\" points=\"1711.0338,-515.1185 1700.5402,-516.579 1709.6543,-521.9812 1711.0338,-515.1185\"/>\n<text text-anchor=\"middle\" x=\"1714.3874\" y=\"-533.6938\" font-family=\"Times,serif\" font-size=\"14.00\" fill=\"#000000\">True</text>\n</g>\n<!-- 32 -->\n<g id=\"node33\" class=\"node\">\n<title>32</title>\n<polygon fill=\"#e78a47\" stroke=\"#000000\" points=\"2573,-544 2416,-544 2416,-461 2573,-461 2573,-544\"/>\n<text text-anchor=\"middle\" x=\"2494.5\" y=\"-528.8\" font-family=\"Times,serif\" font-size=\"14.00\" fill=\"#000000\">cons.conf.idx &lt;= &#45;46.65</text>\n<text text-anchor=\"middle\" x=\"2494.5\" y=\"-513.8\" font-family=\"Times,serif\" font-size=\"14.00\" fill=\"#000000\">entropy = 0.356</text>\n<text text-anchor=\"middle\" x=\"2494.5\" y=\"-498.8\" font-family=\"Times,serif\" font-size=\"14.00\" fill=\"#000000\">samples = 28953</text>\n<text text-anchor=\"middle\" x=\"2494.5\" y=\"-483.8\" font-family=\"Times,serif\" font-size=\"14.00\" fill=\"#000000\">value = [27000, 1953]</text>\n<text text-anchor=\"middle\" x=\"2494.5\" y=\"-468.8\" font-family=\"Times,serif\" font-size=\"14.00\" fill=\"#000000\">class = 0</text>\n</g>\n<!-- 0&#45;&gt;32 -->\n<g id=\"edge32\" class=\"edge\">\n<title>0&#45;&gt;32</title>\n<path fill=\"none\" stroke=\"#000000\" d=\"M2303.005,-586.2791C2335.5092,-572.0585 2373.1182,-555.6045 2406.3563,-541.0629\"/>\n<polygon fill=\"#000000\" stroke=\"#000000\" points=\"2407.8486,-544.2304 2415.6073,-537.0156 2405.0428,-537.8172 2407.8486,-544.2304\"/>\n<text text-anchor=\"middle\" x=\"2406.4973\" y=\"-556.5966\" font-family=\"Times,serif\" font-size=\"14.00\" fill=\"#000000\">False</text>\n</g>\n<!-- 2 -->\n<g id=\"node3\" class=\"node\">\n<title>2</title>\n<polygon fill=\"#8bc5f0\" stroke=\"#000000\" points=\"835,-425 664,-425 664,-342 835,-342 835,-425\"/>\n<text text-anchor=\"middle\" x=\"749.5\" y=\"-409.8\" font-family=\"Times,serif\" font-size=\"14.00\" fill=\"#000000\">day_of_week_mon &lt;= 0.5</text>\n<text text-anchor=\"middle\" x=\"749.5\" y=\"-394.8\" font-family=\"Times,serif\" font-size=\"14.00\" fill=\"#000000\">entropy = 0.871</text>\n<text text-anchor=\"middle\" x=\"749.5\" y=\"-379.8\" font-family=\"Times,serif\" font-size=\"14.00\" fill=\"#000000\">samples = 980</text>\n<text text-anchor=\"middle\" x=\"749.5\" y=\"-364.8\" font-family=\"Times,serif\" font-size=\"14.00\" fill=\"#000000\">value = [286, 694]</text>\n<text text-anchor=\"middle\" x=\"749.5\" y=\"-349.8\" font-family=\"Times,serif\" font-size=\"14.00\" fill=\"#000000\">class = 1</text>\n</g>\n<!-- 1&#45;&gt;2 -->\n<g id=\"edge2\" class=\"edge\">\n<title>1&#45;&gt;2</title>\n<path fill=\"none\" stroke=\"#000000\" d=\"M1560.2636,-493.0129C1403.3075,-471.8123 1023.9204,-420.567 845.4,-396.4536\"/>\n<polygon fill=\"#000000\" stroke=\"#000000\" points=\"845.6121,-392.9505 835.2336,-395.0804 844.675,-399.8875 845.6121,-392.9505\"/>\n</g>\n<!-- 17 -->\n<g id=\"node18\" class=\"node\">\n<title>17</title>\n<polygon fill=\"#f3c6a5\" stroke=\"#000000\" points=\"1712,-425 1549,-425 1549,-342 1712,-342 1712,-425\"/>\n<text text-anchor=\"middle\" x=\"1630.5\" y=\"-409.8\" font-family=\"Times,serif\" font-size=\"14.00\" fill=\"#000000\">contact_telephone &lt;= 0.5</text>\n<text text-anchor=\"middle\" x=\"1630.5\" y=\"-394.8\" font-family=\"Times,serif\" font-size=\"14.00\" fill=\"#000000\">entropy = 0.937</text>\n<text text-anchor=\"middle\" x=\"1630.5\" y=\"-379.8\" font-family=\"Times,serif\" font-size=\"14.00\" fill=\"#000000\">samples = 3007</text>\n<text text-anchor=\"middle\" x=\"1630.5\" y=\"-364.8\" font-family=\"Times,serif\" font-size=\"14.00\" fill=\"#000000\">value = [1943, 1064]</text>\n<text text-anchor=\"middle\" x=\"1630.5\" y=\"-349.8\" font-family=\"Times,serif\" font-size=\"14.00\" fill=\"#000000\">class = 0</text>\n</g>\n<!-- 1&#45;&gt;17 -->\n<g id=\"edge17\" class=\"edge\">\n<title>1&#45;&gt;17</title>\n<path fill=\"none\" stroke=\"#000000\" d=\"M1630.5,-460.8796C1630.5,-452.6838 1630.5,-443.9891 1630.5,-435.5013\"/>\n<polygon fill=\"#000000\" stroke=\"#000000\" points=\"1634.0001,-435.298 1630.5,-425.2981 1627.0001,-435.2981 1634.0001,-435.298\"/>\n</g>\n<!-- 3 -->\n<g id=\"node4\" class=\"node\">\n<title>3</title>\n<polygon fill=\"#7ebfee\" stroke=\"#000000\" points=\"462,-306 301,-306 301,-223 462,-223 462,-306\"/>\n<text text-anchor=\"middle\" x=\"381.5\" y=\"-290.8\" font-family=\"Times,serif\" font-size=\"14.00\" fill=\"#000000\">nr.employed &lt;= 5049.85</text>\n<text text-anchor=\"middle\" x=\"381.5\" y=\"-275.8\" font-family=\"Times,serif\" font-size=\"14.00\" fill=\"#000000\">entropy = 0.825</text>\n<text text-anchor=\"middle\" x=\"381.5\" y=\"-260.8\" font-family=\"Times,serif\" font-size=\"14.00\" fill=\"#000000\">samples = 777</text>\n<text text-anchor=\"middle\" x=\"381.5\" y=\"-245.8\" font-family=\"Times,serif\" font-size=\"14.00\" fill=\"#000000\">value = [201, 576]</text>\n<text text-anchor=\"middle\" x=\"381.5\" y=\"-230.8\" font-family=\"Times,serif\" font-size=\"14.00\" fill=\"#000000\">class = 1</text>\n</g>\n<!-- 2&#45;&gt;3 -->\n<g id=\"edge3\" class=\"edge\">\n<title>2&#45;&gt;3</title>\n<path fill=\"none\" stroke=\"#000000\" d=\"M663.6848,-355.75C606.0453,-337.1111 530.2266,-312.5937 471.6956,-293.6665\"/>\n<polygon fill=\"#000000\" stroke=\"#000000\" points=\"472.679,-290.3061 462.0872,-290.5594 470.5252,-296.9666 472.679,-290.3061\"/>\n</g>\n<!-- 10 -->\n<g id=\"node11\" class=\"node\">\n<title>10</title>\n<polygon fill=\"#c8e4f8\" stroke=\"#000000\" points=\"819.5,-306 679.5,-306 679.5,-223 819.5,-223 819.5,-306\"/>\n<text text-anchor=\"middle\" x=\"749.5\" y=\"-290.8\" font-family=\"Times,serif\" font-size=\"14.00\" fill=\"#000000\">marital_single &lt;= 0.5</text>\n<text text-anchor=\"middle\" x=\"749.5\" y=\"-275.8\" font-family=\"Times,serif\" font-size=\"14.00\" fill=\"#000000\">entropy = 0.981</text>\n<text text-anchor=\"middle\" x=\"749.5\" y=\"-260.8\" font-family=\"Times,serif\" font-size=\"14.00\" fill=\"#000000\">samples = 203</text>\n<text text-anchor=\"middle\" x=\"749.5\" y=\"-245.8\" font-family=\"Times,serif\" font-size=\"14.00\" fill=\"#000000\">value = [85, 118]</text>\n<text text-anchor=\"middle\" x=\"749.5\" y=\"-230.8\" font-family=\"Times,serif\" font-size=\"14.00\" fill=\"#000000\">class = 1</text>\n</g>\n<!-- 2&#45;&gt;10 -->\n<g id=\"edge10\" class=\"edge\">\n<title>2&#45;&gt;10</title>\n<path fill=\"none\" stroke=\"#000000\" d=\"M749.5,-341.8796C749.5,-333.6838 749.5,-324.9891 749.5,-316.5013\"/>\n<polygon fill=\"#000000\" stroke=\"#000000\" points=\"753.0001,-316.298 749.5,-306.2981 746.0001,-316.2981 753.0001,-316.298\"/>\n</g>\n<!-- 4 -->\n<g id=\"node5\" class=\"node\">\n<title>4</title>\n<polygon fill=\"#73baed\" stroke=\"#000000\" points=\"261,-187 136,-187 136,-104 261,-104 261,-187\"/>\n<text text-anchor=\"middle\" x=\"198.5\" y=\"-171.8\" font-family=\"Times,serif\" font-size=\"14.00\" fill=\"#000000\">campaign &lt;= 4.5</text>\n<text text-anchor=\"middle\" x=\"198.5\" y=\"-156.8\" font-family=\"Times,serif\" font-size=\"14.00\" fill=\"#000000\">entropy = 0.77</text>\n<text text-anchor=\"middle\" x=\"198.5\" y=\"-141.8\" font-family=\"Times,serif\" font-size=\"14.00\" fill=\"#000000\">samples = 630</text>\n<text text-anchor=\"middle\" x=\"198.5\" y=\"-126.8\" font-family=\"Times,serif\" font-size=\"14.00\" fill=\"#000000\">value = [142, 488]</text>\n<text text-anchor=\"middle\" x=\"198.5\" y=\"-111.8\" font-family=\"Times,serif\" font-size=\"14.00\" fill=\"#000000\">class = 1</text>\n</g>\n<!-- 3&#45;&gt;4 -->\n<g id=\"edge4\" class=\"edge\">\n<title>3&#45;&gt;4</title>\n<path fill=\"none\" stroke=\"#000000\" d=\"M317.4955,-222.8796C302.1026,-212.87 285.5652,-202.1162 269.8607,-191.9039\"/>\n<polygon fill=\"#000000\" stroke=\"#000000\" points=\"271.5256,-188.8117 261.2342,-186.2944 267.7096,-194.6801 271.5256,-188.8117\"/>\n</g>\n<!-- 7 -->\n<g id=\"node8\" class=\"node\">\n<title>7</title>\n<polygon fill=\"#bedff6\" stroke=\"#000000\" points=\"436.5,-187 326.5,-187 326.5,-104 436.5,-104 436.5,-187\"/>\n<text text-anchor=\"middle\" x=\"381.5\" y=\"-171.8\" font-family=\"Times,serif\" font-size=\"14.00\" fill=\"#000000\">age &lt;= 21.5</text>\n<text text-anchor=\"middle\" x=\"381.5\" y=\"-156.8\" font-family=\"Times,serif\" font-size=\"14.00\" fill=\"#000000\">entropy = 0.972</text>\n<text text-anchor=\"middle\" x=\"381.5\" y=\"-141.8\" font-family=\"Times,serif\" font-size=\"14.00\" fill=\"#000000\">samples = 147</text>\n<text text-anchor=\"middle\" x=\"381.5\" y=\"-126.8\" font-family=\"Times,serif\" font-size=\"14.00\" fill=\"#000000\">value = [59, 88]</text>\n<text text-anchor=\"middle\" x=\"381.5\" y=\"-111.8\" font-family=\"Times,serif\" font-size=\"14.00\" fill=\"#000000\">class = 1</text>\n</g>\n<!-- 3&#45;&gt;7 -->\n<g id=\"edge7\" class=\"edge\">\n<title>3&#45;&gt;7</title>\n<path fill=\"none\" stroke=\"#000000\" d=\"M381.5,-222.8796C381.5,-214.6838 381.5,-205.9891 381.5,-197.5013\"/>\n<polygon fill=\"#000000\" stroke=\"#000000\" points=\"385.0001,-197.298 381.5,-187.2981 378.0001,-197.2981 385.0001,-197.298\"/>\n</g>\n<!-- 5 -->\n<g id=\"node6\" class=\"node\">\n<title>5</title>\n<polygon fill=\"#6fb8ec\" stroke=\"#000000\" points=\"125,-68 0,-68 0,0 125,0 125,-68\"/>\n<text text-anchor=\"middle\" x=\"62.5\" y=\"-52.8\" font-family=\"Times,serif\" font-size=\"14.00\" fill=\"#000000\">entropy = 0.749</text>\n<text text-anchor=\"middle\" x=\"62.5\" y=\"-37.8\" font-family=\"Times,serif\" font-size=\"14.00\" fill=\"#000000\">samples = 608</text>\n<text text-anchor=\"middle\" x=\"62.5\" y=\"-22.8\" font-family=\"Times,serif\" font-size=\"14.00\" fill=\"#000000\">value = [130, 478]</text>\n<text text-anchor=\"middle\" x=\"62.5\" y=\"-7.8\" font-family=\"Times,serif\" font-size=\"14.00\" fill=\"#000000\">class = 1</text>\n</g>\n<!-- 4&#45;&gt;5 -->\n<g id=\"edge5\" class=\"edge\">\n<title>4&#45;&gt;5</title>\n<path fill=\"none\" stroke=\"#000000\" d=\"M147.8586,-103.9815C136.2001,-94.4232 123.812,-84.2668 112.1941,-74.7419\"/>\n<polygon fill=\"#000000\" stroke=\"#000000\" points=\"114.2448,-71.8972 104.2925,-68.2637 109.8067,-77.3105 114.2448,-71.8972\"/>\n</g>\n<!-- 6 -->\n<g id=\"node7\" class=\"node\">\n<title>6</title>\n<polygon fill=\"#fbeade\" stroke=\"#000000\" points=\"253.5,-68 143.5,-68 143.5,0 253.5,0 253.5,-68\"/>\n<text text-anchor=\"middle\" x=\"198.5\" y=\"-52.8\" font-family=\"Times,serif\" font-size=\"14.00\" fill=\"#000000\">entropy = 0.994</text>\n<text text-anchor=\"middle\" x=\"198.5\" y=\"-37.8\" font-family=\"Times,serif\" font-size=\"14.00\" fill=\"#000000\">samples = 22</text>\n<text text-anchor=\"middle\" x=\"198.5\" y=\"-22.8\" font-family=\"Times,serif\" font-size=\"14.00\" fill=\"#000000\">value = [12, 10]</text>\n<text text-anchor=\"middle\" x=\"198.5\" y=\"-7.8\" font-family=\"Times,serif\" font-size=\"14.00\" fill=\"#000000\">class = 0</text>\n</g>\n<!-- 4&#45;&gt;6 -->\n<g id=\"edge6\" class=\"edge\">\n<title>4&#45;&gt;6</title>\n<path fill=\"none\" stroke=\"#000000\" d=\"M198.5,-103.9815C198.5,-95.618 198.5,-86.7965 198.5,-78.3409\"/>\n<polygon fill=\"#000000\" stroke=\"#000000\" points=\"202.0001,-78.2636 198.5,-68.2637 195.0001,-78.2637 202.0001,-78.2636\"/>\n</g>\n<!-- 8 -->\n<g id=\"node9\" class=\"node\">\n<title>8</title>\n<polygon fill=\"#e58139\" stroke=\"#000000\" points=\"367,-68 272,-68 272,0 367,0 367,-68\"/>\n<text text-anchor=\"middle\" x=\"319.5\" y=\"-52.8\" font-family=\"Times,serif\" font-size=\"14.00\" fill=\"#000000\">entropy = 0.0</text>\n<text text-anchor=\"middle\" x=\"319.5\" y=\"-37.8\" font-family=\"Times,serif\" font-size=\"14.00\" fill=\"#000000\">samples = 4</text>\n<text text-anchor=\"middle\" x=\"319.5\" y=\"-22.8\" font-family=\"Times,serif\" font-size=\"14.00\" fill=\"#000000\">value = [4, 0]</text>\n<text text-anchor=\"middle\" x=\"319.5\" y=\"-7.8\" font-family=\"Times,serif\" font-size=\"14.00\" fill=\"#000000\">class = 0</text>\n</g>\n<!-- 7&#45;&gt;8 -->\n<g id=\"edge8\" class=\"edge\">\n<title>7&#45;&gt;8</title>\n<path fill=\"none\" stroke=\"#000000\" d=\"M358.4135,-103.9815C353.5585,-95.2504 348.426,-86.0202 343.5371,-77.2281\"/>\n<polygon fill=\"#000000\" stroke=\"#000000\" points=\"346.4712,-75.3025 338.5524,-68.2637 340.3533,-78.7043 346.4712,-75.3025\"/>\n</g>\n<!-- 9 -->\n<g id=\"node10\" class=\"node\">\n<title>9</title>\n<polygon fill=\"#b5daf5\" stroke=\"#000000\" points=\"495.5,-68 385.5,-68 385.5,0 495.5,0 495.5,-68\"/>\n<text text-anchor=\"middle\" x=\"440.5\" y=\"-52.8\" font-family=\"Times,serif\" font-size=\"14.00\" fill=\"#000000\">entropy = 0.961</text>\n<text text-anchor=\"middle\" x=\"440.5\" y=\"-37.8\" font-family=\"Times,serif\" font-size=\"14.00\" fill=\"#000000\">samples = 143</text>\n<text text-anchor=\"middle\" x=\"440.5\" y=\"-22.8\" font-family=\"Times,serif\" font-size=\"14.00\" fill=\"#000000\">value = [55, 88]</text>\n<text text-anchor=\"middle\" x=\"440.5\" y=\"-7.8\" font-family=\"Times,serif\" font-size=\"14.00\" fill=\"#000000\">class = 1</text>\n</g>\n<!-- 7&#45;&gt;9 -->\n<g id=\"edge9\" class=\"edge\">\n<title>7&#45;&gt;9</title>\n<path fill=\"none\" stroke=\"#000000\" d=\"M403.4694,-103.9815C408.0895,-95.2504 412.9736,-86.0202 417.626,-77.2281\"/>\n<polygon fill=\"#000000\" stroke=\"#000000\" points=\"420.7859,-78.7395 422.3694,-68.2637 414.5987,-75.4655 420.7859,-78.7395\"/>\n</g>\n<!-- 11 -->\n<g id=\"node12\" class=\"node\">\n<title>11</title>\n<polygon fill=\"#9bcdf2\" stroke=\"#000000\" points=\"722,-187 565,-187 565,-104 722,-104 722,-187\"/>\n<text text-anchor=\"middle\" x=\"643.5\" y=\"-171.8\" font-family=\"Times,serif\" font-size=\"14.00\" fill=\"#000000\">cons.conf.idx &lt;= &#45;28.35</text>\n<text text-anchor=\"middle\" x=\"643.5\" y=\"-156.8\" font-family=\"Times,serif\" font-size=\"14.00\" fill=\"#000000\">entropy = 0.915</text>\n<text text-anchor=\"middle\" x=\"643.5\" y=\"-141.8\" font-family=\"Times,serif\" font-size=\"14.00\" fill=\"#000000\">samples = 118</text>\n<text text-anchor=\"middle\" x=\"643.5\" y=\"-126.8\" font-family=\"Times,serif\" font-size=\"14.00\" fill=\"#000000\">value = [39, 79]</text>\n<text text-anchor=\"middle\" x=\"643.5\" y=\"-111.8\" font-family=\"Times,serif\" font-size=\"14.00\" fill=\"#000000\">class = 1</text>\n</g>\n<!-- 10&#45;&gt;11 -->\n<g id=\"edge11\" class=\"edge\">\n<title>10&#45;&gt;11</title>\n<path fill=\"none\" stroke=\"#000000\" d=\"M712.4263,-222.8796C704.4039,-213.8733 695.8448,-204.2644 687.5833,-194.9897\"/>\n<polygon fill=\"#000000\" stroke=\"#000000\" points=\"689.9969,-192.4373 680.7319,-187.2981 684.7698,-197.0933 689.9969,-192.4373\"/>\n</g>\n<!-- 14 -->\n<g id=\"node15\" class=\"node\">\n<title>14</title>\n<polygon fill=\"#fbece1\" stroke=\"#000000\" points=\"972.5,-187 740.5,-187 740.5,-104 972.5,-104 972.5,-187\"/>\n<text text-anchor=\"middle\" x=\"856.5\" y=\"-171.8\" font-family=\"Times,serif\" font-size=\"14.00\" fill=\"#000000\">education_professional.course &lt;= 0.5</text>\n<text text-anchor=\"middle\" x=\"856.5\" y=\"-156.8\" font-family=\"Times,serif\" font-size=\"14.00\" fill=\"#000000\">entropy = 0.995</text>\n<text text-anchor=\"middle\" x=\"856.5\" y=\"-141.8\" font-family=\"Times,serif\" font-size=\"14.00\" fill=\"#000000\">samples = 85</text>\n<text text-anchor=\"middle\" x=\"856.5\" y=\"-126.8\" font-family=\"Times,serif\" font-size=\"14.00\" fill=\"#000000\">value = [46, 39]</text>\n<text text-anchor=\"middle\" x=\"856.5\" y=\"-111.8\" font-family=\"Times,serif\" font-size=\"14.00\" fill=\"#000000\">class = 0</text>\n</g>\n<!-- 10&#45;&gt;14 -->\n<g id=\"edge14\" class=\"edge\">\n<title>10&#45;&gt;14</title>\n<path fill=\"none\" stroke=\"#000000\" d=\"M786.9234,-222.8796C795.0215,-213.8733 803.6614,-204.2644 812.0009,-194.9897\"/>\n<polygon fill=\"#000000\" stroke=\"#000000\" points=\"814.8333,-197.0743 818.9169,-187.2981 809.628,-192.394 814.8333,-197.0743\"/>\n</g>\n<!-- 12 -->\n<g id=\"node13\" class=\"node\">\n<title>12</title>\n<polygon fill=\"#96cbf1\" stroke=\"#000000\" points=\"623.5,-68 513.5,-68 513.5,0 623.5,0 623.5,-68\"/>\n<text text-anchor=\"middle\" x=\"568.5\" y=\"-52.8\" font-family=\"Times,serif\" font-size=\"14.00\" fill=\"#000000\">entropy = 0.903</text>\n<text text-anchor=\"middle\" x=\"568.5\" y=\"-37.8\" font-family=\"Times,serif\" font-size=\"14.00\" fill=\"#000000\">samples = 116</text>\n<text text-anchor=\"middle\" x=\"568.5\" y=\"-22.8\" font-family=\"Times,serif\" font-size=\"14.00\" fill=\"#000000\">value = [37, 79]</text>\n<text text-anchor=\"middle\" x=\"568.5\" y=\"-7.8\" font-family=\"Times,serif\" font-size=\"14.00\" fill=\"#000000\">class = 1</text>\n</g>\n<!-- 11&#45;&gt;12 -->\n<g id=\"edge12\" class=\"edge\">\n<title>11&#45;&gt;12</title>\n<path fill=\"none\" stroke=\"#000000\" d=\"M615.5728,-103.9815C609.5762,-95.0666 603.2296,-85.6313 597.2041,-76.6734\"/>\n<polygon fill=\"#000000\" stroke=\"#000000\" points=\"600.0328,-74.6078 591.5473,-68.2637 594.2245,-78.5147 600.0328,-74.6078\"/>\n</g>\n<!-- 13 -->\n<g id=\"node14\" class=\"node\">\n<title>13</title>\n<polygon fill=\"#e58139\" stroke=\"#000000\" points=\"737,-68 642,-68 642,0 737,0 737,-68\"/>\n<text text-anchor=\"middle\" x=\"689.5\" y=\"-52.8\" font-family=\"Times,serif\" font-size=\"14.00\" fill=\"#000000\">entropy = 0.0</text>\n<text text-anchor=\"middle\" x=\"689.5\" y=\"-37.8\" font-family=\"Times,serif\" font-size=\"14.00\" fill=\"#000000\">samples = 2</text>\n<text text-anchor=\"middle\" x=\"689.5\" y=\"-22.8\" font-family=\"Times,serif\" font-size=\"14.00\" fill=\"#000000\">value = [2, 0]</text>\n<text text-anchor=\"middle\" x=\"689.5\" y=\"-7.8\" font-family=\"Times,serif\" font-size=\"14.00\" fill=\"#000000\">class = 0</text>\n</g>\n<!-- 11&#45;&gt;13 -->\n<g id=\"edge13\" class=\"edge\">\n<title>11&#45;&gt;13</title>\n<path fill=\"none\" stroke=\"#000000\" d=\"M660.6287,-103.9815C664.155,-95.4342 667.8785,-86.4086 671.4367,-77.7839\"/>\n<polygon fill=\"#000000\" stroke=\"#000000\" points=\"674.786,-78.8427 675.3643,-68.2637 668.315,-76.1731 674.786,-78.8427\"/>\n</g>\n<!-- 15 -->\n<g id=\"node16\" class=\"node\">\n<title>15</title>\n<polygon fill=\"#fafcfe\" stroke=\"#000000\" points=\"865.5,-68 755.5,-68 755.5,0 865.5,0 865.5,-68\"/>\n<text text-anchor=\"middle\" x=\"810.5\" y=\"-52.8\" font-family=\"Times,serif\" font-size=\"14.00\" fill=\"#000000\">entropy = 1.0</text>\n<text text-anchor=\"middle\" x=\"810.5\" y=\"-37.8\" font-family=\"Times,serif\" font-size=\"14.00\" fill=\"#000000\">samples = 75</text>\n<text text-anchor=\"middle\" x=\"810.5\" y=\"-22.8\" font-family=\"Times,serif\" font-size=\"14.00\" fill=\"#000000\">value = [37, 38]</text>\n<text text-anchor=\"middle\" x=\"810.5\" y=\"-7.8\" font-family=\"Times,serif\" font-size=\"14.00\" fill=\"#000000\">class = 1</text>\n</g>\n<!-- 14&#45;&gt;15 -->\n<g id=\"edge15\" class=\"edge\">\n<title>14&#45;&gt;15</title>\n<path fill=\"none\" stroke=\"#000000\" d=\"M839.3713,-103.9815C835.845,-95.4342 832.1215,-86.4086 828.5633,-77.7839\"/>\n<polygon fill=\"#000000\" stroke=\"#000000\" points=\"831.685,-76.1731 824.6357,-68.2637 825.214,-78.8427 831.685,-76.1731\"/>\n</g>\n<!-- 16 -->\n<g id=\"node17\" class=\"node\">\n<title>16</title>\n<polygon fill=\"#e88f4f\" stroke=\"#000000\" points=\"993.5,-68 883.5,-68 883.5,0 993.5,0 993.5,-68\"/>\n<text text-anchor=\"middle\" x=\"938.5\" y=\"-52.8\" font-family=\"Times,serif\" font-size=\"14.00\" fill=\"#000000\">entropy = 0.469</text>\n<text text-anchor=\"middle\" x=\"938.5\" y=\"-37.8\" font-family=\"Times,serif\" font-size=\"14.00\" fill=\"#000000\">samples = 10</text>\n<text text-anchor=\"middle\" x=\"938.5\" y=\"-22.8\" font-family=\"Times,serif\" font-size=\"14.00\" fill=\"#000000\">value = [9, 1]</text>\n<text text-anchor=\"middle\" x=\"938.5\" y=\"-7.8\" font-family=\"Times,serif\" font-size=\"14.00\" fill=\"#000000\">class = 0</text>\n</g>\n<!-- 14&#45;&gt;16 -->\n<g id=\"edge16\" class=\"edge\">\n<title>14&#45;&gt;16</title>\n<path fill=\"none\" stroke=\"#000000\" d=\"M887.0338,-103.9815C893.6576,-94.9747 900.6721,-85.4367 907.3205,-76.3965\"/>\n<polygon fill=\"#000000\" stroke=\"#000000\" points=\"910.1966,-78.3933 913.3016,-68.2637 904.5574,-74.2461 910.1966,-78.3933\"/>\n</g>\n<!-- 18 -->\n<g id=\"node19\" class=\"node\">\n<title>18</title>\n<polygon fill=\"#f5ceb2\" stroke=\"#000000\" points=\"1519.5,-306 1365.5,-306 1365.5,-223 1519.5,-223 1519.5,-306\"/>\n<text text-anchor=\"middle\" x=\"1442.5\" y=\"-290.8\" font-family=\"Times,serif\" font-size=\"14.00\" fill=\"#000000\">nr.employed &lt;= 5013.1</text>\n<text text-anchor=\"middle\" x=\"1442.5\" y=\"-275.8\" font-family=\"Times,serif\" font-size=\"14.00\" fill=\"#000000\">entropy = 0.958</text>\n<text text-anchor=\"middle\" x=\"1442.5\" y=\"-260.8\" font-family=\"Times,serif\" font-size=\"14.00\" fill=\"#000000\">samples = 2533</text>\n<text text-anchor=\"middle\" x=\"1442.5\" y=\"-245.8\" font-family=\"Times,serif\" font-size=\"14.00\" fill=\"#000000\">value = [1571, 962]</text>\n<text text-anchor=\"middle\" x=\"1442.5\" y=\"-230.8\" font-family=\"Times,serif\" font-size=\"14.00\" fill=\"#000000\">class = 0</text>\n</g>\n<!-- 17&#45;&gt;18 -->\n<g id=\"edge18\" class=\"edge\">\n<title>17&#45;&gt;18</title>\n<path fill=\"none\" stroke=\"#000000\" d=\"M1564.7467,-341.8796C1549.2906,-332.0962 1532.7113,-321.6019 1516.9055,-311.5971\"/>\n<polygon fill=\"#000000\" stroke=\"#000000\" points=\"1518.5377,-308.488 1508.2162,-306.0969 1514.7938,-314.4027 1518.5377,-308.488\"/>\n</g>\n<!-- 25 -->\n<g id=\"node26\" class=\"node\">\n<title>25</title>\n<polygon fill=\"#eca46f\" stroke=\"#000000\" points=\"1764,-306 1639,-306 1639,-223 1764,-223 1764,-306\"/>\n<text text-anchor=\"middle\" x=\"1701.5\" y=\"-290.8\" font-family=\"Times,serif\" font-size=\"14.00\" fill=\"#000000\">month_apr &lt;= 0.5</text>\n<text text-anchor=\"middle\" x=\"1701.5\" y=\"-275.8\" font-family=\"Times,serif\" font-size=\"14.00\" fill=\"#000000\">entropy = 0.751</text>\n<text text-anchor=\"middle\" x=\"1701.5\" y=\"-260.8\" font-family=\"Times,serif\" font-size=\"14.00\" fill=\"#000000\">samples = 474</text>\n<text text-anchor=\"middle\" x=\"1701.5\" y=\"-245.8\" font-family=\"Times,serif\" font-size=\"14.00\" fill=\"#000000\">value = [372, 102]</text>\n<text text-anchor=\"middle\" x=\"1701.5\" y=\"-230.8\" font-family=\"Times,serif\" font-size=\"14.00\" fill=\"#000000\">class = 0</text>\n</g>\n<!-- 17&#45;&gt;25 -->\n<g id=\"edge25\" class=\"edge\">\n<title>17&#45;&gt;25</title>\n<path fill=\"none\" stroke=\"#000000\" d=\"M1655.3324,-341.8796C1660.4909,-333.2335 1665.9808,-324.0322 1671.3076,-315.1042\"/>\n<polygon fill=\"#000000\" stroke=\"#000000\" points=\"1674.4436,-316.679 1676.5617,-306.2981 1668.4322,-313.0924 1674.4436,-316.679\"/>\n</g>\n<!-- 19 -->\n<g id=\"node20\" class=\"node\">\n<title>19</title>\n<polygon fill=\"#fbeade\" stroke=\"#000000\" points=\"1297.5,-187 1137.5,-187 1137.5,-104 1297.5,-104 1297.5,-187\"/>\n<text text-anchor=\"middle\" x=\"1217.5\" y=\"-171.8\" font-family=\"Times,serif\" font-size=\"14.00\" fill=\"#000000\">poutcome_failure &lt;= 0.5</text>\n<text text-anchor=\"middle\" x=\"1217.5\" y=\"-156.8\" font-family=\"Times,serif\" font-size=\"14.00\" fill=\"#000000\">entropy = 0.994</text>\n<text text-anchor=\"middle\" x=\"1217.5\" y=\"-141.8\" font-family=\"Times,serif\" font-size=\"14.00\" fill=\"#000000\">samples = 845</text>\n<text text-anchor=\"middle\" x=\"1217.5\" y=\"-126.8\" font-family=\"Times,serif\" font-size=\"14.00\" fill=\"#000000\">value = [461, 384]</text>\n<text text-anchor=\"middle\" x=\"1217.5\" y=\"-111.8\" font-family=\"Times,serif\" font-size=\"14.00\" fill=\"#000000\">class = 0</text>\n</g>\n<!-- 18&#45;&gt;19 -->\n<g id=\"edge19\" class=\"edge\">\n<title>18&#45;&gt;19</title>\n<path fill=\"none\" stroke=\"#000000\" d=\"M1365.3826,-223.7134C1345.9667,-213.4446 1324.9854,-202.3478 1305.0973,-191.8292\"/>\n<polygon fill=\"#000000\" stroke=\"#000000\" points=\"1306.5222,-188.6235 1296.046,-187.0421 1303.2494,-194.8113 1306.5222,-188.6235\"/>\n</g>\n<!-- 22 -->\n<g id=\"node23\" class=\"node\">\n<title>22</title>\n<polygon fill=\"#f3c3a0\" stroke=\"#000000\" points=\"1509.5,-187 1375.5,-187 1375.5,-104 1509.5,-104 1509.5,-187\"/>\n<text text-anchor=\"middle\" x=\"1442.5\" y=\"-171.8\" font-family=\"Times,serif\" font-size=\"14.00\" fill=\"#000000\">euribor3m &lt;= 0.738</text>\n<text text-anchor=\"middle\" x=\"1442.5\" y=\"-156.8\" font-family=\"Times,serif\" font-size=\"14.00\" fill=\"#000000\">entropy = 0.927</text>\n<text text-anchor=\"middle\" x=\"1442.5\" y=\"-141.8\" font-family=\"Times,serif\" font-size=\"14.00\" fill=\"#000000\">samples = 1688</text>\n<text text-anchor=\"middle\" x=\"1442.5\" y=\"-126.8\" font-family=\"Times,serif\" font-size=\"14.00\" fill=\"#000000\">value = [1110, 578]</text>\n<text text-anchor=\"middle\" x=\"1442.5\" y=\"-111.8\" font-family=\"Times,serif\" font-size=\"14.00\" fill=\"#000000\">class = 0</text>\n</g>\n<!-- 18&#45;&gt;22 -->\n<g id=\"edge22\" class=\"edge\">\n<title>18&#45;&gt;22</title>\n<path fill=\"none\" stroke=\"#000000\" d=\"M1442.5,-222.8796C1442.5,-214.6838 1442.5,-205.9891 1442.5,-197.5013\"/>\n<polygon fill=\"#000000\" stroke=\"#000000\" points=\"1446.0001,-197.298 1442.5,-187.2981 1439.0001,-197.2981 1446.0001,-197.298\"/>\n</g>\n<!-- 20 -->\n<g id=\"node21\" class=\"node\">\n<title>20</title>\n<polygon fill=\"#ddeefb\" stroke=\"#000000\" points=\"1137,-68 1012,-68 1012,0 1137,0 1137,-68\"/>\n<text text-anchor=\"middle\" x=\"1074.5\" y=\"-52.8\" font-family=\"Times,serif\" font-size=\"14.00\" fill=\"#000000\">entropy = 0.994</text>\n<text text-anchor=\"middle\" x=\"1074.5\" y=\"-37.8\" font-family=\"Times,serif\" font-size=\"14.00\" fill=\"#000000\">samples = 497</text>\n<text text-anchor=\"middle\" x=\"1074.5\" y=\"-22.8\" font-family=\"Times,serif\" font-size=\"14.00\" fill=\"#000000\">value = [225, 272]</text>\n<text text-anchor=\"middle\" x=\"1074.5\" y=\"-7.8\" font-family=\"Times,serif\" font-size=\"14.00\" fill=\"#000000\">class = 1</text>\n</g>\n<!-- 19&#45;&gt;20 -->\n<g id=\"edge20\" class=\"edge\">\n<title>19&#45;&gt;20</title>\n<path fill=\"none\" stroke=\"#000000\" d=\"M1164.2521,-103.9815C1151.8756,-94.3313 1138.7172,-84.0714 1126.3997,-74.4673\"/>\n<polygon fill=\"#000000\" stroke=\"#000000\" points=\"1128.4818,-71.6525 1118.4435,-68.2637 1124.1775,-77.1728 1128.4818,-71.6525\"/>\n</g>\n<!-- 21 -->\n<g id=\"node22\" class=\"node\">\n<title>21</title>\n<polygon fill=\"#f1bd97\" stroke=\"#000000\" points=\"1279.5,-68 1155.5,-68 1155.5,0 1279.5,0 1279.5,-68\"/>\n<text text-anchor=\"middle\" x=\"1217.5\" y=\"-52.8\" font-family=\"Times,serif\" font-size=\"14.00\" fill=\"#000000\">entropy = 0.906</text>\n<text text-anchor=\"middle\" x=\"1217.5\" y=\"-37.8\" font-family=\"Times,serif\" font-size=\"14.00\" fill=\"#000000\">samples = 348</text>\n<text text-anchor=\"middle\" x=\"1217.5\" y=\"-22.8\" font-family=\"Times,serif\" font-size=\"14.00\" fill=\"#000000\">value = [236, 112]</text>\n<text text-anchor=\"middle\" x=\"1217.5\" y=\"-7.8\" font-family=\"Times,serif\" font-size=\"14.00\" fill=\"#000000\">class = 0</text>\n</g>\n<!-- 19&#45;&gt;21 -->\n<g id=\"edge21\" class=\"edge\">\n<title>19&#45;&gt;21</title>\n<path fill=\"none\" stroke=\"#000000\" d=\"M1217.5,-103.9815C1217.5,-95.618 1217.5,-86.7965 1217.5,-78.3409\"/>\n<polygon fill=\"#000000\" stroke=\"#000000\" points=\"1221.0001,-78.2636 1217.5,-68.2637 1214.0001,-78.2637 1221.0001,-78.2636\"/>\n</g>\n<!-- 23 -->\n<g id=\"node24\" class=\"node\">\n<title>23</title>\n<polygon fill=\"#f9e1d0\" stroke=\"#000000\" points=\"1423,-68 1298,-68 1298,0 1423,0 1423,-68\"/>\n<text text-anchor=\"middle\" x=\"1360.5\" y=\"-52.8\" font-family=\"Times,serif\" font-size=\"14.00\" fill=\"#000000\">entropy = 0.987</text>\n<text text-anchor=\"middle\" x=\"1360.5\" y=\"-37.8\" font-family=\"Times,serif\" font-size=\"14.00\" fill=\"#000000\">samples = 368</text>\n<text text-anchor=\"middle\" x=\"1360.5\" y=\"-22.8\" font-family=\"Times,serif\" font-size=\"14.00\" fill=\"#000000\">value = [209, 159]</text>\n<text text-anchor=\"middle\" x=\"1360.5\" y=\"-7.8\" font-family=\"Times,serif\" font-size=\"14.00\" fill=\"#000000\">class = 0</text>\n</g>\n<!-- 22&#45;&gt;23 -->\n<g id=\"edge23\" class=\"edge\">\n<title>22&#45;&gt;23</title>\n<path fill=\"none\" stroke=\"#000000\" d=\"M1411.9662,-103.9815C1405.3424,-94.9747 1398.3279,-85.4367 1391.6795,-76.3965\"/>\n<polygon fill=\"#000000\" stroke=\"#000000\" points=\"1394.4426,-74.2461 1385.6984,-68.2637 1388.8034,-78.3933 1394.4426,-74.2461\"/>\n</g>\n<!-- 24 -->\n<g id=\"node25\" class=\"node\">\n<title>24</title>\n<polygon fill=\"#f1bc95\" stroke=\"#000000\" points=\"1566,-68 1441,-68 1441,0 1566,0 1566,-68\"/>\n<text text-anchor=\"middle\" x=\"1503.5\" y=\"-52.8\" font-family=\"Times,serif\" font-size=\"14.00\" fill=\"#000000\">entropy = 0.902</text>\n<text text-anchor=\"middle\" x=\"1503.5\" y=\"-37.8\" font-family=\"Times,serif\" font-size=\"14.00\" fill=\"#000000\">samples = 1320</text>\n<text text-anchor=\"middle\" x=\"1503.5\" y=\"-22.8\" font-family=\"Times,serif\" font-size=\"14.00\" fill=\"#000000\">value = [901, 419]</text>\n<text text-anchor=\"middle\" x=\"1503.5\" y=\"-7.8\" font-family=\"Times,serif\" font-size=\"14.00\" fill=\"#000000\">class = 0</text>\n</g>\n<!-- 22&#45;&gt;24 -->\n<g id=\"edge24\" class=\"edge\">\n<title>22&#45;&gt;24</title>\n<path fill=\"none\" stroke=\"#000000\" d=\"M1465.2141,-103.9815C1469.9908,-95.2504 1475.0405,-86.0202 1479.8506,-77.2281\"/>\n<polygon fill=\"#000000\" stroke=\"#000000\" points=\"1483.0258,-78.7165 1484.7549,-68.2637 1476.8847,-75.3568 1483.0258,-78.7165\"/>\n</g>\n<!-- 26 -->\n<g id=\"node27\" class=\"node\">\n<title>26</title>\n<polygon fill=\"#eb9f68\" stroke=\"#000000\" points=\"1772,-187 1631,-187 1631,-104 1772,-104 1772,-187\"/>\n<text text-anchor=\"middle\" x=\"1701.5\" y=\"-171.8\" font-family=\"Times,serif\" font-size=\"14.00\" fill=\"#000000\">emp.var.rate &lt;= &#45;1.75</text>\n<text text-anchor=\"middle\" x=\"1701.5\" y=\"-156.8\" font-family=\"Times,serif\" font-size=\"14.00\" fill=\"#000000\">entropy = 0.705</text>\n<text text-anchor=\"middle\" x=\"1701.5\" y=\"-141.8\" font-family=\"Times,serif\" font-size=\"14.00\" fill=\"#000000\">samples = 459</text>\n<text text-anchor=\"middle\" x=\"1701.5\" y=\"-126.8\" font-family=\"Times,serif\" font-size=\"14.00\" fill=\"#000000\">value = [371, 88]</text>\n<text text-anchor=\"middle\" x=\"1701.5\" y=\"-111.8\" font-family=\"Times,serif\" font-size=\"14.00\" fill=\"#000000\">class = 0</text>\n</g>\n<!-- 25&#45;&gt;26 -->\n<g id=\"edge26\" class=\"edge\">\n<title>25&#45;&gt;26</title>\n<path fill=\"none\" stroke=\"#000000\" d=\"M1701.5,-222.8796C1701.5,-214.6838 1701.5,-205.9891 1701.5,-197.5013\"/>\n<polygon fill=\"#000000\" stroke=\"#000000\" points=\"1705.0001,-197.298 1701.5,-187.2981 1698.0001,-197.2981 1705.0001,-197.298\"/>\n</g>\n<!-- 29 -->\n<g id=\"node30\" class=\"node\">\n<title>29</title>\n<polygon fill=\"#47a4e7\" stroke=\"#000000\" points=\"1963,-187 1848,-187 1848,-104 1963,-104 1963,-187\"/>\n<text text-anchor=\"middle\" x=\"1905.5\" y=\"-171.8\" font-family=\"Times,serif\" font-size=\"14.00\" fill=\"#000000\">campaign &lt;= 6.5</text>\n<text text-anchor=\"middle\" x=\"1905.5\" y=\"-156.8\" font-family=\"Times,serif\" font-size=\"14.00\" fill=\"#000000\">entropy = 0.353</text>\n<text text-anchor=\"middle\" x=\"1905.5\" y=\"-141.8\" font-family=\"Times,serif\" font-size=\"14.00\" fill=\"#000000\">samples = 15</text>\n<text text-anchor=\"middle\" x=\"1905.5\" y=\"-126.8\" font-family=\"Times,serif\" font-size=\"14.00\" fill=\"#000000\">value = [1, 14]</text>\n<text text-anchor=\"middle\" x=\"1905.5\" y=\"-111.8\" font-family=\"Times,serif\" font-size=\"14.00\" fill=\"#000000\">class = 1</text>\n</g>\n<!-- 25&#45;&gt;29 -->\n<g id=\"edge29\" class=\"edge\">\n<title>25&#45;&gt;29</title>\n<path fill=\"none\" stroke=\"#000000\" d=\"M1764.0931,-227.9874C1787.8763,-214.1138 1815.0372,-198.27 1839.1555,-184.201\"/>\n<polygon fill=\"#000000\" stroke=\"#000000\" points=\"1841.0174,-187.1669 1847.8917,-179.1049 1837.4903,-181.1204 1841.0174,-187.1669\"/>\n</g>\n<!-- 27 -->\n<g id=\"node28\" class=\"node\">\n<title>27</title>\n<polygon fill=\"#edaa79\" stroke=\"#000000\" points=\"1701,-68 1584,-68 1584,0 1701,0 1701,-68\"/>\n<text text-anchor=\"middle\" x=\"1642.5\" y=\"-52.8\" font-family=\"Times,serif\" font-size=\"14.00\" fill=\"#000000\">entropy = 0.801</text>\n<text text-anchor=\"middle\" x=\"1642.5\" y=\"-37.8\" font-family=\"Times,serif\" font-size=\"14.00\" fill=\"#000000\">samples = 267</text>\n<text text-anchor=\"middle\" x=\"1642.5\" y=\"-22.8\" font-family=\"Times,serif\" font-size=\"14.00\" fill=\"#000000\">value = [202, 65]</text>\n<text text-anchor=\"middle\" x=\"1642.5\" y=\"-7.8\" font-family=\"Times,serif\" font-size=\"14.00\" fill=\"#000000\">class = 0</text>\n</g>\n<!-- 26&#45;&gt;27 -->\n<g id=\"edge27\" class=\"edge\">\n<title>26&#45;&gt;27</title>\n<path fill=\"none\" stroke=\"#000000\" d=\"M1679.5306,-103.9815C1674.9105,-95.2504 1670.0264,-86.0202 1665.374,-77.2281\"/>\n<polygon fill=\"#000000\" stroke=\"#000000\" points=\"1668.4013,-75.4655 1660.6306,-68.2637 1662.2141,-78.7395 1668.4013,-75.4655\"/>\n</g>\n<!-- 28 -->\n<g id=\"node29\" class=\"node\">\n<title>28</title>\n<polygon fill=\"#e99254\" stroke=\"#000000\" points=\"1836,-68 1719,-68 1719,0 1836,0 1836,-68\"/>\n<text text-anchor=\"middle\" x=\"1777.5\" y=\"-52.8\" font-family=\"Times,serif\" font-size=\"14.00\" fill=\"#000000\">entropy = 0.529</text>\n<text text-anchor=\"middle\" x=\"1777.5\" y=\"-37.8\" font-family=\"Times,serif\" font-size=\"14.00\" fill=\"#000000\">samples = 192</text>\n<text text-anchor=\"middle\" x=\"1777.5\" y=\"-22.8\" font-family=\"Times,serif\" font-size=\"14.00\" fill=\"#000000\">value = [169, 23]</text>\n<text text-anchor=\"middle\" x=\"1777.5\" y=\"-7.8\" font-family=\"Times,serif\" font-size=\"14.00\" fill=\"#000000\">class = 0</text>\n</g>\n<!-- 26&#45;&gt;28 -->\n<g id=\"edge28\" class=\"edge\">\n<title>26&#45;&gt;28</title>\n<path fill=\"none\" stroke=\"#000000\" d=\"M1729.7996,-103.9815C1735.8762,-95.0666 1742.3074,-85.6313 1748.4132,-76.6734\"/>\n<polygon fill=\"#000000\" stroke=\"#000000\" points=\"1751.4052,-78.498 1754.1454,-68.2637 1745.6211,-74.5555 1751.4052,-78.498\"/>\n</g>\n<!-- 30 -->\n<g id=\"node31\" class=\"node\">\n<title>30</title>\n<polygon fill=\"#399de5\" stroke=\"#000000\" points=\"1956.5,-68 1854.5,-68 1854.5,0 1956.5,0 1956.5,-68\"/>\n<text text-anchor=\"middle\" x=\"1905.5\" y=\"-52.8\" font-family=\"Times,serif\" font-size=\"14.00\" fill=\"#000000\">entropy = 0.0</text>\n<text text-anchor=\"middle\" x=\"1905.5\" y=\"-37.8\" font-family=\"Times,serif\" font-size=\"14.00\" fill=\"#000000\">samples = 14</text>\n<text text-anchor=\"middle\" x=\"1905.5\" y=\"-22.8\" font-family=\"Times,serif\" font-size=\"14.00\" fill=\"#000000\">value = [0, 14]</text>\n<text text-anchor=\"middle\" x=\"1905.5\" y=\"-7.8\" font-family=\"Times,serif\" font-size=\"14.00\" fill=\"#000000\">class = 1</text>\n</g>\n<!-- 29&#45;&gt;30 -->\n<g id=\"edge30\" class=\"edge\">\n<title>29&#45;&gt;30</title>\n<path fill=\"none\" stroke=\"#000000\" d=\"M1905.5,-103.9815C1905.5,-95.618 1905.5,-86.7965 1905.5,-78.3409\"/>\n<polygon fill=\"#000000\" stroke=\"#000000\" points=\"1909.0001,-78.2636 1905.5,-68.2637 1902.0001,-78.2637 1909.0001,-78.2636\"/>\n</g>\n<!-- 31 -->\n<g id=\"node32\" class=\"node\">\n<title>31</title>\n<polygon fill=\"#e58139\" stroke=\"#000000\" points=\"2070,-68 1975,-68 1975,0 2070,0 2070,-68\"/>\n<text text-anchor=\"middle\" x=\"2022.5\" y=\"-52.8\" font-family=\"Times,serif\" font-size=\"14.00\" fill=\"#000000\">entropy = 0.0</text>\n<text text-anchor=\"middle\" x=\"2022.5\" y=\"-37.8\" font-family=\"Times,serif\" font-size=\"14.00\" fill=\"#000000\">samples = 1</text>\n<text text-anchor=\"middle\" x=\"2022.5\" y=\"-22.8\" font-family=\"Times,serif\" font-size=\"14.00\" fill=\"#000000\">value = [1, 0]</text>\n<text text-anchor=\"middle\" x=\"2022.5\" y=\"-7.8\" font-family=\"Times,serif\" font-size=\"14.00\" fill=\"#000000\">class = 0</text>\n</g>\n<!-- 29&#45;&gt;31 -->\n<g id=\"edge31\" class=\"edge\">\n<title>29&#45;&gt;31</title>\n<path fill=\"none\" stroke=\"#000000\" d=\"M1949.0665,-103.9815C1958.9034,-94.607 1969.344,-84.6572 1979.1711,-75.2921\"/>\n<polygon fill=\"#000000\" stroke=\"#000000\" points=\"1981.7216,-77.6963 1986.5462,-68.2637 1976.8924,-72.6289 1981.7216,-77.6963\"/>\n</g>\n<!-- 33 -->\n<g id=\"node34\" class=\"node\">\n<title>33</title>\n<polygon fill=\"#eca26d\" stroke=\"#000000\" points=\"2561.5,-425 2427.5,-425 2427.5,-342 2561.5,-342 2561.5,-425\"/>\n<text text-anchor=\"middle\" x=\"2494.5\" y=\"-409.8\" font-family=\"Times,serif\" font-size=\"14.00\" fill=\"#000000\">euribor3m &lt;= 1.525</text>\n<text text-anchor=\"middle\" x=\"2494.5\" y=\"-394.8\" font-family=\"Times,serif\" font-size=\"14.00\" fill=\"#000000\">entropy = 0.737</text>\n<text text-anchor=\"middle\" x=\"2494.5\" y=\"-379.8\" font-family=\"Times,serif\" font-size=\"14.00\" fill=\"#000000\">samples = 2169</text>\n<text text-anchor=\"middle\" x=\"2494.5\" y=\"-364.8\" font-family=\"Times,serif\" font-size=\"14.00\" fill=\"#000000\">value = [1719, 450]</text>\n<text text-anchor=\"middle\" x=\"2494.5\" y=\"-349.8\" font-family=\"Times,serif\" font-size=\"14.00\" fill=\"#000000\">class = 0</text>\n</g>\n<!-- 32&#45;&gt;33 -->\n<g id=\"edge33\" class=\"edge\">\n<title>32&#45;&gt;33</title>\n<path fill=\"none\" stroke=\"#000000\" d=\"M2494.5,-460.8796C2494.5,-452.6838 2494.5,-443.9891 2494.5,-435.5013\"/>\n<polygon fill=\"#000000\" stroke=\"#000000\" points=\"2498.0001,-435.298 2494.5,-425.2981 2491.0001,-435.2981 2498.0001,-435.298\"/>\n</g>\n<!-- 46 -->\n<g id=\"node47\" class=\"node\">\n<title>46</title>\n<polygon fill=\"#e78845\" stroke=\"#000000\" points=\"3251.5,-425 3089.5,-425 3089.5,-342 3251.5,-342 3251.5,-425\"/>\n<text text-anchor=\"middle\" x=\"3170.5\" y=\"-409.8\" font-family=\"Times,serif\" font-size=\"14.00\" fill=\"#000000\">cons.price.idx &lt;= 93.956</text>\n<text text-anchor=\"middle\" x=\"3170.5\" y=\"-394.8\" font-family=\"Times,serif\" font-size=\"14.00\" fill=\"#000000\">entropy = 0.312</text>\n<text text-anchor=\"middle\" x=\"3170.5\" y=\"-379.8\" font-family=\"Times,serif\" font-size=\"14.00\" fill=\"#000000\">samples = 26784</text>\n<text text-anchor=\"middle\" x=\"3170.5\" y=\"-364.8\" font-family=\"Times,serif\" font-size=\"14.00\" fill=\"#000000\">value = [25281, 1503]</text>\n<text text-anchor=\"middle\" x=\"3170.5\" y=\"-349.8\" font-family=\"Times,serif\" font-size=\"14.00\" fill=\"#000000\">class = 0</text>\n</g>\n<!-- 32&#45;&gt;46 -->\n<g id=\"edge46\" class=\"edge\">\n<title>32&#45;&gt;46</title>\n<path fill=\"none\" stroke=\"#000000\" d=\"M2573.0372,-488.6747C2699.0064,-466.4996 2945.5929,-423.0916 3079.21,-399.5703\"/>\n<polygon fill=\"#000000\" stroke=\"#000000\" points=\"3080.1771,-402.9539 3089.4188,-397.7732 3078.9634,-396.0599 3080.1771,-402.9539\"/>\n</g>\n<!-- 34 -->\n<g id=\"node35\" class=\"node\">\n<title>34</title>\n<polygon fill=\"#eb9d65\" stroke=\"#000000\" points=\"2489.5,-306 2355.5,-306 2355.5,-223 2489.5,-223 2489.5,-306\"/>\n<text text-anchor=\"middle\" x=\"2422.5\" y=\"-290.8\" font-family=\"Times,serif\" font-size=\"14.00\" fill=\"#000000\">euribor3m &lt;= 1.378</text>\n<text text-anchor=\"middle\" x=\"2422.5\" y=\"-275.8\" font-family=\"Times,serif\" font-size=\"14.00\" fill=\"#000000\">entropy = 0.682</text>\n<text text-anchor=\"middle\" x=\"2422.5\" y=\"-260.8\" font-family=\"Times,serif\" font-size=\"14.00\" fill=\"#000000\">samples = 1966</text>\n<text text-anchor=\"middle\" x=\"2422.5\" y=\"-245.8\" font-family=\"Times,serif\" font-size=\"14.00\" fill=\"#000000\">value = [1610, 356]</text>\n<text text-anchor=\"middle\" x=\"2422.5\" y=\"-230.8\" font-family=\"Times,serif\" font-size=\"14.00\" fill=\"#000000\">class = 0</text>\n</g>\n<!-- 33&#45;&gt;34 -->\n<g id=\"edge34\" class=\"edge\">\n<title>33&#45;&gt;34</title>\n<path fill=\"none\" stroke=\"#000000\" d=\"M2469.3179,-341.8796C2464.0867,-333.2335 2458.5195,-324.0322 2453.1177,-315.1042\"/>\n<polygon fill=\"#000000\" stroke=\"#000000\" points=\"2455.9608,-313.0421 2447.7896,-306.2981 2449.9717,-316.6658 2455.9608,-313.0421\"/>\n</g>\n<!-- 41 -->\n<g id=\"node42\" class=\"node\">\n<title>41</title>\n<polygon fill=\"#fbeee4\" stroke=\"#000000\" points=\"2625,-306 2508,-306 2508,-223 2625,-223 2625,-306\"/>\n<text text-anchor=\"middle\" x=\"2566.5\" y=\"-290.8\" font-family=\"Times,serif\" font-size=\"14.00\" fill=\"#000000\">pdays &lt;= 504.5</text>\n<text text-anchor=\"middle\" x=\"2566.5\" y=\"-275.8\" font-family=\"Times,serif\" font-size=\"14.00\" fill=\"#000000\">entropy = 0.996</text>\n<text text-anchor=\"middle\" x=\"2566.5\" y=\"-260.8\" font-family=\"Times,serif\" font-size=\"14.00\" fill=\"#000000\">samples = 203</text>\n<text text-anchor=\"middle\" x=\"2566.5\" y=\"-245.8\" font-family=\"Times,serif\" font-size=\"14.00\" fill=\"#000000\">value = [109, 94]</text>\n<text text-anchor=\"middle\" x=\"2566.5\" y=\"-230.8\" font-family=\"Times,serif\" font-size=\"14.00\" fill=\"#000000\">class = 0</text>\n</g>\n<!-- 33&#45;&gt;41 -->\n<g id=\"edge41\" class=\"edge\">\n<title>33&#45;&gt;41</title>\n<path fill=\"none\" stroke=\"#000000\" d=\"M2519.6821,-341.8796C2524.9133,-333.2335 2530.4805,-324.0322 2535.8823,-315.1042\"/>\n<polygon fill=\"#000000\" stroke=\"#000000\" points=\"2539.0283,-316.6658 2541.2104,-306.2981 2533.0392,-313.0421 2539.0283,-316.6658\"/>\n</g>\n<!-- 35 -->\n<g id=\"node36\" class=\"node\">\n<title>35</title>\n<polygon fill=\"#f8dfcd\" stroke=\"#000000\" points=\"2338,-187 2213,-187 2213,-104 2338,-104 2338,-187\"/>\n<text text-anchor=\"middle\" x=\"2275.5\" y=\"-171.8\" font-family=\"Times,serif\" font-size=\"14.00\" fill=\"#000000\">pdays &lt;= 6.5</text>\n<text text-anchor=\"middle\" x=\"2275.5\" y=\"-156.8\" font-family=\"Times,serif\" font-size=\"14.00\" fill=\"#000000\">entropy = 0.985</text>\n<text text-anchor=\"middle\" x=\"2275.5\" y=\"-141.8\" font-family=\"Times,serif\" font-size=\"14.00\" fill=\"#000000\">samples = 250</text>\n<text text-anchor=\"middle\" x=\"2275.5\" y=\"-126.8\" font-family=\"Times,serif\" font-size=\"14.00\" fill=\"#000000\">value = [143, 107]</text>\n<text text-anchor=\"middle\" x=\"2275.5\" y=\"-111.8\" font-family=\"Times,serif\" font-size=\"14.00\" fill=\"#000000\">class = 0</text>\n</g>\n<!-- 34&#45;&gt;35 -->\n<g id=\"edge35\" class=\"edge\">\n<title>34&#45;&gt;35</title>\n<path fill=\"none\" stroke=\"#000000\" d=\"M2371.0865,-222.8796C2359.4048,-213.4229 2346.9025,-203.302 2334.919,-193.6011\"/>\n<polygon fill=\"#000000\" stroke=\"#000000\" points=\"2337.1076,-190.8697 2327.1329,-187.2981 2332.7032,-196.3105 2337.1076,-190.8697\"/>\n</g>\n<!-- 38 -->\n<g id=\"node39\" class=\"node\">\n<title>38</title>\n<polygon fill=\"#e9965b\" stroke=\"#000000\" points=\"2488.5,-187 2356.5,-187 2356.5,-104 2488.5,-104 2488.5,-187\"/>\n<text text-anchor=\"middle\" x=\"2422.5\" y=\"-171.8\" font-family=\"Times,serif\" font-size=\"14.00\" fill=\"#000000\">age &lt;= 57.5</text>\n<text text-anchor=\"middle\" x=\"2422.5\" y=\"-156.8\" font-family=\"Times,serif\" font-size=\"14.00\" fill=\"#000000\">entropy = 0.597</text>\n<text text-anchor=\"middle\" x=\"2422.5\" y=\"-141.8\" font-family=\"Times,serif\" font-size=\"14.00\" fill=\"#000000\">samples = 1716</text>\n<text text-anchor=\"middle\" x=\"2422.5\" y=\"-126.8\" font-family=\"Times,serif\" font-size=\"14.00\" fill=\"#000000\">value = [1467, 249]</text>\n<text text-anchor=\"middle\" x=\"2422.5\" y=\"-111.8\" font-family=\"Times,serif\" font-size=\"14.00\" fill=\"#000000\">class = 0</text>\n</g>\n<!-- 34&#45;&gt;38 -->\n<g id=\"edge38\" class=\"edge\">\n<title>34&#45;&gt;38</title>\n<path fill=\"none\" stroke=\"#000000\" d=\"M2422.5,-222.8796C2422.5,-214.6838 2422.5,-205.9891 2422.5,-197.5013\"/>\n<polygon fill=\"#000000\" stroke=\"#000000\" points=\"2426.0001,-197.298 2422.5,-187.2981 2419.0001,-197.2981 2426.0001,-197.298\"/>\n</g>\n<!-- 36 -->\n<g id=\"node37\" class=\"node\">\n<title>36</title>\n<polygon fill=\"#80c0ee\" stroke=\"#000000\" points=\"2198.5,-68 2088.5,-68 2088.5,0 2198.5,0 2198.5,-68\"/>\n<text text-anchor=\"middle\" x=\"2143.5\" y=\"-52.8\" font-family=\"Times,serif\" font-size=\"14.00\" fill=\"#000000\">entropy = 0.834</text>\n<text text-anchor=\"middle\" x=\"2143.5\" y=\"-37.8\" font-family=\"Times,serif\" font-size=\"14.00\" fill=\"#000000\">samples = 34</text>\n<text text-anchor=\"middle\" x=\"2143.5\" y=\"-22.8\" font-family=\"Times,serif\" font-size=\"14.00\" fill=\"#000000\">value = [9, 25]</text>\n<text text-anchor=\"middle\" x=\"2143.5\" y=\"-7.8\" font-family=\"Times,serif\" font-size=\"14.00\" fill=\"#000000\">class = 1</text>\n</g>\n<!-- 35&#45;&gt;36 -->\n<g id=\"edge36\" class=\"edge\">\n<title>35&#45;&gt;36</title>\n<path fill=\"none\" stroke=\"#000000\" d=\"M2226.3481,-103.9815C2215.0324,-94.4232 2203.0087,-84.2668 2191.7325,-74.7419\"/>\n<polygon fill=\"#000000\" stroke=\"#000000\" points=\"2193.9612,-72.0429 2184.0633,-68.2637 2189.4441,-77.3904 2193.9612,-72.0429\"/>\n</g>\n<!-- 37 -->\n<g id=\"node38\" class=\"node\">\n<title>37</title>\n<polygon fill=\"#f5ceb2\" stroke=\"#000000\" points=\"2334,-68 2217,-68 2217,0 2334,0 2334,-68\"/>\n<text text-anchor=\"middle\" x=\"2275.5\" y=\"-52.8\" font-family=\"Times,serif\" font-size=\"14.00\" fill=\"#000000\">entropy = 0.958</text>\n<text text-anchor=\"middle\" x=\"2275.5\" y=\"-37.8\" font-family=\"Times,serif\" font-size=\"14.00\" fill=\"#000000\">samples = 216</text>\n<text text-anchor=\"middle\" x=\"2275.5\" y=\"-22.8\" font-family=\"Times,serif\" font-size=\"14.00\" fill=\"#000000\">value = [134, 82]</text>\n<text text-anchor=\"middle\" x=\"2275.5\" y=\"-7.8\" font-family=\"Times,serif\" font-size=\"14.00\" fill=\"#000000\">class = 0</text>\n</g>\n<!-- 35&#45;&gt;37 -->\n<g id=\"edge37\" class=\"edge\">\n<title>35&#45;&gt;37</title>\n<path fill=\"none\" stroke=\"#000000\" d=\"M2275.5,-103.9815C2275.5,-95.618 2275.5,-86.7965 2275.5,-78.3409\"/>\n<polygon fill=\"#000000\" stroke=\"#000000\" points=\"2279.0001,-78.2636 2275.5,-68.2637 2272.0001,-78.2637 2279.0001,-78.2636\"/>\n</g>\n<!-- 39 -->\n<g id=\"node40\" class=\"node\">\n<title>39</title>\n<polygon fill=\"#e99457\" stroke=\"#000000\" points=\"2484.5,-68 2352.5,-68 2352.5,0 2484.5,0 2484.5,-68\"/>\n<text text-anchor=\"middle\" x=\"2418.5\" y=\"-52.8\" font-family=\"Times,serif\" font-size=\"14.00\" fill=\"#000000\">entropy = 0.557</text>\n<text text-anchor=\"middle\" x=\"2418.5\" y=\"-37.8\" font-family=\"Times,serif\" font-size=\"14.00\" fill=\"#000000\">samples = 1619</text>\n<text text-anchor=\"middle\" x=\"2418.5\" y=\"-22.8\" font-family=\"Times,serif\" font-size=\"14.00\" fill=\"#000000\">value = [1409, 210]</text>\n<text text-anchor=\"middle\" x=\"2418.5\" y=\"-7.8\" font-family=\"Times,serif\" font-size=\"14.00\" fill=\"#000000\">class = 0</text>\n</g>\n<!-- 38&#45;&gt;39 -->\n<g id=\"edge39\" class=\"edge\">\n<title>38&#45;&gt;39</title>\n<path fill=\"none\" stroke=\"#000000\" d=\"M2421.0105,-103.9815C2420.7105,-95.618 2420.394,-86.7965 2420.0907,-78.3409\"/>\n<polygon fill=\"#000000\" stroke=\"#000000\" points=\"2423.5855,-78.1317 2419.7292,-68.2637 2416.59,-78.3828 2423.5855,-78.1317\"/>\n</g>\n<!-- 40 -->\n<g id=\"node41\" class=\"node\">\n<title>40</title>\n<polygon fill=\"#f6d6be\" stroke=\"#000000\" points=\"2612.5,-68 2502.5,-68 2502.5,0 2612.5,0 2612.5,-68\"/>\n<text text-anchor=\"middle\" x=\"2557.5\" y=\"-52.8\" font-family=\"Times,serif\" font-size=\"14.00\" fill=\"#000000\">entropy = 0.972</text>\n<text text-anchor=\"middle\" x=\"2557.5\" y=\"-37.8\" font-family=\"Times,serif\" font-size=\"14.00\" fill=\"#000000\">samples = 97</text>\n<text text-anchor=\"middle\" x=\"2557.5\" y=\"-22.8\" font-family=\"Times,serif\" font-size=\"14.00\" fill=\"#000000\">value = [58, 39]</text>\n<text text-anchor=\"middle\" x=\"2557.5\" y=\"-7.8\" font-family=\"Times,serif\" font-size=\"14.00\" fill=\"#000000\">class = 0</text>\n</g>\n<!-- 38&#45;&gt;40 -->\n<g id=\"edge40\" class=\"edge\">\n<title>38&#45;&gt;40</title>\n<path fill=\"none\" stroke=\"#000000\" d=\"M2472.769,-103.9815C2484.3418,-94.4232 2496.6389,-84.2668 2508.1713,-74.7419\"/>\n<polygon fill=\"#000000\" stroke=\"#000000\" points=\"2510.5334,-77.3304 2516.0148,-68.2637 2506.0757,-71.9332 2510.5334,-77.3304\"/>\n</g>\n<!-- 42 -->\n<g id=\"node43\" class=\"node\">\n<title>42</title>\n<polygon fill=\"#399de5\" stroke=\"#000000\" points=\"2614,-179.5 2519,-179.5 2519,-111.5 2614,-111.5 2614,-179.5\"/>\n<text text-anchor=\"middle\" x=\"2566.5\" y=\"-164.3\" font-family=\"Times,serif\" font-size=\"14.00\" fill=\"#000000\">entropy = 0.0</text>\n<text text-anchor=\"middle\" x=\"2566.5\" y=\"-149.3\" font-family=\"Times,serif\" font-size=\"14.00\" fill=\"#000000\">samples = 3</text>\n<text text-anchor=\"middle\" x=\"2566.5\" y=\"-134.3\" font-family=\"Times,serif\" font-size=\"14.00\" fill=\"#000000\">value = [0, 3]</text>\n<text text-anchor=\"middle\" x=\"2566.5\" y=\"-119.3\" font-family=\"Times,serif\" font-size=\"14.00\" fill=\"#000000\">class = 1</text>\n</g>\n<!-- 41&#45;&gt;42 -->\n<g id=\"edge42\" class=\"edge\">\n<title>41&#45;&gt;42</title>\n<path fill=\"none\" stroke=\"#000000\" d=\"M2566.5,-222.8796C2566.5,-212.2134 2566.5,-200.7021 2566.5,-189.9015\"/>\n<polygon fill=\"#000000\" stroke=\"#000000\" points=\"2570.0001,-189.8149 2566.5,-179.8149 2563.0001,-189.815 2570.0001,-189.8149\"/>\n</g>\n<!-- 43 -->\n<g id=\"node44\" class=\"node\">\n<title>43</title>\n<polygon fill=\"#fbeade\" stroke=\"#000000\" points=\"2749,-187 2632,-187 2632,-104 2749,-104 2749,-187\"/>\n<text text-anchor=\"middle\" x=\"2690.5\" y=\"-171.8\" font-family=\"Times,serif\" font-size=\"14.00\" fill=\"#000000\">campaign &lt;= 8.5</text>\n<text text-anchor=\"middle\" x=\"2690.5\" y=\"-156.8\" font-family=\"Times,serif\" font-size=\"14.00\" fill=\"#000000\">entropy = 0.994</text>\n<text text-anchor=\"middle\" x=\"2690.5\" y=\"-141.8\" font-family=\"Times,serif\" font-size=\"14.00\" fill=\"#000000\">samples = 200</text>\n<text text-anchor=\"middle\" x=\"2690.5\" y=\"-126.8\" font-family=\"Times,serif\" font-size=\"14.00\" fill=\"#000000\">value = [109, 91]</text>\n<text text-anchor=\"middle\" x=\"2690.5\" y=\"-111.8\" font-family=\"Times,serif\" font-size=\"14.00\" fill=\"#000000\">class = 0</text>\n</g>\n<!-- 41&#45;&gt;43 -->\n<g id=\"edge43\" class=\"edge\">\n<title>41&#45;&gt;43</title>\n<path fill=\"none\" stroke=\"#000000\" d=\"M2609.8692,-222.8796C2619.4416,-213.6931 2629.6672,-203.8798 2639.5103,-194.4336\"/>\n<polygon fill=\"#000000\" stroke=\"#000000\" points=\"2642.1541,-196.7475 2646.9457,-187.2981 2637.3072,-191.6969 2642.1541,-196.7475\"/>\n</g>\n<!-- 44 -->\n<g id=\"node45\" class=\"node\">\n<title>44</title>\n<polygon fill=\"#fcf0e8\" stroke=\"#000000\" points=\"2748,-68 2631,-68 2631,0 2748,0 2748,-68\"/>\n<text text-anchor=\"middle\" x=\"2689.5\" y=\"-52.8\" font-family=\"Times,serif\" font-size=\"14.00\" fill=\"#000000\">entropy = 0.997</text>\n<text text-anchor=\"middle\" x=\"2689.5\" y=\"-37.8\" font-family=\"Times,serif\" font-size=\"14.00\" fill=\"#000000\">samples = 192</text>\n<text text-anchor=\"middle\" x=\"2689.5\" y=\"-22.8\" font-family=\"Times,serif\" font-size=\"14.00\" fill=\"#000000\">value = [102, 90]</text>\n<text text-anchor=\"middle\" x=\"2689.5\" y=\"-7.8\" font-family=\"Times,serif\" font-size=\"14.00\" fill=\"#000000\">class = 0</text>\n</g>\n<!-- 43&#45;&gt;44 -->\n<g id=\"edge44\" class=\"edge\">\n<title>43&#45;&gt;44</title>\n<path fill=\"none\" stroke=\"#000000\" d=\"M2690.1276,-103.9815C2690.0526,-95.618 2689.9735,-86.7965 2689.8977,-78.3409\"/>\n<polygon fill=\"#000000\" stroke=\"#000000\" points=\"2693.3969,-78.2318 2689.8073,-68.2637 2686.3972,-78.2947 2693.3969,-78.2318\"/>\n</g>\n<!-- 45 -->\n<g id=\"node46\" class=\"node\">\n<title>45</title>\n<polygon fill=\"#e99355\" stroke=\"#000000\" points=\"2876.5,-68 2766.5,-68 2766.5,0 2876.5,0 2876.5,-68\"/>\n<text text-anchor=\"middle\" x=\"2821.5\" y=\"-52.8\" font-family=\"Times,serif\" font-size=\"14.00\" fill=\"#000000\">entropy = 0.544</text>\n<text text-anchor=\"middle\" x=\"2821.5\" y=\"-37.8\" font-family=\"Times,serif\" font-size=\"14.00\" fill=\"#000000\">samples = 8</text>\n<text text-anchor=\"middle\" x=\"2821.5\" y=\"-22.8\" font-family=\"Times,serif\" font-size=\"14.00\" fill=\"#000000\">value = [7, 1]</text>\n<text text-anchor=\"middle\" x=\"2821.5\" y=\"-7.8\" font-family=\"Times,serif\" font-size=\"14.00\" fill=\"#000000\">class = 0</text>\n</g>\n<!-- 43&#45;&gt;45 -->\n<g id=\"edge45\" class=\"edge\">\n<title>43&#45;&gt;45</title>\n<path fill=\"none\" stroke=\"#000000\" d=\"M2739.2796,-103.9815C2750.4015,-94.5151 2762.2128,-84.462 2773.3099,-75.0168\"/>\n<polygon fill=\"#000000\" stroke=\"#000000\" points=\"2775.8975,-77.4105 2781.244,-68.2637 2771.3604,-72.08 2775.8975,-77.4105\"/>\n</g>\n<!-- 47 -->\n<g id=\"node48\" class=\"node\">\n<title>47</title>\n<polygon fill=\"#e78a47\" stroke=\"#000000\" points=\"3243.5,-306 3097.5,-306 3097.5,-223 3243.5,-223 3243.5,-306\"/>\n<text text-anchor=\"middle\" x=\"3170.5\" y=\"-290.8\" font-family=\"Times,serif\" font-size=\"14.00\" fill=\"#000000\">month_oct &lt;= 0.5</text>\n<text text-anchor=\"middle\" x=\"3170.5\" y=\"-275.8\" font-family=\"Times,serif\" font-size=\"14.00\" fill=\"#000000\">entropy = 0.358</text>\n<text text-anchor=\"middle\" x=\"3170.5\" y=\"-260.8\" font-family=\"Times,serif\" font-size=\"14.00\" fill=\"#000000\">samples = 17106</text>\n<text text-anchor=\"middle\" x=\"3170.5\" y=\"-245.8\" font-family=\"Times,serif\" font-size=\"14.00\" fill=\"#000000\">value = [15946, 1160]</text>\n<text text-anchor=\"middle\" x=\"3170.5\" y=\"-230.8\" font-family=\"Times,serif\" font-size=\"14.00\" fill=\"#000000\">class = 0</text>\n</g>\n<!-- 46&#45;&gt;47 -->\n<g id=\"edge47\" class=\"edge\">\n<title>46&#45;&gt;47</title>\n<path fill=\"none\" stroke=\"#000000\" d=\"M3170.5,-341.8796C3170.5,-333.6838 3170.5,-324.9891 3170.5,-316.5013\"/>\n<polygon fill=\"#000000\" stroke=\"#000000\" points=\"3174.0001,-316.298 3170.5,-306.2981 3167.0001,-316.2981 3174.0001,-316.298\"/>\n</g>\n<!-- 54 -->\n<g id=\"node55\" class=\"node\">\n<title>54</title>\n<polygon fill=\"#e68640\" stroke=\"#000000\" points=\"3631.5,-306 3497.5,-306 3497.5,-223 3631.5,-223 3631.5,-306\"/>\n<text text-anchor=\"middle\" x=\"3564.5\" y=\"-290.8\" font-family=\"Times,serif\" font-size=\"14.00\" fill=\"#000000\">euribor3m &lt;= 4.857</text>\n<text text-anchor=\"middle\" x=\"3564.5\" y=\"-275.8\" font-family=\"Times,serif\" font-size=\"14.00\" fill=\"#000000\">entropy = 0.221</text>\n<text text-anchor=\"middle\" x=\"3564.5\" y=\"-260.8\" font-family=\"Times,serif\" font-size=\"14.00\" fill=\"#000000\">samples = 9678</text>\n<text text-anchor=\"middle\" x=\"3564.5\" y=\"-245.8\" font-family=\"Times,serif\" font-size=\"14.00\" fill=\"#000000\">value = [9335, 343]</text>\n<text text-anchor=\"middle\" x=\"3564.5\" y=\"-230.8\" font-family=\"Times,serif\" font-size=\"14.00\" fill=\"#000000\">class = 0</text>\n</g>\n<!-- 46&#45;&gt;54 -->\n<g id=\"edge54\" class=\"edge\">\n<title>46&#45;&gt;54</title>\n<path fill=\"none\" stroke=\"#000000\" d=\"M3251.6593,-358.9874C3320.7961,-338.106 3419.4555,-308.3079 3487.4025,-287.7858\"/>\n<polygon fill=\"#000000\" stroke=\"#000000\" points=\"3488.6365,-291.0693 3497.1974,-284.8274 3486.6126,-284.3683 3488.6365,-291.0693\"/>\n</g>\n<!-- 48 -->\n<g id=\"node49\" class=\"node\">\n<title>48</title>\n<polygon fill=\"#e78a47\" stroke=\"#000000\" points=\"3169.5,-187 3023.5,-187 3023.5,-104 3169.5,-104 3169.5,-187\"/>\n<text text-anchor=\"middle\" x=\"3096.5\" y=\"-171.8\" font-family=\"Times,serif\" font-size=\"14.00\" fill=\"#000000\">pdays &lt;= 11.5</text>\n<text text-anchor=\"middle\" x=\"3096.5\" y=\"-156.8\" font-family=\"Times,serif\" font-size=\"14.00\" fill=\"#000000\">entropy = 0.351</text>\n<text text-anchor=\"middle\" x=\"3096.5\" y=\"-141.8\" font-family=\"Times,serif\" font-size=\"14.00\" fill=\"#000000\">samples = 17053</text>\n<text text-anchor=\"middle\" x=\"3096.5\" y=\"-126.8\" font-family=\"Times,serif\" font-size=\"14.00\" fill=\"#000000\">value = [15926, 1127]</text>\n<text text-anchor=\"middle\" x=\"3096.5\" y=\"-111.8\" font-family=\"Times,serif\" font-size=\"14.00\" fill=\"#000000\">class = 0</text>\n</g>\n<!-- 47&#45;&gt;48 -->\n<g id=\"edge48\" class=\"edge\">\n<title>47&#45;&gt;48</title>\n<path fill=\"none\" stroke=\"#000000\" d=\"M3144.6184,-222.8796C3139.1858,-214.1434 3133.4008,-204.8404 3127.7947,-195.8253\"/>\n<polygon fill=\"#000000\" stroke=\"#000000\" points=\"3130.7451,-193.9418 3122.4921,-187.2981 3124.8007,-197.6383 3130.7451,-193.9418\"/>\n</g>\n<!-- 51 -->\n<g id=\"node52\" class=\"node\">\n<title>51</title>\n<polygon fill=\"#b1d8f5\" stroke=\"#000000\" points=\"3298.5,-187 3188.5,-187 3188.5,-104 3298.5,-104 3298.5,-187\"/>\n<text text-anchor=\"middle\" x=\"3243.5\" y=\"-171.8\" font-family=\"Times,serif\" font-size=\"14.00\" fill=\"#000000\">age &lt;= 45.5</text>\n<text text-anchor=\"middle\" x=\"3243.5\" y=\"-156.8\" font-family=\"Times,serif\" font-size=\"14.00\" fill=\"#000000\">entropy = 0.956</text>\n<text text-anchor=\"middle\" x=\"3243.5\" y=\"-141.8\" font-family=\"Times,serif\" font-size=\"14.00\" fill=\"#000000\">samples = 53</text>\n<text text-anchor=\"middle\" x=\"3243.5\" y=\"-126.8\" font-family=\"Times,serif\" font-size=\"14.00\" fill=\"#000000\">value = [20, 33]</text>\n<text text-anchor=\"middle\" x=\"3243.5\" y=\"-111.8\" font-family=\"Times,serif\" font-size=\"14.00\" fill=\"#000000\">class = 1</text>\n</g>\n<!-- 47&#45;&gt;51 -->\n<g id=\"edge51\" class=\"edge\">\n<title>47&#45;&gt;51</title>\n<path fill=\"none\" stroke=\"#000000\" d=\"M3196.0319,-222.8796C3201.391,-214.1434 3207.0979,-204.8404 3212.6282,-195.8253\"/>\n<polygon fill=\"#000000\" stroke=\"#000000\" points=\"3215.6135,-197.6522 3217.8592,-187.2981 3209.6467,-193.9919 3215.6135,-197.6522\"/>\n</g>\n<!-- 49 -->\n<g id=\"node50\" class=\"node\">\n<title>49</title>\n<polygon fill=\"#f0b78e\" stroke=\"#000000\" points=\"3004.5,-68 2894.5,-68 2894.5,0 3004.5,0 3004.5,-68\"/>\n<text text-anchor=\"middle\" x=\"2949.5\" y=\"-52.8\" font-family=\"Times,serif\" font-size=\"14.00\" fill=\"#000000\">entropy = 0.883</text>\n<text text-anchor=\"middle\" x=\"2949.5\" y=\"-37.8\" font-family=\"Times,serif\" font-size=\"14.00\" fill=\"#000000\">samples = 126</text>\n<text text-anchor=\"middle\" x=\"2949.5\" y=\"-22.8\" font-family=\"Times,serif\" font-size=\"14.00\" fill=\"#000000\">value = [88, 38]</text>\n<text text-anchor=\"middle\" x=\"2949.5\" y=\"-7.8\" font-family=\"Times,serif\" font-size=\"14.00\" fill=\"#000000\">class = 0</text>\n</g>\n<!-- 48&#45;&gt;49 -->\n<g id=\"edge49\" class=\"edge\">\n<title>48&#45;&gt;49</title>\n<path fill=\"none\" stroke=\"#000000\" d=\"M3041.7626,-103.9815C3029.0399,-94.3313 3015.5134,-84.0714 3002.8515,-74.4673\"/>\n<polygon fill=\"#000000\" stroke=\"#000000\" points=\"3004.7553,-71.5184 2994.6727,-68.2637 3000.525,-77.0956 3004.7553,-71.5184\"/>\n</g>\n<!-- 50 -->\n<g id=\"node51\" class=\"node\">\n<title>50</title>\n<polygon fill=\"#e78a47\" stroke=\"#000000\" points=\"3170,-68 3023,-68 3023,0 3170,0 3170,-68\"/>\n<text text-anchor=\"middle\" x=\"3096.5\" y=\"-52.8\" font-family=\"Times,serif\" font-size=\"14.00\" fill=\"#000000\">entropy = 0.344</text>\n<text text-anchor=\"middle\" x=\"3096.5\" y=\"-37.8\" font-family=\"Times,serif\" font-size=\"14.00\" fill=\"#000000\">samples = 16927</text>\n<text text-anchor=\"middle\" x=\"3096.5\" y=\"-22.8\" font-family=\"Times,serif\" font-size=\"14.00\" fill=\"#000000\">value = [15838, 1089]</text>\n<text text-anchor=\"middle\" x=\"3096.5\" y=\"-7.8\" font-family=\"Times,serif\" font-size=\"14.00\" fill=\"#000000\">class = 0</text>\n</g>\n<!-- 48&#45;&gt;50 -->\n<g id=\"edge50\" class=\"edge\">\n<title>48&#45;&gt;50</title>\n<path fill=\"none\" stroke=\"#000000\" d=\"M3096.5,-103.9815C3096.5,-95.618 3096.5,-86.7965 3096.5,-78.3409\"/>\n<polygon fill=\"#000000\" stroke=\"#000000\" points=\"3100.0001,-78.2636 3096.5,-68.2637 3093.0001,-78.2637 3100.0001,-78.2636\"/>\n</g>\n<!-- 52 -->\n<g id=\"node53\" class=\"node\">\n<title>52</title>\n<polygon fill=\"#84c2ef\" stroke=\"#000000\" points=\"3298.5,-68 3188.5,-68 3188.5,0 3298.5,0 3298.5,-68\"/>\n<text text-anchor=\"middle\" x=\"3243.5\" y=\"-52.8\" font-family=\"Times,serif\" font-size=\"14.00\" fill=\"#000000\">entropy = 0.849</text>\n<text text-anchor=\"middle\" x=\"3243.5\" y=\"-37.8\" font-family=\"Times,serif\" font-size=\"14.00\" fill=\"#000000\">samples = 40</text>\n<text text-anchor=\"middle\" x=\"3243.5\" y=\"-22.8\" font-family=\"Times,serif\" font-size=\"14.00\" fill=\"#000000\">value = [11, 29]</text>\n<text text-anchor=\"middle\" x=\"3243.5\" y=\"-7.8\" font-family=\"Times,serif\" font-size=\"14.00\" fill=\"#000000\">class = 1</text>\n</g>\n<!-- 51&#45;&gt;52 -->\n<g id=\"edge52\" class=\"edge\">\n<title>51&#45;&gt;52</title>\n<path fill=\"none\" stroke=\"#000000\" d=\"M3243.5,-103.9815C3243.5,-95.618 3243.5,-86.7965 3243.5,-78.3409\"/>\n<polygon fill=\"#000000\" stroke=\"#000000\" points=\"3247.0001,-78.2636 3243.5,-68.2637 3240.0001,-78.2637 3247.0001,-78.2636\"/>\n</g>\n<!-- 53 -->\n<g id=\"node54\" class=\"node\">\n<title>53</title>\n<polygon fill=\"#f1b991\" stroke=\"#000000\" points=\"3420,-68 3317,-68 3317,0 3420,0 3420,-68\"/>\n<text text-anchor=\"middle\" x=\"3368.5\" y=\"-52.8\" font-family=\"Times,serif\" font-size=\"14.00\" fill=\"#000000\">entropy = 0.89</text>\n<text text-anchor=\"middle\" x=\"3368.5\" y=\"-37.8\" font-family=\"Times,serif\" font-size=\"14.00\" fill=\"#000000\">samples = 13</text>\n<text text-anchor=\"middle\" x=\"3368.5\" y=\"-22.8\" font-family=\"Times,serif\" font-size=\"14.00\" fill=\"#000000\">value = [9, 4]</text>\n<text text-anchor=\"middle\" x=\"3368.5\" y=\"-7.8\" font-family=\"Times,serif\" font-size=\"14.00\" fill=\"#000000\">class = 0</text>\n</g>\n<!-- 51&#45;&gt;53 -->\n<g id=\"edge53\" class=\"edge\">\n<title>51&#45;&gt;53</title>\n<path fill=\"none\" stroke=\"#000000\" d=\"M3290.0454,-103.9815C3300.6579,-94.5151 3311.9282,-84.462 3322.5171,-75.0168\"/>\n<polygon fill=\"#000000\" stroke=\"#000000\" points=\"3324.9551,-77.5322 3330.0878,-68.2637 3320.2954,-72.3084 3324.9551,-77.5322\"/>\n</g>\n<!-- 55 -->\n<g id=\"node56\" class=\"node\">\n<title>55</title>\n<polygon fill=\"#e6843e\" stroke=\"#000000\" points=\"3627,-187 3502,-187 3502,-104 3627,-104 3627,-187\"/>\n<text text-anchor=\"middle\" x=\"3564.5\" y=\"-171.8\" font-family=\"Times,serif\" font-size=\"14.00\" fill=\"#000000\">age &lt;= 57.5</text>\n<text text-anchor=\"middle\" x=\"3564.5\" y=\"-156.8\" font-family=\"Times,serif\" font-size=\"14.00\" fill=\"#000000\">entropy = 0.169</text>\n<text text-anchor=\"middle\" x=\"3564.5\" y=\"-141.8\" font-family=\"Times,serif\" font-size=\"14.00\" fill=\"#000000\">samples = 3910</text>\n<text text-anchor=\"middle\" x=\"3564.5\" y=\"-126.8\" font-family=\"Times,serif\" font-size=\"14.00\" fill=\"#000000\">value = [3812, 98]</text>\n<text text-anchor=\"middle\" x=\"3564.5\" y=\"-111.8\" font-family=\"Times,serif\" font-size=\"14.00\" fill=\"#000000\">class = 0</text>\n</g>\n<!-- 54&#45;&gt;55 -->\n<g id=\"edge55\" class=\"edge\">\n<title>54&#45;&gt;55</title>\n<path fill=\"none\" stroke=\"#000000\" d=\"M3564.5,-222.8796C3564.5,-214.6838 3564.5,-205.9891 3564.5,-197.5013\"/>\n<polygon fill=\"#000000\" stroke=\"#000000\" points=\"3568.0001,-197.298 3564.5,-187.2981 3561.0001,-197.2981 3568.0001,-197.298\"/>\n</g>\n<!-- 58 -->\n<g id=\"node59\" class=\"node\">\n<title>58</title>\n<polygon fill=\"#e68742\" stroke=\"#000000\" points=\"3841.5,-187 3709.5,-187 3709.5,-104 3841.5,-104 3841.5,-187\"/>\n<text text-anchor=\"middle\" x=\"3775.5\" y=\"-171.8\" font-family=\"Times,serif\" font-size=\"14.00\" fill=\"#000000\">campaign &lt;= 23.5</text>\n<text text-anchor=\"middle\" x=\"3775.5\" y=\"-156.8\" font-family=\"Times,serif\" font-size=\"14.00\" fill=\"#000000\">entropy = 0.254</text>\n<text text-anchor=\"middle\" x=\"3775.5\" y=\"-141.8\" font-family=\"Times,serif\" font-size=\"14.00\" fill=\"#000000\">samples = 5768</text>\n<text text-anchor=\"middle\" x=\"3775.5\" y=\"-126.8\" font-family=\"Times,serif\" font-size=\"14.00\" fill=\"#000000\">value = [5523, 245]</text>\n<text text-anchor=\"middle\" x=\"3775.5\" y=\"-111.8\" font-family=\"Times,serif\" font-size=\"14.00\" fill=\"#000000\">class = 0</text>\n</g>\n<!-- 54&#45;&gt;58 -->\n<g id=\"edge58\" class=\"edge\">\n<title>54&#45;&gt;58</title>\n<path fill=\"none\" stroke=\"#000000\" d=\"M3631.5516,-226.6841C3653.4969,-214.3074 3678.0134,-200.4806 3700.506,-187.7952\"/>\n<polygon fill=\"#000000\" stroke=\"#000000\" points=\"3702.3546,-190.771 3709.3454,-182.8099 3698.9158,-184.6738 3702.3546,-190.771\"/>\n</g>\n<!-- 56 -->\n<g id=\"node57\" class=\"node\">\n<title>56</title>\n<polygon fill=\"#e6843e\" stroke=\"#000000\" points=\"3563,-68 3438,-68 3438,0 3563,0 3563,-68\"/>\n<text text-anchor=\"middle\" x=\"3500.5\" y=\"-52.8\" font-family=\"Times,serif\" font-size=\"14.00\" fill=\"#000000\">entropy = 0.162</text>\n<text text-anchor=\"middle\" x=\"3500.5\" y=\"-37.8\" font-family=\"Times,serif\" font-size=\"14.00\" fill=\"#000000\">samples = 3782</text>\n<text text-anchor=\"middle\" x=\"3500.5\" y=\"-22.8\" font-family=\"Times,serif\" font-size=\"14.00\" fill=\"#000000\">value = [3692, 90]</text>\n<text text-anchor=\"middle\" x=\"3500.5\" y=\"-7.8\" font-family=\"Times,serif\" font-size=\"14.00\" fill=\"#000000\">class = 0</text>\n</g>\n<!-- 55&#45;&gt;56 -->\n<g id=\"edge56\" class=\"edge\">\n<title>55&#45;&gt;56</title>\n<path fill=\"none\" stroke=\"#000000\" d=\"M3540.6688,-103.9815C3535.6044,-95.1585 3530.2475,-85.8258 3525.1532,-76.9506\"/>\n<polygon fill=\"#000000\" stroke=\"#000000\" points=\"3528.1807,-75.1942 3520.167,-68.2637 3522.1097,-78.6789 3528.1807,-75.1942\"/>\n</g>\n<!-- 57 -->\n<g id=\"node58\" class=\"node\">\n<title>57</title>\n<polygon fill=\"#e78946\" stroke=\"#000000\" points=\"3691.5,-68 3581.5,-68 3581.5,0 3691.5,0 3691.5,-68\"/>\n<text text-anchor=\"middle\" x=\"3636.5\" y=\"-52.8\" font-family=\"Times,serif\" font-size=\"14.00\" fill=\"#000000\">entropy = 0.337</text>\n<text text-anchor=\"middle\" x=\"3636.5\" y=\"-37.8\" font-family=\"Times,serif\" font-size=\"14.00\" fill=\"#000000\">samples = 128</text>\n<text text-anchor=\"middle\" x=\"3636.5\" y=\"-22.8\" font-family=\"Times,serif\" font-size=\"14.00\" fill=\"#000000\">value = [120, 8]</text>\n<text text-anchor=\"middle\" x=\"3636.5\" y=\"-7.8\" font-family=\"Times,serif\" font-size=\"14.00\" fill=\"#000000\">class = 0</text>\n</g>\n<!-- 55&#45;&gt;57 -->\n<g id=\"edge57\" class=\"edge\">\n<title>55&#45;&gt;57</title>\n<path fill=\"none\" stroke=\"#000000\" d=\"M3591.3101,-103.9815C3597.0669,-95.0666 3603.1596,-85.6313 3608.9441,-76.6734\"/>\n<polygon fill=\"#000000\" stroke=\"#000000\" points=\"3611.8901,-78.5631 3614.3746,-68.2637 3606.0096,-74.7658 3611.8901,-78.5631\"/>\n</g>\n<!-- 59 -->\n<g id=\"node60\" class=\"node\">\n<title>59</title>\n<polygon fill=\"#e68742\" stroke=\"#000000\" points=\"3841.5,-68 3709.5,-68 3709.5,0 3841.5,0 3841.5,-68\"/>\n<text text-anchor=\"middle\" x=\"3775.5\" y=\"-52.8\" font-family=\"Times,serif\" font-size=\"14.00\" fill=\"#000000\">entropy = 0.255</text>\n<text text-anchor=\"middle\" x=\"3775.5\" y=\"-37.8\" font-family=\"Times,serif\" font-size=\"14.00\" fill=\"#000000\">samples = 5728</text>\n<text text-anchor=\"middle\" x=\"3775.5\" y=\"-22.8\" font-family=\"Times,serif\" font-size=\"14.00\" fill=\"#000000\">value = [5483, 245]</text>\n<text text-anchor=\"middle\" x=\"3775.5\" y=\"-7.8\" font-family=\"Times,serif\" font-size=\"14.00\" fill=\"#000000\">class = 0</text>\n</g>\n<!-- 58&#45;&gt;59 -->\n<g id=\"edge59\" class=\"edge\">\n<title>58&#45;&gt;59</title>\n<path fill=\"none\" stroke=\"#000000\" d=\"M3775.5,-103.9815C3775.5,-95.618 3775.5,-86.7965 3775.5,-78.3409\"/>\n<polygon fill=\"#000000\" stroke=\"#000000\" points=\"3779.0001,-78.2636 3775.5,-68.2637 3772.0001,-78.2637 3779.0001,-78.2636\"/>\n</g>\n<!-- 60 -->\n<g id=\"node61\" class=\"node\">\n<title>60</title>\n<polygon fill=\"#e58139\" stroke=\"#000000\" points=\"3961.5,-68 3859.5,-68 3859.5,0 3961.5,0 3961.5,-68\"/>\n<text text-anchor=\"middle\" x=\"3910.5\" y=\"-52.8\" font-family=\"Times,serif\" font-size=\"14.00\" fill=\"#000000\">entropy = 0.0</text>\n<text text-anchor=\"middle\" x=\"3910.5\" y=\"-37.8\" font-family=\"Times,serif\" font-size=\"14.00\" fill=\"#000000\">samples = 40</text>\n<text text-anchor=\"middle\" x=\"3910.5\" y=\"-22.8\" font-family=\"Times,serif\" font-size=\"14.00\" fill=\"#000000\">value = [40, 0]</text>\n<text text-anchor=\"middle\" x=\"3910.5\" y=\"-7.8\" font-family=\"Times,serif\" font-size=\"14.00\" fill=\"#000000\">class = 0</text>\n</g>\n<!-- 58&#45;&gt;60 -->\n<g id=\"edge60\" class=\"edge\">\n<title>58&#45;&gt;60</title>\n<path fill=\"none\" stroke=\"#000000\" d=\"M3825.769,-103.9815C3837.3418,-94.4232 3849.6389,-84.2668 3861.1713,-74.7419\"/>\n<polygon fill=\"#000000\" stroke=\"#000000\" points=\"3863.5334,-77.3304 3869.0148,-68.2637 3859.0757,-71.9332 3863.5334,-77.3304\"/>\n</g>\n</g>\n</svg>\n"
          },
          "metadata": {},
          "execution_count": 134
        }
      ]
    },
    {
      "cell_type": "markdown",
      "metadata": {
        "id": "Ziql94lWAeQO"
      },
      "source": [
        "______________________________________________________________________________________\n",
        "# Random Forest Applied:"
      ]
    },
    {
      "cell_type": "code",
      "metadata": {
        "id": "-MxWoeXpAeQP"
      },
      "source": [
        "def model_check_R(X_train=X_train, y_train=y_train, X_test=X_test, y_test=y_test, model=RandomForestClassifier, count=100, message=\"Decision Tree\"):\n",
        "    print(message)\n",
        "    print(\"____________________________________________________________________________________________________\")\n",
        "    acc = [0]\n",
        "    recall = [0]\n",
        "    precision = [0]\n",
        "    fscore = [0]\n",
        "    auc = [0]\n",
        "    for i in range(1,count+1):\n",
        "        model_clf = model(n_estimators=i,random_state=42)\n",
        "        model_clf.fit(X_train, y_train)\n",
        "        y_predicted = model_clf.predict(X_test)\n",
        "        acc.append(accuracy_score(y_test, y_predicted))\n",
        "        recall.append(recall_score(y_test, y_predicted, pos_label=1))\n",
        "        precision.append(precision_score(y_test, y_predicted, pos_label=1))\n",
        "        fscore.append(f1_score(y_test, y_predicted, pos_label=1))\n",
        "        auc.append(roc_auc_score(y_test, y_predicted))\n",
        "    plt.plot(acc,\"r-\",linewidth=2,label=\"Accuracy\")\n",
        "    plt.plot(recall,\"b-\",linewidth=2,label=\"Recall\")\n",
        "    plt.plot(precision,\"y-\",linewidth=2,label=\"Precision\")\n",
        "    plt.plot(fscore,\"g-\",linewidth=2,label=\"F-score\")\n",
        "    plt.plot(auc,\"o-\",linewidth=2,label=\"AUC-Score\")\n",
        "    plt.grid()\n",
        "    print(\"Best Accuracy at tree-count:\", np.argmax(acc), acc[np.argmax(acc)])\n",
        "    print(\"Best Recall at tree-count:\", np.argmax(recall), recall[np.argmax(recall)])\n",
        "    print(\"Best Precision at tree-count:\", np.argmax(precision), precision[np.argmax(precision)])\n",
        "    print(\"Best F-score at tree-count:\", np.argmax(fscore), fscore[np.argmax(fscore)])\n",
        "    print(\"Best AUC-Score at tree-count:\", np.argmax(auc), auc[np.argmax(auc)])\n",
        "    print(\"--------------------------------------------------------------------------\")\n",
        "    print()\n",
        "\n",
        "    print(\"Best Accuracy wise: \")\n",
        "    tree_clf = model(n_estimators=np.argmax(acc),random_state=42)\n",
        "    tree_clf.fit(X_train, y_train)\n",
        "    y_predicted = tree_clf.predict(X_test)\n",
        "    tn, fp, fn, tp = confusion_matrix(y_test, y_predicted).ravel()\n",
        "    print(\"TN:\",tn,\" FP:\", fp, \" FN:\", fn,\"TP:\", tp)\n",
        "    print(confusion_matrix(y_test, y_predicted))\n",
        "    print(\"Accuracy is: \", acc[np.argmax(acc)])\n",
        "    print(\"Reacall is: \", recall[np.argmax(acc)])\n",
        "    print(\"Precision is: \", precision[np.argmax(acc)])\n",
        "    print(\"F-score is: \", fscore[np.argmax(acc)])\n",
        "    print(\"AUC-Score is: \", auc[np.argmax(acc)])\n",
        "    print(\"--------------------------------------------------------------------------\")\n",
        "    print()\n",
        "    \n",
        "    print(\"Best Precision wise: \")\n",
        "    tree_clf = model(n_estimators=np.argmax(precision),random_state=42)\n",
        "    tree_clf.fit(X_train, y_train)\n",
        "    y_predicted = tree_clf.predict(X_test)\n",
        "    cm = confusion_matrix(y_test, y_predicted)\n",
        "    tn, fp, fn, tp = cm.ravel()\n",
        "    print(\"TN:\",tn,\" FP:\", fp, \" FN:\", fn,\"TP:\", tp)\n",
        "    print(confusion_matrix(y_test, y_predicted))\n",
        "    print(\"Accuracy is: \", acc[np.argmax(precision)])\n",
        "    print(\"Reacall is: \", recall[np.argmax(precision)])\n",
        "    print(\"Precision is: \", precision[np.argmax(precision)])\n",
        "    print(\"F-score is: \", fscore[np.argmax(precision)])\n",
        "    print(\"AUC-Score is: \", auc[np.argmax(precision)])\n",
        "    print(\"--------------------------------------------------------------------------\")\n",
        "    print()\n",
        "    \n",
        "\n",
        "    print(\"Best Recall wise: \")\n",
        "    tree_clf = model(n_estimators=np.argmax(recall),random_state=42)\n",
        "    tree_clf.fit(X_train, y_train)\n",
        "    y_predicted = tree_clf.predict(X_test)\n",
        "    cm = confusion_matrix(y_test, y_predicted)\n",
        "    tn, fp, fn, tp = cm.ravel()\n",
        "    print(\"TN:\",tn,\" FP:\", fp, \" FN:\", fn,\"TP:\", tp)\n",
        "    print(cm)\n",
        "    print(\"Accuracy is: \", acc[np.argmax(recall)])\n",
        "    print(\"Reacall is: \", recall[np.argmax(recall)])\n",
        "    print(\"Precision is: \", precision[np.argmax(recall)])\n",
        "    print(\"F-score is: \", fscore[np.argmax(recall)])\n",
        "    print(\"AUC-Score is: \", auc[np.argmax(recall)])\n",
        "    print(\"--------------------------------------------------------------------------\")\n",
        "    print()\n",
        "    disp = ConfusionMatrixDisplay(confusion_matrix=cm,display_labels=tree_clf.classes_)\n",
        "    disp.plot()\n",
        "\n",
        "    print(\"Best F-score wise: \")\n",
        "    tree_clf = model(n_estimators=np.argmax(fscore),random_state=42)\n",
        "    tree_clf.fit(X_train_1, y_train_1)\n",
        "    y_predicted = tree_clf.predict(X_test)\n",
        "    tn, fp, fn, tp = confusion_matrix(y_test, y_predicted).ravel()\n",
        "    print(\"TN:\",tn,\" FP:\", fp, \" FN:\", fn,\"TP:\", tp)\n",
        "    print(confusion_matrix(y_test, y_predicted))\n",
        "    print(\"Accuracy is: \", acc[np.argmax(fscore)])\n",
        "    print(\"Reacall is: \", recall[np.argmax(fscore)])\n",
        "    print(\"Precision is: \", precision[np.argmax(fscore)])\n",
        "    print(\"F-score is: \", fscore[np.argmax(fscore)])\n",
        "    print(\"AUC-Score is: \", auc[np.argmax(fscore)])\n",
        "    print(\"--------------------------------------------------------------------------\")\n",
        "    print()\n",
        "    \n",
        "    print(\"Best AUC-Score wise: \")\n",
        "    tree_clf = model(max_depth=np.argmax(auc),random_state=42)\n",
        "    tree_clf.fit(X_train_1, y_train_1)\n",
        "    y_predicted = tree_clf.predict(X_test)\n",
        "    cm = confusion_matrix(y_test, y_predicted)\n",
        "    tn, fp, fn, tp = cm.ravel()\n",
        "    print(\"TN:\",tn,\" FP:\", fp, \" FN:\", fn,\"TP:\", tp)\n",
        "    print(cm)\n",
        "    print(\"Accuracy is: \", acc[np.argmax(auc)])\n",
        "    print(\"Reacall is: \", recall[np.argmax(auc)])\n",
        "    print(\"Precision is: \", precision[np.argmax(auc)])\n",
        "    print(\"F-score is: \", fscore[np.argmax(auc)])\n",
        "    print(\"AUC-Score is: \", auc[np.argmax(auc)])\n",
        "    print(\"--------------------------------------------------------------------------\")\n",
        "    print()\n",
        "    disp = ConfusionMatrixDisplay(confusion_matrix=cm, display_labels=tree_clf.classes_)\n",
        "    disp.plot()"
      ],
      "execution_count": null,
      "outputs": []
    },
    {
      "cell_type": "code",
      "metadata": {
        "colab": {
          "base_uri": "https://localhost:8080/",
          "height": 1000
        },
        "id": "JcKGgDxiAeQQ",
        "outputId": "5cbe9e1a-249b-450c-87c9-70766d538dd6"
      },
      "source": [
        "%%time\n",
        "model_check_R(X_train=X_train, y_train=y_train, X_test=X_test, y_test=y_test, model=RandomForestClassifier, count=100, message=\"RF with all training rows\")"
      ],
      "execution_count": null,
      "outputs": [
        {
          "output_type": "stream",
          "text": [
            "RF with all training rows\n",
            "____________________________________________________________________________________________________\n",
            "Best Accuracy at tree-count: 14 0.8955803788246721\n",
            "Best Recall at tree-count: 1 0.33620689655172414\n",
            "Best Precision at tree-count: 14 0.5745614035087719\n",
            "Best F-score at tree-count: 17 0.39444444444444443\n",
            "Best AUC-Score at tree-count: 17 0.6374178981937603\n",
            "--------------------------------------------------------------------------\n",
            "\n",
            "Best Accuracy wise: \n",
            "TN: 7114  FP: 194  FN: 666 TP: 262\n",
            "[[7114  194]\n",
            " [ 666  262]]\n",
            "Accuracy is:  0.8955803788246721\n",
            "Reacall is:  0.2823275862068966\n",
            "Precision is:  0.5745614035087719\n",
            "F-score is:  0.3786127167630058\n",
            "AUC-Score is:  0.6278906677613575\n",
            "--------------------------------------------------------------------------\n",
            "\n",
            "Best Precision wise: \n",
            "TN: 7114  FP: 194  FN: 666 TP: 262\n",
            "[[7114  194]\n",
            " [ 666  262]]\n",
            "Accuracy is:  0.8955803788246721\n",
            "Reacall is:  0.2823275862068966\n",
            "Precision is:  0.5745614035087719\n",
            "F-score is:  0.3786127167630058\n",
            "AUC-Score is:  0.6278906677613575\n",
            "--------------------------------------------------------------------------\n",
            "\n",
            "Best Recall wise: \n",
            "TN: 6670  FP: 638  FN: 616 TP: 312\n",
            "[[6670  638]\n",
            " [ 616  312]]\n",
            "Accuracy is:  0.8477416221466731\n",
            "Reacall is:  0.33620689655172414\n",
            "Precision is:  0.32842105263157895\n",
            "F-score is:  0.33226837060702874\n",
            "AUC-Score is:  0.6244526546250685\n",
            "--------------------------------------------------------------------------\n",
            "\n",
            "Best F-score wise: \n",
            "TN: 7072  FP: 236  FN: 637 TP: 291\n",
            "[[7072  236]\n",
            " [ 637  291]]\n",
            "Accuracy is:  0.8941233608547838\n",
            "Reacall is:  0.30603448275862066\n",
            "Precision is:  0.5546875\n",
            "F-score is:  0.39444444444444443\n",
            "AUC-Score is:  0.6374178981937603\n",
            "--------------------------------------------------------------------------\n",
            "\n",
            "Best AUC-Score wise: \n",
            "TN: 7156  FP: 152  FN: 677 TP: 251\n",
            "[[7156  152]\n",
            " [ 677  251]]\n",
            "Accuracy is:  0.8941233608547838\n",
            "Reacall is:  0.30603448275862066\n",
            "Precision is:  0.5546875\n",
            "F-score is:  0.39444444444444443\n",
            "AUC-Score is:  0.6374178981937603\n",
            "--------------------------------------------------------------------------\n",
            "\n",
            "CPU times: user 3min 40s, sys: 1.43 s, total: 3min 41s\n",
            "Wall time: 3min 40s\n"
          ],
          "name": "stdout"
        },
        {
          "output_type": "display_data",
          "data": {
            "image/png": "[encoded data removed]",
            "text/plain": [
              "<Figure size 432x288 with 1 Axes>"
            ]
          },
          "metadata": {
            "tags": [],
            "needs_background": "light"
          }
        },
        {
          "output_type": "display_data",
          "data": {
            "image/png": "[encoded data removed]",
            "text/plain": [
              "<Figure size 432x288 with 2 Axes>"
            ]
          },
          "metadata": {
            "tags": [],
            "needs_background": "light"
          }
        },
        {
          "output_type": "display_data",
          "data": {
            "image/png": "[encoded data removed]",
            "text/plain": [
              "<Figure size 432x288 with 2 Axes>"
            ]
          },
          "metadata": {
            "tags": [],
            "needs_background": "light"
          }
        }
      ]
    },
    {
      "cell_type": "code",
      "metadata": {
        "colab": {
          "base_uri": "https://localhost:8080/",
          "height": 1000
        },
        "id": "6ny6EA3NAeQR",
        "outputId": "4f906b30-e630-41cf-8623-ad406c71e425"
      },
      "source": [
        "%%time\n",
        "model_check_R(X_train=X_train_1, y_train=y_train_1, X_test=X_test, y_test=y_test, model=RandomForestClassifier, count=100, message=\"RF with unknown entry rows removed\")"
      ],
      "execution_count": null,
      "outputs": [
        {
          "output_type": "stream",
          "text": [
            "RF with unknown entry rows removed\n",
            "____________________________________________________________________________________________________\n",
            "Best Accuracy at tree-count: 40 0.8959446333171442\n",
            "Best Recall at tree-count: 1 0.3254310344827586\n",
            "Best Precision at tree-count: 40 0.576017130620985\n",
            "Best F-score at tree-count: 17 0.4\n",
            "Best AUC-Score at tree-count: 17 0.6406421045429666\n",
            "--------------------------------------------------------------------------\n",
            "\n",
            "Best Accuracy wise: \n",
            "TN: 7110  FP: 198  FN: 659 TP: 269\n",
            "[[7110  198]\n",
            " [ 659  269]]\n",
            "Accuracy is:  0.8959446333171442\n",
            "Reacall is:  0.28987068965517243\n",
            "Precision is:  0.576017130620985\n",
            "F-score is:  0.385663082437276\n",
            "AUC-Score is:  0.6313885467980295\n",
            "--------------------------------------------------------------------------\n",
            "\n",
            "Best Precision wise: \n",
            "TN: 7110  FP: 198  FN: 659 TP: 269\n",
            "[[7110  198]\n",
            " [ 659  269]]\n",
            "Accuracy is:  0.8959446333171442\n",
            "Reacall is:  0.28987068965517243\n",
            "Precision is:  0.576017130620985\n",
            "F-score is:  0.385663082437276\n",
            "AUC-Score is:  0.6313885467980295\n",
            "--------------------------------------------------------------------------\n",
            "\n",
            "Best Recall wise: \n",
            "TN: 6675  FP: 633  FN: 626 TP: 302\n",
            "[[6675  633]\n",
            " [ 626  302]]\n",
            "Accuracy is:  0.8471345313258863\n",
            "Reacall is:  0.3254310344827586\n",
            "Precision is:  0.3229946524064171\n",
            "F-score is:  0.32420826623725174\n",
            "AUC-Score is:  0.6194068144499179\n",
            "--------------------------------------------------------------------------\n",
            "\n",
            "Best F-score wise: \n",
            "TN: 7072  FP: 236  FN: 637 TP: 291\n",
            "[[7072  236]\n",
            " [ 637  291]]\n",
            "Accuracy is:  0.8940019426906265\n",
            "Reacall is:  0.3135775862068966\n",
            "Precision is:  0.5521821631878557\n",
            "F-score is:  0.4\n",
            "AUC-Score is:  0.6406421045429666\n",
            "--------------------------------------------------------------------------\n",
            "\n",
            "Best AUC-Score wise: \n",
            "TN: 7156  FP: 152  FN: 677 TP: 251\n",
            "[[7156  152]\n",
            " [ 677  251]]\n",
            "Accuracy is:  0.8940019426906265\n",
            "Reacall is:  0.3135775862068966\n",
            "Precision is:  0.5521821631878557\n",
            "F-score is:  0.4\n",
            "AUC-Score is:  0.6406421045429666\n",
            "--------------------------------------------------------------------------\n",
            "\n",
            "CPU times: user 2min 35s, sys: 440 ms, total: 2min 36s\n",
            "Wall time: 2min 35s\n"
          ],
          "name": "stdout"
        },
        {
          "output_type": "display_data",
          "data": {
            "image/png": "[encoded data removed]",
            "text/plain": [
              "<Figure size 432x288 with 1 Axes>"
            ]
          },
          "metadata": {
            "tags": [],
            "needs_background": "light"
          }
        },
        {
          "output_type": "display_data",
          "data": {
            "image/png": "[encoded data removed]",
            "text/plain": [
              "<Figure size 432x288 with 2 Axes>"
            ]
          },
          "metadata": {
            "tags": [],
            "needs_background": "light"
          }
        },
        {
          "output_type": "display_data",
          "data": {
            "image/png": "[encoded data removed]",
            "text/plain": [
              "<Figure size 432x288 with 2 Axes>"
            ]
          },
          "metadata": {
            "tags": [],
            "needs_background": "light"
          }
        }
      ]
    },
    {
      "cell_type": "code",
      "metadata": {
        "colab": {
          "base_uri": "https://localhost:8080/",
          "height": 1000
        },
        "id": "aRqOsJkPAeQS",
        "outputId": "21f3a768-1e74-4464-8bab-edd9996e03d9"
      },
      "source": [
        "%%time\n",
        "model_check_R(X_train=X_train_2, y_train=y_train_2, X_test=X_test, y_test=y_test, model=RandomForestClassifier, count=100, message=\"RF with unknown entry rows removed and downsampled\")"
      ],
      "execution_count": null,
      "outputs": [
        {
          "output_type": "stream",
          "text": [
            "RF with unknown entry rows removed and downsampled\n",
            "____________________________________________________________________________________________________\n",
            "Best Accuracy at tree-count: 2 0.8043953375424964\n",
            "Best Recall at tree-count: 11 0.6853448275862069\n",
            "Best Precision at tree-count: 68 0.3074656188605108\n",
            "Best F-score at tree-count: 68 0.4224021592442645\n",
            "Best AUC-Score at tree-count: 49 0.7409003831417623\n",
            "--------------------------------------------------------------------------\n",
            "\n",
            "Best Accuracy wise: \n",
            "TN: 6164  FP: 1144  FN: 467 TP: 461\n",
            "[[6164 1144]\n",
            " [ 467  461]]\n",
            "Accuracy is:  0.8043953375424964\n",
            "Reacall is:  0.49676724137931033\n",
            "Precision is:  0.2872274143302181\n",
            "F-score is:  0.363995262534544\n",
            "AUC-Score is:  0.670113232074439\n",
            "--------------------------------------------------------------------------\n",
            "\n",
            "Best Precision wise: \n",
            "TN: 5898  FP: 1410  FN: 302 TP: 626\n",
            "[[5898 1410]\n",
            " [ 302  626]]\n",
            "Accuracy is:  0.7921321029626032\n",
            "Reacall is:  0.6745689655172413\n",
            "Precision is:  0.3074656188605108\n",
            "F-score is:  0.4224021592442645\n",
            "AUC-Score is:  0.7408148604269293\n",
            "--------------------------------------------------------------------------\n",
            "\n",
            "Best Recall wise: \n",
            "TN: 5633  FP: 1675  FN: 292 TP: 636\n",
            "[[5633 1675]\n",
            " [ 292  636]]\n",
            "Accuracy is:  0.7611704711024769\n",
            "Reacall is:  0.6853448275862069\n",
            "Precision is:  0.27520553872782344\n",
            "F-score is:  0.3927138005557271\n",
            "AUC-Score is:  0.7280719759168035\n",
            "--------------------------------------------------------------------------\n",
            "\n",
            "Best F-score wise: \n",
            "TN: 7099  FP: 209  FN: 663 TP: 265\n",
            "[[7099  209]\n",
            " [ 663  265]]\n",
            "Accuracy is:  0.7921321029626032\n",
            "Reacall is:  0.6745689655172413\n",
            "Precision is:  0.3074656188605108\n",
            "F-score is:  0.4224021592442645\n",
            "AUC-Score is:  0.7408148604269293\n",
            "--------------------------------------------------------------------------\n",
            "\n",
            "Best AUC-Score wise: \n",
            "TN: 7098  FP: 210  FN: 666 TP: 262\n",
            "[[7098  210]\n",
            " [ 666  262]]\n",
            "Accuracy is:  0.7872753763963088\n",
            "Reacall is:  0.6810344827586207\n",
            "Precision is:  0.30268199233716475\n",
            "F-score is:  0.4190981432360743\n",
            "AUC-Score is:  0.7409003831417623\n",
            "--------------------------------------------------------------------------\n",
            "\n",
            "CPU times: user 56 s, sys: 178 ms, total: 56.2 s\n",
            "Wall time: 56.1 s\n"
          ],
          "name": "stdout"
        },
        {
          "output_type": "display_data",
          "data": {
            "image/png": "[encoded data removed]",
            "text/plain": [
              "<Figure size 432x288 with 1 Axes>"
            ]
          },
          "metadata": {
            "tags": [],
            "needs_background": "light"
          }
        },
        {
          "output_type": "display_data",
          "data": {
            "image/png": "[encoded data removed]",
            "text/plain": [
              "<Figure size 432x288 with 2 Axes>"
            ]
          },
          "metadata": {
            "tags": [],
            "needs_background": "light"
          }
        },
        {
          "output_type": "display_data",
          "data": {
            "image/png": "[encoded data removed]",
            "text/plain": [
              "<Figure size 432x288 with 2 Axes>"
            ]
          },
          "metadata": {
            "tags": [],
            "needs_background": "light"
          }
        }
      ]
    },
    {
      "cell_type": "code",
      "metadata": {
        "colab": {
          "base_uri": "https://localhost:8080/",
          "height": 1000
        },
        "id": "36doivY7AeQS",
        "outputId": "1813df7a-aaef-4fda-c3ed-7782c2d330b1"
      },
      "source": [
        "%%time\n",
        "model_check_R(X_train=X_train_3, y_train=y_train_3, X_test=X_test, y_test=y_test, model=RandomForestClassifier, count=100, message=\"RF with unknown entry rows retained and downsampled\")"
      ],
      "execution_count": null,
      "outputs": [
        {
          "output_type": "stream",
          "text": [
            "RF with unknown entry rows retained and downsampled\n",
            "____________________________________________________________________________________________________\n",
            "Best Accuracy at tree-count: 2 0.7965031568722681\n",
            "Best Recall at tree-count: 25 0.6982758620689655\n",
            "Best Precision at tree-count: 78 0.3052073288331726\n",
            "Best F-score at tree-count: 78 0.42171885409726845\n",
            "Best AUC-Score at tree-count: 78 0.7424654488232075\n",
            "--------------------------------------------------------------------------\n",
            "\n",
            "Best Accuracy wise: \n",
            "TN: 6076  FP: 1232  FN: 444 TP: 484\n",
            "[[6076 1232]\n",
            " [ 444  484]]\n",
            "Accuracy is:  0.7965031568722681\n",
            "Reacall is:  0.521551724137931\n",
            "Precision is:  0.28205128205128205\n",
            "F-score is:  0.3661119515885023\n",
            "AUC-Score is:  0.6764846743295019\n",
            "--------------------------------------------------------------------------\n",
            "\n",
            "Best Precision wise: \n",
            "TN: 5867  FP: 1441  FN: 295 TP: 633\n",
            "[[5867 1441]\n",
            " [ 295  633]]\n",
            "Accuracy is:  0.7892180670228266\n",
            "Reacall is:  0.6821120689655172\n",
            "Precision is:  0.3052073288331726\n",
            "F-score is:  0.42171885409726845\n",
            "AUC-Score is:  0.7424654488232075\n",
            "--------------------------------------------------------------------------\n",
            "\n",
            "Best Recall wise: \n",
            "TN: 5676  FP: 1632  FN: 280 TP: 648\n",
            "[[5676 1632]\n",
            " [ 280  648]]\n",
            "Accuracy is:  0.7678484701311317\n",
            "Reacall is:  0.6982758620689655\n",
            "Precision is:  0.28421052631578947\n",
            "F-score is:  0.40399002493765584\n",
            "AUC-Score is:  0.7374794745484401\n",
            "--------------------------------------------------------------------------\n",
            "\n",
            "Best F-score wise: \n",
            "TN: 7095  FP: 213  FN: 661 TP: 267\n",
            "[[7095  213]\n",
            " [ 661  267]]\n",
            "Accuracy is:  0.7892180670228266\n",
            "Reacall is:  0.6821120689655172\n",
            "Precision is:  0.3052073288331726\n",
            "F-score is:  0.42171885409726845\n",
            "AUC-Score is:  0.7424654488232075\n",
            "--------------------------------------------------------------------------\n",
            "\n",
            "Best AUC-Score wise: \n",
            "TN: 7098  FP: 210  FN: 666 TP: 262\n",
            "[[7098  210]\n",
            " [ 666  262]]\n",
            "Accuracy is:  0.7892180670228266\n",
            "Reacall is:  0.6821120689655172\n",
            "Precision is:  0.3052073288331726\n",
            "F-score is:  0.42171885409726845\n",
            "AUC-Score is:  0.7424654488232075\n",
            "--------------------------------------------------------------------------\n",
            "\n",
            "CPU times: user 1min 6s, sys: 198 ms, total: 1min 7s\n",
            "Wall time: 1min 7s\n"
          ],
          "name": "stdout"
        },
        {
          "output_type": "display_data",
          "data": {
            "image/png": "[encoded data removed]",
            "text/plain": [
              "<Figure size 432x288 with 1 Axes>"
            ]
          },
          "metadata": {
            "tags": [],
            "needs_background": "light"
          }
        },
        {
          "output_type": "display_data",
          "data": {
            "image/png": "[encoded data removed]",
            "text/plain": [
              "<Figure size 432x288 with 2 Axes>"
            ]
          },
          "metadata": {
            "tags": [],
            "needs_background": "light"
          }
        },
        {
          "output_type": "display_data",
          "data": {
            "image/png": "[encoded data removed]",
            "text/plain": [
              "<Figure size 432x288 with 2 Axes>"
            ]
          },
          "metadata": {
            "tags": [],
            "needs_background": "light"
          }
        }
      ]
    },
    {
      "cell_type": "markdown",
      "metadata": {
        "id": "uhu5G7dbAeQS"
      },
      "source": [
        "# Summary for Random Forest:\n",
        "    Highest recall acheived: 69.82% at trees_count 25 for X_train_3\n",
        "    Highest accuracy achieved: 89.59% at trees_count 40 for X_train_1\n",
        "    Highest precision achieved: 57.45% at trees_count 14 for X_train\n",
        "    Highest f-score achieved: 42.24% at trees_count 68 for X_train_2\n",
        "    Highest AUC-score achieved: 76.03% at trees_count 68 for X_train_3\n",
        " "
      ]
    },
    {
      "cell_type": "markdown",
      "metadata": {
        "id": "B67agxX7AeQT"
      },
      "source": [
        "______________________________________________________________________________________________________________\n",
        "# Naive Bayes Applied:"
      ]
    },
    {
      "cell_type": "code",
      "metadata": {
        "id": "FT6hw3KuAeQT"
      },
      "source": [
        "def naive(X_train=X_train, y_train=y_train, X_test=X_test, y_test=y_test, model=GaussianNB, scale = False, message=\"Guassian_NB with all training rows\"):\n",
        "    print(\"Scale: \", scale,\"->\", message)\n",
        "    print(\"____________________________________________________________________________________________________\")\n",
        "    if scale:\n",
        "        scaler = RobustScaler()\n",
        "        X_train = scaler.fit_transform(X_train)\n",
        "        X_test = scaler.transform(X_test)\n",
        "    model_clf = model()\n",
        "    model_clf.fit(X_train, y_train)\n",
        "    y_predicted = model_clf.predict(X_test)\n",
        "    print(\"accuracy: \",accuracy_score(y_test, y_predicted))\n",
        "    print(\"recall: \",recall_score(y_test, y_predicted, pos_label=1))\n",
        "    print(\"precision: \",precision_score(y_test, y_predicted, pos_label=1))\n",
        "    print(\"f1_score: \",f1_score(y_test, y_predicted, pos_label=1))\n",
        "    print(\"AUC-Score: \", roc_auc_score(y_test, y_predicted))\n",
        "    cm = confusion_matrix(y_test, y_predicted)\n",
        "    tn, fp, fn, tp = cm.ravel()\n",
        "    print(\"TN:\",tn,\" FP:\", fp, \" FN:\", fn,\"TP:\", tp)\n",
        "    print(confusion_matrix(y_test, y_predicted))\n",
        "    disp = ConfusionMatrixDisplay(confusion_matrix=cm,display_labels=model_clf.classes_)\n",
        "    disp.plot()"
      ],
      "execution_count": null,
      "outputs": []
    },
    {
      "cell_type": "code",
      "metadata": {
        "colab": {
          "base_uri": "https://localhost:8080/",
          "height": 487
        },
        "id": "fEJ55sMiAeQT",
        "outputId": "83943e05-d884-489c-dd57-f809098639de"
      },
      "source": [
        "%%time\n",
        "naive(X_train=X_train, y_train=y_train, X_test=X_test, y_test=y_test, model=GaussianNB, scale = True, message=\"Guassian_NB with all training rows\")\n"
      ],
      "execution_count": null,
      "outputs": [
        {
          "output_type": "stream",
          "text": [
            "Scale:  True -> Guassian_NB with all training rows\n",
            "____________________________________________________________________________________________________\n",
            "accuracy:  0.8569694026226323\n",
            "recall:  0.47198275862068967\n",
            "precision:  0.38898756660746003\n",
            "f1_score:  0.4264849074975657\n",
            "AUC-Score:  0.6889196770662288\n",
            "TN: 6620  FP: 688  FN: 490 TP: 438\n",
            "[[6620  688]\n",
            " [ 490  438]]\n",
            "CPU times: user 237 ms, sys: 15 ms, total: 252 ms\n",
            "Wall time: 252 ms\n"
          ],
          "name": "stdout"
        },
        {
          "output_type": "display_data",
          "data": {
            "image/png": "[encoded data removed]",
            "text/plain": [
              "<Figure size 432x288 with 2 Axes>"
            ]
          },
          "metadata": {
            "tags": [],
            "needs_background": "light"
          }
        }
      ]
    },
    {
      "cell_type": "code",
      "metadata": {
        "colab": {
          "base_uri": "https://localhost:8080/",
          "height": 487
        },
        "id": "gZ8JXTpQAeQU",
        "outputId": "67ebe156-91f2-45e0-d828-0713d38bc68e"
      },
      "source": [
        "%%time\n",
        "naive(X_train=X_train, y_train=y_train, X_test=X_test, y_test=y_test, model=GaussianNB, scale = False, message=\"Guassian_NB with all training rows\")\n"
      ],
      "execution_count": null,
      "outputs": [
        {
          "output_type": "stream",
          "text": [
            "Scale:  False -> Guassian_NB with all training rows\n",
            "____________________________________________________________________________________________________\n",
            "accuracy:  0.8569694026226323\n",
            "recall:  0.47198275862068967\n",
            "precision:  0.38898756660746003\n",
            "f1_score:  0.4264849074975657\n",
            "AUC-Score:  0.6889196770662288\n",
            "TN: 6620  FP: 688  FN: 490 TP: 438\n",
            "[[6620  688]\n",
            " [ 490  438]]\n",
            "CPU times: user 146 ms, sys: 1 ms, total: 147 ms\n",
            "Wall time: 149 ms\n"
          ],
          "name": "stdout"
        },
        {
          "output_type": "display_data",
          "data": {
            "image/png": "[encoded data removed]",
            "text/plain": [
              "<Figure size 432x288 with 2 Axes>"
            ]
          },
          "metadata": {
            "tags": [],
            "needs_background": "light"
          }
        }
      ]
    },
    {
      "cell_type": "code",
      "metadata": {
        "colab": {
          "base_uri": "https://localhost:8080/",
          "height": 487
        },
        "id": "w5ZJF2nnAeQW",
        "outputId": "fc6cae32-c976-4561-84ce-f8586384490f"
      },
      "source": [
        "%%time\n",
        "naive(X_train=X_train_1, y_train=y_train_1, X_test=X_test, y_test=y_test, model=GaussianNB, scale = True, message=\"Guassian_NB with unknown entry training rows removed\")\n"
      ],
      "execution_count": null,
      "outputs": [
        {
          "output_type": "stream",
          "text": [
            "Scale:  True -> Guassian_NB with unknown entry training rows removed\n",
            "____________________________________________________________________________________________________\n",
            "accuracy:  0.8668042739193783\n",
            "recall:  0.4482758620689655\n",
            "precision:  0.4155844155844156\n",
            "f1_score:  0.4313115603939865\n",
            "AUC-Score:  0.6841133004926109\n",
            "TN: 6723  FP: 585  FN: 512 TP: 416\n",
            "[[6723  585]\n",
            " [ 512  416]]\n",
            "CPU times: user 274 ms, sys: 7.04 ms, total: 281 ms\n",
            "Wall time: 285 ms\n"
          ],
          "name": "stdout"
        },
        {
          "output_type": "display_data",
          "data": {
            "image/png": "[encoded data removed]",
            "text/plain": [
              "<Figure size 432x288 with 2 Axes>"
            ]
          },
          "metadata": {
            "tags": [],
            "needs_background": "light"
          }
        }
      ]
    },
    {
      "cell_type": "code",
      "metadata": {
        "colab": {
          "base_uri": "https://localhost:8080/",
          "height": 487
        },
        "id": "gWHijntvAeQW",
        "outputId": "7f3c029d-8a44-40f1-f864-b151ccb406aa"
      },
      "source": [
        "%%time\n",
        "naive(X_train=X_train_1, y_train=y_train_1, X_test=X_test, y_test=y_test, model=GaussianNB, scale = False, message=\"Guassian_NB with unknown entry training rows removed\")\n"
      ],
      "execution_count": null,
      "outputs": [
        {
          "output_type": "stream",
          "text": [
            "Scale:  False -> Guassian_NB with unknown entry training rows removed\n",
            "____________________________________________________________________________________________________\n",
            "accuracy:  0.8668042739193783\n",
            "recall:  0.4482758620689655\n",
            "precision:  0.4155844155844156\n",
            "f1_score:  0.4313115603939865\n",
            "AUC-Score:  0.6841133004926109\n",
            "TN: 6723  FP: 585  FN: 512 TP: 416\n",
            "[[6723  585]\n",
            " [ 512  416]]\n",
            "CPU times: user 103 ms, sys: 3.02 ms, total: 106 ms\n",
            "Wall time: 105 ms\n"
          ],
          "name": "stdout"
        },
        {
          "output_type": "display_data",
          "data": {
            "image/png": "[encoded data removed]",
            "text/plain": [
              "<Figure size 432x288 with 2 Axes>"
            ]
          },
          "metadata": {
            "tags": [],
            "needs_background": "light"
          }
        }
      ]
    },
    {
      "cell_type": "code",
      "metadata": {
        "colab": {
          "base_uri": "https://localhost:8080/",
          "height": 487
        },
        "id": "INGV7wNfAeQW",
        "outputId": "99effa2d-439a-466a-913a-30b5d68d0567"
      },
      "source": [
        "%%time\n",
        "naive(X_train=X_train_2, y_train=y_train_2, X_test=X_test, y_test=y_test, model=GaussianNB, scale = True, message=\"Guassian_NB with unknown entry training rows removed and downsampled\")\n"
      ],
      "execution_count": null,
      "outputs": [
        {
          "output_type": "stream",
          "text": [
            "Scale:  True -> Guassian_NB with unknown entry training rows removed and downsampled\n",
            "____________________________________________________________________________________________________\n",
            "accuracy:  0.8592763477416221\n",
            "recall:  0.46012931034482757\n",
            "precision:  0.3935483870967742\n",
            "f1_score:  0.42424242424242425\n",
            "AUC-Score:  0.6850454980842913\n",
            "TN: 6650  FP: 658  FN: 501 TP: 427\n",
            "[[6650  658]\n",
            " [ 501  427]]\n",
            "CPU times: user 119 ms, sys: 8.02 ms, total: 127 ms\n",
            "Wall time: 124 ms\n"
          ],
          "name": "stdout"
        },
        {
          "output_type": "display_data",
          "data": {
            "image/png": "[encoded data removed]",
            "text/plain": [
              "<Figure size 432x288 with 2 Axes>"
            ]
          },
          "metadata": {
            "tags": [],
            "needs_background": "light"
          }
        }
      ]
    },
    {
      "cell_type": "code",
      "metadata": {
        "colab": {
          "base_uri": "https://localhost:8080/",
          "height": 487
        },
        "id": "hf_e5TWbAeQW",
        "outputId": "308a3e11-2255-468a-b9d8-06e80ce8620e"
      },
      "source": [
        "%%time\n",
        "naive(X_train=X_train_2, y_train=y_train_2, X_test=X_test, y_test=y_test, model=GaussianNB, scale = False, message=\"Guassian_NB with unknown entry training rows removed and downsampled\")\n"
      ],
      "execution_count": null,
      "outputs": [
        {
          "output_type": "stream",
          "text": [
            "Scale:  False -> Guassian_NB with unknown entry training rows removed and downsampled\n",
            "____________________________________________________________________________________________________\n",
            "accuracy:  0.8592763477416221\n",
            "recall:  0.46012931034482757\n",
            "precision:  0.3935483870967742\n",
            "f1_score:  0.42424242424242425\n",
            "AUC-Score:  0.6850454980842913\n",
            "TN: 6650  FP: 658  FN: 501 TP: 427\n",
            "[[6650  658]\n",
            " [ 501  427]]\n",
            "CPU times: user 90.3 ms, sys: 2 ms, total: 92.3 ms\n",
            "Wall time: 91 ms\n"
          ],
          "name": "stdout"
        },
        {
          "output_type": "display_data",
          "data": {
            "image/png": "[encoded data removed]",
            "text/plain": [
              "<Figure size 432x288 with 2 Axes>"
            ]
          },
          "metadata": {
            "tags": [],
            "needs_background": "light"
          }
        }
      ]
    },
    {
      "cell_type": "code",
      "metadata": {
        "colab": {
          "base_uri": "https://localhost:8080/",
          "height": 487
        },
        "id": "-lu6kr3OAeQY",
        "outputId": "c5443efc-c1e6-470c-c2ad-b74fff08eab9"
      },
      "source": [
        "%%time\n",
        "naive(X_train=X_train_3, y_train=y_train_3, X_test=X_test, y_test=y_test, model=GaussianNB, scale = True, message=\"Guassian_NB with unknown entry training rows retained and downsampled\")\n"
      ],
      "execution_count": null,
      "outputs": [
        {
          "output_type": "stream",
          "text": [
            "Scale:  True -> Guassian_NB with unknown entry training rows retained and downsampled\n",
            "____________________________________________________________________________________________________\n",
            "accuracy:  0.8404565322972317\n",
            "recall:  0.5226293103448276\n",
            "precision:  0.35766961651917406\n",
            "f1_score:  0.4246935201401051\n",
            "AUC-Score:  0.701722427476738\n",
            "TN: 6437  FP: 871  FN: 443 TP: 485\n",
            "[[6437  871]\n",
            " [ 443  485]]\n",
            "CPU times: user 124 ms, sys: 4.03 ms, total: 128 ms\n",
            "Wall time: 128 ms\n"
          ],
          "name": "stdout"
        },
        {
          "output_type": "display_data",
          "data": {
            "image/png": "[encoded data removed]",
            "text/plain": [
              "<Figure size 432x288 with 2 Axes>"
            ]
          },
          "metadata": {
            "tags": [],
            "needs_background": "light"
          }
        }
      ]
    },
    {
      "cell_type": "code",
      "metadata": {
        "colab": {
          "base_uri": "https://localhost:8080/",
          "height": 487
        },
        "id": "bAqY_jPCAeQZ",
        "outputId": "dd321145-455c-4239-ec82-7bf4b0af997f"
      },
      "source": [
        "%%time\n",
        "naive(X_train=X_train_3, y_train=y_train_3, X_test=X_test, y_test=y_test, model=GaussianNB, scale = False, message=\"Guassian_NB with unknown entry training rows retained and downsampled\")\n"
      ],
      "execution_count": null,
      "outputs": [
        {
          "output_type": "stream",
          "text": [
            "Scale:  False -> Guassian_NB with unknown entry training rows retained and downsampled\n",
            "____________________________________________________________________________________________________\n",
            "accuracy:  0.8404565322972317\n",
            "recall:  0.5226293103448276\n",
            "precision:  0.35766961651917406\n",
            "f1_score:  0.4246935201401051\n",
            "AUC-Score:  0.701722427476738\n",
            "TN: 6437  FP: 871  FN: 443 TP: 485\n",
            "[[6437  871]\n",
            " [ 443  485]]\n",
            "CPU times: user 94.1 ms, sys: 1.02 ms, total: 95.1 ms\n",
            "Wall time: 91 ms\n"
          ],
          "name": "stdout"
        },
        {
          "output_type": "display_data",
          "data": {
            "image/png": "[encoded data removed]",
            "text/plain": [
              "<Figure size 432x288 with 2 Axes>"
            ]
          },
          "metadata": {
            "tags": [],
            "needs_background": "light"
          }
        }
      ]
    },
    {
      "cell_type": "markdown",
      "metadata": {
        "id": "Jan5ymlaAeQZ"
      },
      "source": [
        "## Summary for Gaussian Naive-Bayes:\n",
        "    Recall acheived: 52.26% for X_train_3 with/without scaling\n",
        "    Accuracy achieved: 86.68% for X_train_1 with/without scaling\n",
        "    Precision achieved: 41.55% for X_train_1 with/without scaling\n",
        "    F-score achieved: 43.13% for X_train_1 with/without scaling\n",
        "    AUC-score achieved: 70.17% for X_train_3 with/without scaling\n",
        "    \n",
        "___________________________________________________"
      ]
    },
    {
      "cell_type": "markdown",
      "metadata": {
        "id": "YWVLP1m_AeQZ"
      },
      "source": [
        "___________________________________________________________________________\n",
        "# Computing Complexities for the various models:"
      ]
    },
    {
      "cell_type": "markdown",
      "metadata": {
        "id": "-L3vZVrpAeQZ"
      },
      "source": [
        "## Decision Tree:    (n = number of training data points, d = number of features in the data)\n",
        "    Time Complexity -> O(n*log(n)*d)   #nlog(n)->to traverse a particular feature\n",
        "    Space Complexity -> O(max_depth)"
      ]
    },
    {
      "cell_type": "markdown",
      "metadata": {
        "id": "kFcvGKQUAeQa"
      },
      "source": [
        "## Random Forest:    (n = number of training data points, d = number of features in the data, k = number of trees)\n",
        "    Time Complexity -> O(n*log(n)*d*k)\n",
        "    Space Complexity -> O(max_depth*k)"
      ]
    },
    {
      "cell_type": "markdown",
      "metadata": {
        "id": "p2vnJg_LAeQa"
      },
      "source": [
        "## Naive Bayes:      (n = number of training data points, d= number of features in the data, c = no. of classess to predict from)\n",
        "    Time Complexity -> O(n*d)\n",
        "    Space Complexity -> O(c*d)\n",
        "_____________________________________________________"
      ]
    },
    {
      "cell_type": "markdown",
      "metadata": {
        "id": "zJrQ66-XAeQa"
      },
      "source": [
        "___________________________________________________________________________________________\n",
        "## Summary with 'Duration' Column retained for Decision Tree:\n",
        "    Highest recall acheived: 96.0% at depth 4 in DT for X_train_2\n",
        "    Highest accuracy achieved: 91.4% at depth 6 in DT for X_train\n",
        "    Highest precision achieved: 65.3% at depth 5 in DT for X_train\n",
        "    Highest f-score achieved: 61.3% at depth 7 in DT for X_train\n",
        "    Highest AUC-score achieved: 87.93% at depth 5 in DT for X_train_2\n",
        "    DT - Decision Tree"
      ]
    },
    {
      "cell_type": "markdown",
      "metadata": {
        "id": "j3SEFplfAeQb"
      },
      "source": [
        "# Evaluation Metric to Compare the Performance of the Three Classifiers\n",
        "\n",
        "| Classifier| Highest Precision | Highest Recall | Highest F-score | Highest Accuracy  | AUC-score | Precision (Max. F-score) | Recall (Max. F-score) | Accuracy (Max. F-score) |\n",
        "|---|---|---|---|---|---|---|---|---|\n",
        "|Decision Tree|70.27%|67.67%| 51.5%| 90.23%|76.03%|43.02%|60.12%|86.55%|\n",
        "|Random Forest|57.45%|69.82%|42.24%|89.59%|76.03%|30.74%|67.45%|79.21%|\n",
        "|Naive Bayes|41.55%|52.26%|43.13%|86.68%|70.17%|41.55%|44.82%|86.68%|\n",
        "|DT - D|65.3%|96.0%|59.53%|91.4%|87.93%|45.34%|86.63%|86.72%|\n",
        "\n",
        "DT - D: Decision Tree with 'Duration' Column Retained     \n",
        "n: Number of training data points     \n",
        "d: Number of features in data     \n",
        "k: Number of trees     \n",
        "c: Number of Classes to predict from     \n",
        "l: Maximum Depth of the tree\n"
      ]
    },
    {
      "cell_type": "markdown",
      "metadata": {
        "id": "IcJrLwaoAeQb"
      },
      "source": [
        "# Final-Selection:\n",
        "    * Each model gives a certain level of best metric scores but at different configurations. However, we need a single classifier which can give us a good trade off between recall and precision.\n",
        "    * If we have a high recall, we are losing out on precison and hence we are able to classify most positives in the test set correctly at the cost of mis-classifying many actual negatives as false positives. This would again increase the time for manual verification.\n",
        "    * If we have a high precision, the we are missing out on classifying many actual positives as true positives leading to loss in buisiness and wasteful usage of resources in getting positive conversions.\n",
        "    * Taking the above two points into consideration, we are opting to go for a trade-off between precision and recall & choose the highest f-score for a model as our model.\n",
        "So, from the above tabulation, the Decision Tree with Accuracy-86.55%, Recall-60.12%, Precision-43.02% could be a possible candidate from the current setting."
      ]
    },
    {
      "cell_type": "markdown",
      "metadata": {
        "id": "wLI3G4RWAeQb"
      },
      "source": [
        "# Possible Improvements:\n",
        "    * We could build a model with 2 models constituted together. \n",
        "      -> The first model would have a high recall to capture maximum positives.\n",
        "      -> The second model would then have a high precision on the positive predictions of the first model to filter out the false positives.\n",
        "    * This approach could lead to a better solution in finally classifying a client would or would not subscribe the term deposit."
      ]
    }
  ]
}